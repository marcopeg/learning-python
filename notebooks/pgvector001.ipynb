{
 "cells": [
  {
   "cell_type": "code",
   "execution_count": 1,
   "id": "3ddc6c20-a705-43fd-a450-845b5a97c330",
   "metadata": {},
   "outputs": [],
   "source": [
    "# Import the connection string to Postgres\n",
    "\n",
    "import os\n",
    "pgstring = os.getenv(\"PGSTRING\")"
   ]
  },
  {
   "cell_type": "code",
   "execution_count": 2,
   "id": "9b64964e-adde-4f6d-bccd-9472ce518229",
   "metadata": {},
   "outputs": [],
   "source": [
    "# Create an active connection to Postgres\n",
    "\n",
    "import psycopg2\n",
    "conn = psycopg2.connect(pgstring)\n",
    "curr = conn.cursor()"
   ]
  },
  {
   "cell_type": "code",
   "execution_count": 3,
   "id": "87e6d6d3-8611-4e48-8885-3a31a57e8617",
   "metadata": {},
   "outputs": [],
   "source": [
    "# Upsert a Postgres table to store vectors\n",
    "\n",
    "curr.execute(\"\"\"\n",
    "DROP TABLE IF EXISTS pgvector001;\n",
    "CREATE TABLE IF NOT EXISTS pgvector001 (\n",
    "  embedding vector(3)\n",
    ");\n",
    "\"\"\")"
   ]
  },
  {
   "cell_type": "code",
   "execution_count": 4,
   "id": "9fc3fa1b-3101-4601-bd27-156833cee56b",
   "metadata": {},
   "outputs": [],
   "source": [
    "\n",
    "curr.execute(\"\"\"\n",
    "INSERT INTO pgvector001 (embedding) VALUES\n",
    "(ARRAY[1, 2, 3]::vector);\n",
    "\"\"\")"
   ]
  },
  {
   "cell_type": "code",
   "execution_count": 5,
   "id": "fffc2c21-a0aa-4e48-a65e-d87c1cfda32e",
   "metadata": {},
   "outputs": [],
   "source": [
    "# Close the cursor and the connection\n",
    "curr.close()\n",
    "conn.close()"
   ]
  },
  {
   "cell_type": "code",
   "execution_count": null,
   "id": "f7add0de-e378-43fb-bdeb-e00dd9592d34",
   "metadata": {},
   "outputs": [],
   "source": []
  }
 ],
 "metadata": {
  "kernelspec": {
   "display_name": "Python 3 (ipykernel)",
   "language": "python",
   "name": "python3"
  },
  "language_info": {
   "codemirror_mode": {
    "name": "ipython",
    "version": 3
   },
   "file_extension": ".py",
   "mimetype": "text/x-python",
   "name": "python",
   "nbconvert_exporter": "python",
   "pygments_lexer": "ipython3",
   "version": "3.9.18"
  }
 },
 "nbformat": 4,
 "nbformat_minor": 5
}
