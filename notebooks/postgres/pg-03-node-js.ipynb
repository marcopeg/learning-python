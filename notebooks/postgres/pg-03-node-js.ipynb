{
 "cells": [
  {
   "cell_type": "markdown",
   "id": "833fca20-0a46-458c-bd09-6be94b3842d1",
   "metadata": {},
   "source": [
    "# Connect to Postgres using NodeJS\n",
    "\n",
    "This notebook shows how to use NodeJS to connect to Postgres using NodeJS"
   ]
  },
  {
   "cell_type": "code",
   "execution_count": 1,
   "id": "77864e60-c03a-4083-b471-3eaa53972773",
   "metadata": {},
   "outputs": [
    {
     "name": "stdout",
     "output_type": "stream",
     "text": [
      "1 rows returned.\n",
      "\n",
      "Time in Postgres is:\n",
      "Sat May 25 2024 07:32:38 GMT+0000 (Coordinated Universal Time)\n"
     ]
    }
   ],
   "source": [
    "const { Client } = require('pg');\n",
    "\n",
    "const client = new Client({\n",
    "  user: 'postgres',\n",
    "  host: 'pgvector',\n",
    "  database: 'postgres',\n",
    "  password: 'postgres',\n",
    "  port: 5432,\n",
    "});\n",
    "\n",
    "client.connect();\n",
    "\n",
    "client.query('SELECT NOW()', (err, res) => {\n",
    "  if (err) {\n",
    "      console.error(err);\n",
    "  } else {\n",
    "      console.log(`${res.rowCount} rows returned.\\n`)\n",
    "      console.log(`Time in Postgres is:\\n${res.rows[0].now}`)\n",
    "  }\n",
    "  client.end();\n",
    "});\n"
   ]
  }
 ],
 "metadata": {
  "kernelspec": {
   "display_name": "JavaScript",
   "language": "javascript",
   "name": "jslab"
  },
  "language_info": {
   "file_extension": ".js",
   "mimetype": "text/javascript",
   "name": "javascript",
   "version": ""
  }
 },
 "nbformat": 4,
 "nbformat_minor": 5
}
