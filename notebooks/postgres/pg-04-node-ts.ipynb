{
 "cells": [
  {
   "cell_type": "markdown",
   "id": "661cd685-434c-4635-9526-f36daf6fd278",
   "metadata": {},
   "source": [
    "# Connect to Postgres using TypeScript\n",
    "\n",
    "This notebook shows how to use NodeJS/TypeScript to connect to Postgres using NodeJS"
   ]
  },
  {
   "cell_type": "code",
   "execution_count": 2,
   "id": "08a99095-e608-4b63-816f-16d893ef9cd5",
   "metadata": {},
   "outputs": [
    {
     "name": "stdout",
     "output_type": "stream",
     "text": [
      "1 rows returned.\n",
      "\n",
      "Time in Postgres is:\n",
      "Sat May 25 2024 07:43:45 GMT+0000 (Coordinated Universal Time)\n"
     ]
    }
   ],
   "source": [
    "import { Client } from 'pg';\n",
    "\n",
    "const client = new Client({\n",
    "  user: 'postgres',\n",
    "  host: 'pgvector',\n",
    "  database: 'postgres',\n",
    "  password: 'postgres',\n",
    "  port: 5432,\n",
    "});\n",
    "\n",
    "client.connect();\n",
    "\n",
    "client.query('SELECT NOW()', (err, res) => {\n",
    "  if (err) {\n",
    "    console.error(err);\n",
    "  } else {\n",
    "    console.log(`${res.rowCount} rows returned.\\n`);\n",
    "    console.log(`Time in Postgres is:\\n${res.rows[0].now}`);\n",
    "  }\n",
    "  client.end();\n",
    "});\n"
   ]
  }
 ],
 "metadata": {
  "kernelspec": {
   "display_name": "TypeScript",
   "language": "typescript",
   "name": "tslab"
  },
  "language_info": {
   "codemirror_mode": {
    "mode": "typescript",
    "name": "javascript",
    "typescript": true
   },
   "file_extension": ".ts",
   "mimetype": "text/typescript",
   "name": "typescript",
   "version": "3.7.2"
  }
 },
 "nbformat": 4,
 "nbformat_minor": 5
}
