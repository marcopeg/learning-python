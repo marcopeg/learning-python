{
 "cells": [
  {
   "cell_type": "markdown",
   "id": "2eb10722-5235-468d-9368-c701df7604b5",
   "metadata": {},
   "source": [
    "# Generate Embeddings with OpenAI\n",
    "\n",
    "https://marcopeg.com/embeddings-and-all-the-black-magic"
   ]
  },
  {
   "cell_type": "code",
   "execution_count": 4,
   "id": "c3c430aa-9c8b-4069-ad03-84f855a52609",
   "metadata": {},
   "outputs": [],
   "source": [
    "# Import OpenAI API Key\n",
    "\n",
    "import os\n",
    "openaiKey = os.getenv(\"OPENAI_API_KEY\")"
   ]
  },
  {
   "cell_type": "code",
   "execution_count": 5,
   "id": "96b0d60b-8747-4985-a6aa-422596a1d0a5",
   "metadata": {},
   "outputs": [],
   "source": [
    "# Configure the OpenAI Client\n",
    "\n",
    "import openai\n",
    "openai.api_key = openaiKey"
   ]
  },
  {
   "cell_type": "code",
   "execution_count": 8,
   "id": "271eabea-d311-4697-b503-148d76fea059",
   "metadata": {},
   "outputs": [],
   "source": [
    "# Run an API call to generate embeddings\n",
    "\n",
    "response = openai.embeddings.create(\n",
    "    model=\"text-embedding-3-small\",\n",
    "    input=\"hello world\",\n",
    "    dimensions=10\n",
    ")"
   ]
  },
  {
   "cell_type": "code",
   "execution_count": 9,
   "id": "63ec0abc-ff07-4303-8637-7ad66027c757",
   "metadata": {},
   "outputs": [
    {
     "data": {
      "text/plain": [
       "[-0.06810886412858963,\n",
       " -0.39582550525665283,\n",
       " 0.3448202311992645,\n",
       " 0.290302574634552,\n",
       " -0.25029245018959045,\n",
       " -0.4242296516895294,\n",
       " -0.30587905645370483,\n",
       " 0.4978361129760742,\n",
       " -0.1406463384628296,\n",
       " -0.1780603975057602]"
      ]
     },
     "execution_count": 9,
     "metadata": {},
     "output_type": "execute_result"
    }
   ],
   "source": [
    "response.data[0].embedding"
   ]
  }
 ],
 "metadata": {
  "kernelspec": {
   "display_name": "Python 3 (ipykernel)",
   "language": "python",
   "name": "python3"
  },
  "language_info": {
   "codemirror_mode": {
    "name": "ipython",
    "version": 3
   },
   "file_extension": ".py",
   "mimetype": "text/x-python",
   "name": "python",
   "nbconvert_exporter": "python",
   "pygments_lexer": "ipython3",
   "version": "3.9.18"
  }
 },
 "nbformat": 4,
 "nbformat_minor": 5
}
