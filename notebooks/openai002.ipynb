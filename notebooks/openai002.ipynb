{
 "cells": [
  {
   "cell_type": "code",
   "execution_count": 9,
   "id": "2acd1440-7bd5-43b7-ba1d-079c3cceb4f2",
   "metadata": {},
   "outputs": [],
   "source": [
    "%run ./functions.ipynb"
   ]
  },
  {
   "cell_type": "code",
   "execution_count": 10,
   "id": "c1209349-719e-4c08-9b28-751f724b09ae",
   "metadata": {},
   "outputs": [],
   "source": [
    "# create schema\n",
    "execute_query(\"\"\"\n",
    "--DROP TABLE IF EXISTS openai002;\n",
    "CREATE TABLE IF NOT EXISTS openai002 (\n",
    "    id SERIAL PRIMARY KEY,\n",
    "    reference TEXT,\n",
    "    content TEXT,\n",
    "    embedding vector(1000)\n",
    ");\n",
    "\"\"\")"
   ]
  },
  {
   "cell_type": "code",
   "execution_count": 11,
   "id": "e7725b96-514b-4ca1-94a9-7cd7e2102cca",
   "metadata": {},
   "outputs": [],
   "source": [
    "def add_page(reference, content):\n",
    "    embedding = generate_embedding(content, dimensions=1000)\n",
    "    return execute_query(\n",
    "        \"INSERT INTO openai002(reference, content, embedding) VALUES (%s, %s, %s) RETURNING *\", \n",
    "        (reference, content, embedding)\n",
    "    )"
   ]
  },
  {
   "cell_type": "code",
   "execution_count": 12,
   "id": "46cf7010-ec66-476c-8185-5d99fefecf09",
   "metadata": {},
   "outputs": [],
   "source": [
    "def search(query, limit = 1):\n",
    "    q1 = generate_embedding(query, dimensions=1000)\n",
    "    return execute_query(\"SELECT id, reference, content FROM openai002 ORDER BY embedding <-> %s::vector LIMIT %s\", [q1, limit]);"
   ]
  },
  {
   "cell_type": "code",
   "execution_count": null,
   "id": "f470418d-05f6-414f-8211-814b46a51d0b",
   "metadata": {},
   "outputs": [],
   "source": [
    "add_page('page1', \"create_user() - this function let you create a new user\")\n",
    "add_page('page1', \"edit_user() - this function let you modify a user\")\n",
    "add_page('page1', \"delete_user() - this function let you delete a user\")\n",
    "\n",
    "add_page('page2', \"create_product() - this function let you create a new product\")\n",
    "add_page('page2', \"edit_product() - this function let you modify a product\")\n",
    "add_page('page2', \"delete_product() - this function let you delete a product\")"
   ]
  },
  {
   "cell_type": "code",
   "execution_count": 6,
   "id": "944378c4-12a7-471e-af8a-0f98798ee10e",
   "metadata": {},
   "outputs": [
    {
     "name": "stdout",
     "output_type": "stream",
     "text": [
      "(1, 'page1', 'create_user() - this function let you create a new user')\n"
     ]
    }
   ],
   "source": [
    "print_rows(search(\"I want to create a new user\"));"
   ]
  },
  {
   "cell_type": "code",
   "execution_count": 7,
   "id": "7e337455-a8ab-4935-9599-554cb35ddd2a",
   "metadata": {},
   "outputs": [
    {
     "name": "stdout",
     "output_type": "stream",
     "text": [
      "(5, 'page2', 'edit_product() - this function let you modify a product')\n"
     ]
    }
   ],
   "source": [
    "print_rows(search(\"I want to change a product\"));"
   ]
  },
  {
   "cell_type": "code",
   "execution_count": 8,
   "id": "df678d17-858f-4320-b188-9f3aafba3a27",
   "metadata": {},
   "outputs": [
    {
     "name": "stdout",
     "output_type": "stream",
     "text": [
      "(6, 'page2', 'delete_product() - this function let you delete a product')\n"
     ]
    }
   ],
   "source": [
    "print_rows(search(\"take away a thing from my inventory\"));"
   ]
  },
  {
   "cell_type": "code",
   "execution_count": 15,
   "id": "6da902dd-0858-4650-9a38-594e73d04ce0",
   "metadata": {},
   "outputs": [
    {
     "name": "stdout",
     "output_type": "stream",
     "text": [
      "(1, 'page1', 'create_user() - this function let you create a new user')\n"
     ]
    }
   ],
   "source": [
    "print_rows(search(\"rimuovi un pezzo di inventario\"));"
   ]
  },
  {
   "cell_type": "code",
   "execution_count": null,
   "id": "8d80ecb5-2978-46ba-b13f-58196e803533",
   "metadata": {},
   "outputs": [],
   "source": []
  }
 ],
 "metadata": {
  "kernelspec": {
   "display_name": "Python 3 (ipykernel)",
   "language": "python",
   "name": "python3"
  },
  "language_info": {
   "codemirror_mode": {
    "name": "ipython",
    "version": 3
   },
   "file_extension": ".py",
   "mimetype": "text/x-python",
   "name": "python",
   "nbconvert_exporter": "python",
   "pygments_lexer": "ipython3",
   "version": "3.9.18"
  }
 },
 "nbformat": 4,
 "nbformat_minor": 5
}
