{
 "cells": [
  {
   "cell_type": "markdown",
   "id": "137905e2-1d85-4368-bee6-6fd039f3751c",
   "metadata": {},
   "source": [
    "## Tool Mocking"
   ]
  },
  {
   "cell_type": "code",
   "execution_count": 65,
   "id": "4e78df8c-64b6-42c9-b128-55c90c77fedf",
   "metadata": {},
   "outputs": [],
   "source": [
    "class MockMathTool:\n",
    "    def __init__(self):\n",
    "        self.name = \"mock_math_tool\"\n",
    "        pass\n",
    "\n",
    "    def invoke(self, args):\n",
    "        return f\"Result: {sum(args)}\"\n"
   ]
  },
  {
   "cell_type": "code",
   "execution_count": 2,
   "id": "a52959d8-bc1a-4fbf-bd66-eaa4f3a43b82",
   "metadata": {},
   "outputs": [
    {
     "name": "stdout",
     "output_type": "stream",
     "text": [
      "Result: 4\n"
     ]
    }
   ],
   "source": [
    "# Test the tool\n",
    "tool = MockMathTool()\n",
    "result = tool.execute(\"sum\", [1, 3])\n",
    "print(result)"
   ]
  },
  {
   "cell_type": "markdown",
   "id": "6bc2b8ca-32bd-40f7-a1d8-865047607d42",
   "metadata": {},
   "source": [
    "## Model Mocking"
   ]
  },
  {
   "cell_type": "code",
   "execution_count": 118,
   "id": "4c4f054a-a66e-4b7c-b394-1ea37345c3fd",
   "metadata": {},
   "outputs": [],
   "source": [
    "from langchain_core.messages import AIMessage\n",
    "\n",
    "class MockChatOpenAI:\n",
    "    def __init__(self, model):\n",
    "        self.model = model\n",
    "        self.calls = 0\n",
    "\n",
    "    def bind_tools(self, tools):\n",
    "        return self\n",
    "\n",
    "    def invoke(self, messages):\n",
    "        self.calls += 1\n",
    "        \n",
    "        if (self.calls > 1):\n",
    "            return AIMessage(f\"AI Response without tools: {messages[-1].content}\")\n",
    "        else:\n",
    "            response = AIMessage(\"AI Response with tools...\")\n",
    "            response.tool_calls = [{\n",
    "                \"name\": \"mock_math_tool\",\n",
    "                \"args\": [1, 2]\n",
    "            }]\n",
    "            return response\n"
   ]
  },
  {
   "cell_type": "code",
   "execution_count": 4,
   "id": "6f64610d-17bb-430e-845f-e76ef549d630",
   "metadata": {},
   "outputs": [
    {
     "name": "stdout",
     "output_type": "stream",
     "text": [
      "Call math tool with op=sum and args=[1, 1]\n"
     ]
    }
   ],
   "source": [
    "llm = MockChatOpenAI(model=\"gpt-3.5-turbo\")\n",
    "response = llm.generate_response(\"how much is 1+1?\")\n",
    "print(response)"
   ]
  },
  {
   "cell_type": "markdown",
   "id": "9f044a56-dac1-4d01-9db5-777bc53f46a8",
   "metadata": {},
   "source": [
    "## Agent"
   ]
  },
  {
   "cell_type": "code",
   "execution_count": 119,
   "id": "52209275-b7fa-4bd6-b372-bed29833e8cd",
   "metadata": {},
   "outputs": [],
   "source": [
    "from typing import TypedDict, Annotated\n",
    "from langchain_core.messages import AnyMessage\n",
    "import operator\n",
    "\n",
    "class AgentState(TypedDict):\n",
    "    messages: Annotated[list[AnyMessage], operator.add]"
   ]
  },
  {
   "cell_type": "code",
   "execution_count": 120,
   "id": "2d621e28-ef1b-466d-8460-9051c3fca1c8",
   "metadata": {},
   "outputs": [],
   "source": [
    "from langgraph.graph import StateGraph, END\n",
    "from langchain_core.messages import SystemMessage, ToolMessage\n",
    "\n",
    "class Agent:\n",
    "    def __init__(self, model, tools, system=\"\"):\n",
    "        self.system = system\n",
    "\n",
    "        # Setup Nodes\n",
    "        graph = StateGraph(AgentState)\n",
    "        graph.add_node(\"llm\", self.call_model)\n",
    "        graph.add_node(\"act\", self.call_action)\n",
    "\n",
    "        # Setup Connections\n",
    "        graph.set_entry_point(\"llm\")\n",
    "        graph.add_conditional_edges(\n",
    "            \"llm\",\n",
    "            self.has_actions,\n",
    "            {True: \"act\", False: END}\n",
    "        )\n",
    "        graph.add_edge(\"act\", \"llm\")\n",
    "\n",
    "        # Setup Properties\n",
    "        self.graph = graph.compile()\n",
    "        self.model = model.bind_tools(tools)\n",
    "        self.tools = {t.name: t for t in tools}\n",
    "        \n",
    "\n",
    "    def call_model(self, state: AgentState):\n",
    "        print(\"Call Model\", state)\n",
    "        full_prompt = [SystemMessage(content=self.system)] + state['messages']\n",
    "        message = self.model.invoke(full_prompt)\n",
    "        return {'messages': [message]}\n",
    "\n",
    "    def call_action(self, state: AgentState):\n",
    "        print(\"Call Action\", state['messages'][-1].tool_calls)\n",
    "        results = []\n",
    "        for t in state['messages'][-1].tool_calls:\n",
    "            if not t['name'] in self.tools:\n",
    "                print(f\"Tool not found: {t['name']}\")\n",
    "                result = f\"Tool not found: {t['name']}\"\n",
    "            else:\n",
    "                print(f\"Calling Tool: {t}\")\n",
    "                result = self.tools[t['name']].invoke(t['args'])\n",
    "            results.append(ToolMessage(tool_call_id=1, name=t['name'], content=str(result)))\n",
    "        return {'messages': results}\n",
    "\n",
    "    def has_actions(self, state: AgentState):\n",
    "        print(f\"Call HasActions: {len(state['messages'][-1].tool_calls) > 0}\")\n",
    "        return len(state['messages'][-1].tool_calls) > 0"
   ]
  },
  {
   "cell_type": "markdown",
   "id": "dbdd436a-faeb-4e28-8db7-90224529d486",
   "metadata": {},
   "source": [
    "## Usage"
   ]
  },
  {
   "cell_type": "code",
   "execution_count": 122,
   "id": "3e1ff94d-3734-4c4e-a905-0f94511c9908",
   "metadata": {},
   "outputs": [
    {
     "name": "stdout",
     "output_type": "stream",
     "text": [
      "Call Model {'messages': [HumanMessage(content='user prompt...')]}\n",
      "Call HasActions: True\n",
      "Call Action [{'name': 'mock_math_tool', 'args': [1, 2]}]\n",
      "Calling Tool: {'name': 'mock_math_tool', 'args': [1, 2]}\n",
      "Call Model {'messages': [HumanMessage(content='user prompt...'), AIMessage(content='AI Response with tools...', tool_calls=[{'name': 'mock_math_tool', 'args': [1, 2]}]), ToolMessage(content='Result: 3', name='mock_math_tool', tool_call_id='1')]}\n",
      "Call HasActions: False\n",
      "RESULT: AI Response without tools: Result: 3\n"
     ]
    }
   ],
   "source": [
    "tool = MockMathTool()\n",
    "model = MockChatOpenAI(model=\"gpt-3.5-turbo\")\n",
    "bot = Agent(model, [tool], \"system prompt....\")\n",
    "\n",
    "from langchain_core.messages import HumanMessage\n",
    "messages = [HumanMessage(content=\"user prompt...\")]\n",
    "result = bot.graph.invoke({\"messages\": messages})\n",
    "print(f\"RESULT: {result['messages'][-1].content}\")"
   ]
  },
  {
   "cell_type": "code",
   "execution_count": 101,
   "id": "18abe138-af4d-4343-8c53-d54875fdde71",
   "metadata": {},
   "outputs": [
    {
     "data": {
      "image/png": "[encoded data removed]",
      "text/plain": [
       "<IPython.core.display.Image object>"
      ]
     },
     "execution_count": 101,
     "metadata": {},
     "output_type": "execute_result"
    }
   ],
   "source": [
    "from IPython.display import Image\n",
    "\n",
    "Image(bot.graph.get_graph().draw_png())"
   ]
  }
 ],
 "metadata": {
  "kernelspec": {
   "display_name": "Python 3 (ipykernel)",
   "language": "python",
   "name": "python3"
  },
  "language_info": {
   "codemirror_mode": {
    "name": "ipython",
    "version": 3
   },
   "file_extension": ".py",
   "mimetype": "text/x-python",
   "name": "python",
   "nbconvert_exporter": "python",
   "pygments_lexer": "ipython3",
   "version": "3.9.19"
  }
 },
 "nbformat": 4,
 "nbformat_minor": 5
}
