{
 "cells": [
  {
   "cell_type": "markdown",
   "id": "95c8e2b4-2217-486d-8156-2d3255cdcf4b",
   "metadata": {},
   "source": [
    "# Manual Agent Scrum\n",
    "This agent will refine a SCRUM story using a SCRUM team"
   ]
  },
  {
   "cell_type": "code",
   "execution_count": 27,
   "id": "86258c32-c292-4389-ac1b-d01a10b480d1",
   "metadata": {},
   "outputs": [],
   "source": [
    "import openai\n",
    "import re\n",
    "import httpx\n",
    "import os\n",
    "from dotenv import load_dotenv\n",
    "\n",
    "_ = load_dotenv()\n",
    "from openai import OpenAI"
   ]
  },
  {
   "cell_type": "code",
   "execution_count": 117,
   "id": "80680609-47f1-4bb5-b810-f5fd626d8fb0",
   "metadata": {},
   "outputs": [],
   "source": [
    "eng_prompt = \"\"\"\n",
    "Your goal is to refine a user story and provide constructive feedback that the PO should use to improve it.\n",
    "You run in a loop of Thought and Output.\n",
    "At the end of the loop you output a Output.\n",
    "Use Thought to describe your thoughts about the question you have been asked.\n",
    "Use Output to ask more information or provide suggestion how to improve the user story  - then return PAUSE.\n",
    "If you have no improvements to suggests or questions, then output PAUSE.\n",
    "\n",
    "Example session:\n",
    "\n",
    "Task: Refine the following story: As a User, I want a button to send a new mail\n",
    "Thought: I would expect a story to provide details regarding the label.\n",
    "Output: The story lacks information about the label of the button\n",
    "PAUSE\n",
    "\n",
    "You will be called again with this:\n",
    "\n",
    "Task: Refine the following story: As a User, I want a button labeled \"send\" to send a new mail\n",
    "\n",
    "You then output:\n",
    "\n",
    "PAUSE\n",
    "\"\"\".strip()\n",
    "\n",
    "po_prompt = \"\"\"\n",
    "Your goal is to improve a User Story based on the feedback that is provided.\n",
    "You run in a loop of Thought and Output.\n",
    "At the end of the loop you output a Output.\n",
    "Use Thought to describe how you plan to improve the user story based on the feedback that is provided.\n",
    "Use Output to return the improved user story  - then return PAUSE.\n",
    "If you have no improvements to apply, then output PAUSE.\n",
    "\n",
    "Example session:\n",
    "\n",
    "Task: Improve the story:\n",
    "\n",
    "Add a button to send email\n",
    "\n",
    "With the feedback:\n",
    "\n",
    "ui/ux: no info about placement\n",
    "frontender: what is the label?\n",
    "\n",
    "Thought: I should provide info regarding placement and label.\n",
    "Output: Add a button labeled \"send mail\" in a prominent area of the page\n",
    "PAUSE\n",
    "\"\"\".strip()"
   ]
  },
  {
   "cell_type": "code",
   "execution_count": 97,
   "id": "cd39fe77-54cb-4c23-901c-49b6389a5373",
   "metadata": {},
   "outputs": [],
   "source": [
    "client = OpenAI()"
   ]
  },
  {
   "cell_type": "code",
   "execution_count": 118,
   "id": "1cbfa31f-9eb0-4899-bcb3-bfb5e5d2c9ea",
   "metadata": {},
   "outputs": [],
   "source": [
    "class Agent:\n",
    "    def __init__(self, prompt, system=\"\"):\n",
    "        self.rge = re.compile('^Output: (.*)$')\n",
    "        self.output=\"\"\n",
    "        self.completion=None\n",
    "        if system:\n",
    "            self.system = f\"{system}\\n{prompt}\"\n",
    "        else:\n",
    "            self.system = prompt\n",
    "        self.reset()\n",
    "        \n",
    "\n",
    "    def __call__(self, message):\n",
    "        self.output=\"\"\n",
    "        self.messages.append({\"role\":\"user\", \"content\":message})\n",
    "        result = self.execute()\n",
    "        self.messages.append({\"role\":\"assistant\", \"content\": result})\n",
    "\n",
    "        outputs = [\n",
    "            self.rge.match(a) \n",
    "            for a in result.split('\\n') \n",
    "            if self.rge.match(a)\n",
    "        ]\n",
    "\n",
    "        if outputs:\n",
    "            self.output=outputs[0].group(1)\n",
    "\n",
    "    def execute(self):\n",
    "        self.completion = client.chat.completions.create(\n",
    "            model=\"gpt-3.5-turbo\",\n",
    "            messages=self.messages\n",
    "        )\n",
    "        return self.completion.choices[0].message.content\n",
    "\n",
    "    def reset(self):\n",
    "        self.messages = [{\"role\":\"system\", \"content\": self.system}]"
   ]
  },
  {
   "cell_type": "code",
   "execution_count": 119,
   "id": "0e3b23a2-8c98-4d83-adda-5c081d0523ea",
   "metadata": {},
   "outputs": [],
   "source": [
    "# Agents:\n",
    "po = Agent(po_prompt, \"You are an expert Product Owner. You can modify a user story based on multiple feedback from different team members.\")\n",
    "ux = Agent(eng_prompt, \"You are an expert UI/UX desiner. Your focus is to facilitate user experience and disambiguate user interfaces.\")\n",
    "fe = Agent(eng_prompt, \"You are an expert Frontend Engineer. You master React and MUI. Your focus is to disambiguate user stories so that the implementation will run smootly.\");\n",
    "\n",
    "story = \"Add a button to send a new mail\""
   ]
  },
  {
   "cell_type": "code",
   "execution_count": 120,
   "id": "adf80d33-829c-48a8-b4fc-69f9cb9d1b36",
   "metadata": {},
   "outputs": [],
   "source": [
    "# Run the refinement loop:\n",
    "ux(story)\n",
    "fe(story)"
   ]
  },
  {
   "cell_type": "code",
   "execution_count": 122,
   "id": "5c3ecaeb-3887-4e3c-be9a-7e5049311208",
   "metadata": {},
   "outputs": [],
   "source": [
    "# Collect feedback\n",
    "feedback=[]\n",
    "feedback.append(f\"The designer (ui/ux) suggests: {ux.output}\") if ux.output else None\n",
    "feedback.append(f\"The frontend developer suggests: {fe.output}\") if fe.output else None\n",
    "feedback=\"\\n\".join(feedback)"
   ]
  },
  {
   "cell_type": "code",
   "execution_count": 123,
   "id": "13e4f252-892f-4e9c-abc5-2939eb1f92dd",
   "metadata": {},
   "outputs": [],
   "source": [
    "po(f\"Improve the story:\\n\\n{story}\\n\\nbased on the following feedback:\\n\\n{feedback}\")"
   ]
  },
  {
   "cell_type": "code",
   "execution_count": 124,
   "id": "0593178a-cc84-4a0c-bcfd-41a35c11645b",
   "metadata": {},
   "outputs": [
    {
     "data": {
      "text/plain": [
       "'Add a \"Send New Mail\" button in the header section of the email composition page.'"
      ]
     },
     "execution_count": 124,
     "metadata": {},
     "output_type": "execute_result"
    }
   ],
   "source": [
    "po.output"
   ]
  },
  {
   "cell_type": "code",
   "execution_count": 125,
   "id": "6ccc8bea-258c-444d-90d9-ec5210a7be97",
   "metadata": {},
   "outputs": [],
   "source": [
    "# Run the refinement loop:\n",
    "ux(po.output)\n",
    "fe(po.output)"
   ]
  },
  {
   "cell_type": "code",
   "execution_count": 126,
   "id": "67f94949-0825-47c0-b217-00dfc2feaa37",
   "metadata": {},
   "outputs": [
    {
     "data": {
      "text/plain": [
       "''"
      ]
     },
     "execution_count": 126,
     "metadata": {},
     "output_type": "execute_result"
    }
   ],
   "source": [
    "# Collect feedback\n",
    "feedback=[]\n",
    "feedback.append(f\"The designer (ui/ux) suggests: {ux.output}\") if ux.output else None\n",
    "feedback.append(f\"The frontend developer suggests: {fe.output}\") if fe.output else None\n",
    "feedback=\"\\n\".join(feedback)\n",
    "feedback"
   ]
  },
  {
   "cell_type": "code",
   "execution_count": 129,
   "id": "c459a34c-d8aa-4320-8c80-718a1f792b8b",
   "metadata": {},
   "outputs": [],
   "source": [
    "def improve(original_story, max_rounds=3):\n",
    "    # Agents\n",
    "    po = Agent(po_prompt, \"You are an expert Product Owner. You can modify a user story based on multiple feedback from different team members.\")\n",
    "    ux = Agent(eng_prompt, \"You are an expert UI/UX desiner. Your focus is to facilitate user experience and disambiguate user interfaces.\")\n",
    "    fe = Agent(eng_prompt, \"You are an expert Frontend Engineer. You master React and MUI. Your focus is to disambiguate user stories so that the implementation will run smootly.\");\n",
    "\n",
    "    # Counter\n",
    "    i=0\n",
    "    story=original_story\n",
    "\n",
    "    while i<max_rounds:\n",
    "        i+=1\n",
    "        print(f\"Round: {i}\")\n",
    "\n",
    "        # Collect feedback\n",
    "        ux(story)\n",
    "        fe(story)\n",
    "        feedback=[]\n",
    "        feedback.append(f\"The designer (ui/ux) suggests: {ux.output}\") if ux.output else None\n",
    "        feedback.append(f\"The frontend developer suggests: {fe.output}\") if fe.output else None\n",
    "\n",
    "        if feedback:\n",
    "            feedback=\"\\n\".join(feedback)\n",
    "            print(f\"Improve story based on feedback\\n:{feedback}\")\n",
    "            po(f\"Improve the story:\\n\\n{story}\\n\\nbased on the following feedback:\\n\\n{feedback}\")\n",
    "\n",
    "            if (po.output):\n",
    "                story=po.output\n",
    "            else:\n",
    "                print(\"Po has no improvements to suggest\")\n",
    "                return story\n",
    "        else:\n",
    "            print(\"No feedback from the team\")\n",
    "            return story"
   ]
  },
  {
   "cell_type": "code",
   "execution_count": 130,
   "id": "1d035c24-54fb-42c5-be95-42febb5aea3c",
   "metadata": {},
   "outputs": [
    {
     "name": "stdout",
     "output_type": "stream",
     "text": [
      "Round: 1\n",
      "Improve story based on feedback\n",
      ":The designer (ui/ux) suggests: I suggest adding more details about the mail sending process or any specific requirements the button should meet.\n",
      "The frontend developer suggests: Please provide more specific details such as where the button should be placed, what should happen when it is clicked, and any specific requirements for the button design.\n",
      "Round: 2\n",
      "No feedback from the team\n"
     ]
    },
    {
     "data": {
      "text/plain": [
       "'Add a prominent button labeled \"Send New Mail\" at the top right corner of the screen. When clicked, it should open a new email composition window with predefined fields for the recipient, subject, and body.'"
      ]
     },
     "execution_count": 130,
     "metadata": {},
     "output_type": "execute_result"
    }
   ],
   "source": [
    "improve(\"Add a button to send a new mail\")"
   ]
  }
 ],
 "metadata": {
  "kernelspec": {
   "display_name": "Python 3 (ipykernel)",
   "language": "python",
   "name": "python3"
  },
  "language_info": {
   "codemirror_mode": {
    "name": "ipython",
    "version": 3
   },
   "file_extension": ".py",
   "mimetype": "text/x-python",
   "name": "python",
   "nbconvert_exporter": "python",
   "pygments_lexer": "ipython3",
   "version": "3.9.19"
  }
 },
 "nbformat": 4,
 "nbformat_minor": 5
}
