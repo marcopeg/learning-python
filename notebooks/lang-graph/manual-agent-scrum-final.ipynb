{
 "cells": [
  {
   "cell_type": "code",
   "execution_count": 1,
   "id": "840b5db4-7d31-4874-b19d-392bfbc017a6",
   "metadata": {},
   "outputs": [],
   "source": [
    "import openai\n",
    "import re\n",
    "import httpx\n",
    "import os\n",
    "\n",
    "# Load Env vars (OPENAI_API_KEY)\n",
    "from dotenv import load_dotenv\n",
    "_ = load_dotenv()\n",
    "\n",
    "# Create a client for OpenAI\n",
    "from openai import OpenAI\n",
    "client = OpenAI()"
   ]
  },
  {
   "cell_type": "code",
   "execution_count": 2,
   "id": "ca1125f9-2097-4fa8-94cf-f625a1281264",
   "metadata": {},
   "outputs": [],
   "source": [
    "class Agent:\n",
    "    def __init__(self, prompt, system=\"\"):\n",
    "        self.rge = re.compile('^Output: (.*)$')\n",
    "        self.output=\"\"\n",
    "        self.completion=None\n",
    "        if system:\n",
    "            self.system = f\"{system}\\n{prompt}\"\n",
    "        else:\n",
    "            self.system = prompt\n",
    "        self.reset()\n",
    "        \n",
    "\n",
    "    def __call__(self, message):\n",
    "        self.output=\"\"\n",
    "        self.messages.append({\"role\":\"user\", \"content\":message})\n",
    "        result = self.execute()\n",
    "        self.messages.append({\"role\":\"assistant\", \"content\": result})\n",
    "\n",
    "        outputs = [\n",
    "            self.rge.match(a) \n",
    "            for a in result.split('\\n') \n",
    "            if self.rge.match(a)\n",
    "        ]\n",
    "\n",
    "        if outputs:\n",
    "            self.output=outputs[0].group(1)\n",
    "\n",
    "    def execute(self):\n",
    "        self.completion = client.chat.completions.create(\n",
    "            model=\"gpt-3.5-turbo\",\n",
    "            messages=self.messages\n",
    "        )\n",
    "        return self.completion.choices[0].message.content\n",
    "\n",
    "    def reset(self):\n",
    "        self.messages = [{\"role\":\"system\", \"content\": self.system}]"
   ]
  },
  {
   "cell_type": "code",
   "execution_count": 3,
   "id": "091cebc4-220f-45c8-86da-5d1aafac5563",
   "metadata": {},
   "outputs": [],
   "source": [
    "eng_prompt = \"\"\"\n",
    "Your goal is to refine a user story and provide constructive feedback that the PO should use to improve it.\n",
    "You run in a loop of Thought and Output.\n",
    "At the end of the loop you output a Output.\n",
    "Use Thought to describe your thoughts about the question you have been asked.\n",
    "Use Output to ask more information or provide suggestion how to improve the user story  - then return PAUSE.\n",
    "If you have no improvements to suggests or questions, then output PAUSE.\n",
    "\n",
    "Example session:\n",
    "\n",
    "Task: Refine the following story: As a User, I want a button to send a new mail\n",
    "Thought: I would expect a story to provide details regarding the label.\n",
    "Output: The story lacks information about the label of the button\n",
    "PAUSE\n",
    "\n",
    "You will be called again with this:\n",
    "\n",
    "Task: Refine the following story: As a User, I want a button labeled \"send\" to send a new mail\n",
    "\n",
    "You then output:\n",
    "\n",
    "PAUSE\n",
    "\"\"\".strip()"
   ]
  },
  {
   "cell_type": "code",
   "execution_count": 4,
   "id": "edf36e6b-8d35-435b-a113-596c6b1f33fd",
   "metadata": {},
   "outputs": [],
   "source": [
    "po_prompt = \"\"\"\n",
    "Your goal is to improve a User Story based on the feedback that is provided.\n",
    "You run in a loop of Thought and Output.\n",
    "At the end of the loop you output a Output.\n",
    "Use Thought to describe how you plan to improve the user story based on the feedback that is provided.\n",
    "Use Output to return the improved user story  - then return PAUSE.\n",
    "If you have no improvements to apply, then output PAUSE.\n",
    "\n",
    "Example session:\n",
    "\n",
    "Task: Improve the story:\n",
    "\n",
    "Add a button to send email\n",
    "\n",
    "With the feedback:\n",
    "\n",
    "ui/ux: no info about placement\n",
    "frontender: what is the label?\n",
    "\n",
    "Thought: I should provide info regarding placement and label.\n",
    "Output: Add a button labeled \"send mail\" in a prominent area of the page\n",
    "PAUSE\n",
    "\"\"\".strip()"
   ]
  },
  {
   "cell_type": "code",
   "execution_count": 5,
   "id": "1aa56ac8-0593-44f9-8380-76bd96fcbaf1",
   "metadata": {},
   "outputs": [],
   "source": [
    "def scrum_improve_story(original_story, max_rounds=3):\n",
    "    # Agents\n",
    "    po = Agent(po_prompt, \"You are an expert Product Owner. You can modify a user story based on multiple feedback from different team members.\")\n",
    "    ux = Agent(eng_prompt, \"You are an expert UI/UX desiner. Your focus is to facilitate user experience and disambiguate user interfaces.\")\n",
    "    fe = Agent(eng_prompt, \"You are an expert Frontend Engineer. You master React and MUI. Your focus is to disambiguate user stories so that the implementation will run smootly.\");\n",
    "\n",
    "    # Counter\n",
    "    i=0\n",
    "    story=original_story\n",
    "\n",
    "    while i<max_rounds:\n",
    "        i+=1\n",
    "        print(f\"Round: {i}\")\n",
    "\n",
    "        # Collect feedback\n",
    "        ux(story)\n",
    "        fe(story)\n",
    "        feedback=[]\n",
    "        feedback.append(f\"The designer (ui/ux) suggests: {ux.output}\") if ux.output else None\n",
    "        feedback.append(f\"The frontend developer suggests: {fe.output}\") if fe.output else None\n",
    "\n",
    "        if feedback:\n",
    "            feedback=\"\\n\".join(feedback)\n",
    "            print(f\"Improve story based on feedback\\n:{feedback}\")\n",
    "            po(f\"Improve the story:\\n\\n{story}\\n\\nbased on the following feedback:\\n\\n{feedback}\")\n",
    "\n",
    "            if (po.output):\n",
    "                story=po.output\n",
    "            else:\n",
    "                print(\"Po has no improvements to suggest\")\n",
    "                return story\n",
    "        else:\n",
    "            print(\"No feedback from the team\")\n",
    "            return story"
   ]
  },
  {
   "cell_type": "code",
   "execution_count": 6,
   "id": "2e770f7e-0995-4305-943b-64b31e5074a7",
   "metadata": {},
   "outputs": [
    {
     "name": "stdout",
     "output_type": "stream",
     "text": [
      "Round: 1\n",
      "Improve story based on feedback\n",
      ":The designer (ui/ux) suggests: Can you provide more details on where the button should be placed on the interface and what action should occur after the button is clicked?\n",
      "The frontend developer suggests: Please provide more information about who the user is and where the button should be placed.\n",
      "Round: 2\n",
      "No feedback from the team\n"
     ]
    },
    {
     "data": {
      "text/plain": [
       "'Add a \"Send New Mail\" button in the top right corner of the email composition interface, visible after filling out the recipient and subject fields. This button should trigger the sending of the composed email.'"
      ]
     },
     "execution_count": 6,
     "metadata": {},
     "output_type": "execute_result"
    }
   ],
   "source": [
    "story = scrum_improve_story(\"Add a button to send a new mail\")\n",
    "story"
   ]
  }
 ],
 "metadata": {
  "kernelspec": {
   "display_name": "Python 3 (ipykernel)",
   "language": "python",
   "name": "python3"
  },
  "language_info": {
   "codemirror_mode": {
    "name": "ipython",
    "version": 3
   },
   "file_extension": ".py",
   "mimetype": "text/x-python",
   "name": "python",
   "nbconvert_exporter": "python",
   "pygments_lexer": "ipython3",
   "version": "3.9.19"
  }
 },
 "nbformat": 4,
 "nbformat_minor": 5
}
