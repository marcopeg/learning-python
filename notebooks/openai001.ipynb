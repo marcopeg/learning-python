{
 "cells": [
  {
   "cell_type": "code",
   "execution_count": 64,
   "id": "db777190-2cf2-4681-9f45-b96d89a065b6",
   "metadata": {},
   "outputs": [],
   "source": [
    "%run ./functions.ipynb"
   ]
  },
  {
   "cell_type": "code",
   "execution_count": 65,
   "id": "93c6d654-d06a-42a9-ac2f-7f7489ee486c",
   "metadata": {},
   "outputs": [],
   "source": [
    "# create schema\n",
    "execute_query(\"\"\"\n",
    "DROP TABLE IF EXISTS openai001;\n",
    "CREATE TABLE IF NOT EXISTS openai001 (\n",
    "    id SERIAL PRIMARY KEY,\n",
    "    content TEXT,\n",
    "    embedding vector(100)\n",
    ");\n",
    "\"\"\")"
   ]
  },
  {
   "cell_type": "code",
   "execution_count": 63,
   "id": "5968d602-639a-42cd-b284-b30ef641b003",
   "metadata": {},
   "outputs": [],
   "source": [
    "# convert embedding\n",
    "\n",
    "content = \"Example text to embed\"\n",
    "embedding = generate_embedding(content, dimensions=100)"
   ]
  },
  {
   "cell_type": "code",
   "execution_count": 66,
   "id": "1ce76789-065c-4025-b6d1-ff982e8bff4f",
   "metadata": {},
   "outputs": [
    {
     "name": "stdout",
     "output_type": "stream",
     "text": [
      "(1, 'Example text to embed', '[-0.029291527,-0.0011214678,-0.05261806,0.011778443,-0.028103378,-0.18088974,0.09228771,-0.011814815,0.042094447,0.08583776,0.121142775,-0.026284782,-0.029121792,-0.08418889,0.0651785,0.13026,-0.064160086,0.038360264,-0.02499964,0.21357597,-0.0017140273,0.043403838,-0.106690995,0.15431398,0.0048889937,-0.02067138,-0.019616595,0.104169205,0.18632127,-0.05038725,-0.019398363,-0.13394569,0.02558159,-0.091560274,-0.11241351,0.08258853,0.15799966,0.10824286,-0.0044404063,-0.05436391,0.0900084,-0.032565,0.051017694,0.14083211,0.008426164,0.07963028,-0.14509976,-0.06260822,0.048520155,0.25062686,-0.01457302,-0.018573932,-0.025193624,-0.028345857,-0.11503229,-0.007807841,-0.123567574,0.23646604,-0.043112863,-0.026357526,0.03094039,0.054897368,-0.027448684,0.100677505,0.019095263,-0.0013988038,0.0023853923,0.10960075,-0.015846038,0.03605671,0.1908799,0.06978561,-0.1137714,0.09063885,0.071095,-0.048374668,-0.08898999,0.09922262,-0.046071112,-0.19417761,0.10116246,0.032152787,-0.22114134,2.2377262e-06,-0.14170504,0.09199674,-0.18535136,0.12104578,-0.17293641,-0.006143825,-0.12608936,-0.1859333,-0.041148778,-0.16255829,0.10853384,0.11978489,-0.15538089,-0.057419155,-0.013009027,0.05164814]')\n"
     ]
    }
   ],
   "source": [
    "# store embedding\n",
    "\n",
    "res = execute_query(\n",
    "    \"INSERT INTO openai001 (content, embedding) VALUES (%s, %s) RETURNING *\", \n",
    "    (content, embedding)\n",
    ")\n",
    "\n",
    "print_rows(res)"
   ]
  }
 ],
 "metadata": {
  "kernelspec": {
   "display_name": "Python 3 (ipykernel)",
   "language": "python",
   "name": "python3"
  },
  "language_info": {
   "codemirror_mode": {
    "name": "ipython",
    "version": 3
   },
   "file_extension": ".py",
   "mimetype": "text/x-python",
   "name": "python",
   "nbconvert_exporter": "python",
   "pygments_lexer": "ipython3",
   "version": "3.9.18"
  }
 },
 "nbformat": 4,
 "nbformat_minor": 5
}
