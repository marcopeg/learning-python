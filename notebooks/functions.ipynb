{
 "cells": [
  {
   "cell_type": "code",
   "execution_count": 1,
   "id": "0f5af128-3069-471c-ad46-9d3af688757b",
   "metadata": {},
   "outputs": [],
   "source": [
    "# execute_query()\n",
    "\n",
    "import os\n",
    "import psycopg2\n",
    "\n",
    "pgstring = os.getenv(\"PGSTRING\")\n",
    "\n",
    "def execute_query(query, params=None):\n",
    "    \"\"\"\n",
    "    Executes a SQL query on a PostgreSQL database.\n",
    "\n",
    "    :param query: SQL query to execute\n",
    "    :param params: Tuple of parameters to pass to the query, if any\n",
    "    :return: The result of the query execution or None\n",
    "    \"\"\"\n",
    "    # Establish a connection to the database\n",
    "    conn = psycopg2.connect(pgstring)\n",
    "    # Create a cursor object\n",
    "    cur = conn.cursor()\n",
    "\n",
    "    # Execute the query\n",
    "    if params:\n",
    "        cur.execute(query, params)\n",
    "    else:\n",
    "        cur.execute(query)\n",
    "\n",
    "    # Attempt to fetch the results (works for SELECT or action queries with RETURNING)\n",
    "    try:\n",
    "        result = cur.fetchall()\n",
    "        conn.commit()  # Commit is safe even if there's nothing to commit\n",
    "    except psycopg2.ProgrammingError:\n",
    "        # No results to fetch\n",
    "        conn.commit()\n",
    "        result = None\n",
    "\n",
    "    # Close the cursor and the connection\n",
    "    cur.close()\n",
    "    conn.close()\n",
    "\n",
    "    return result\n"
   ]
  },
  {
   "cell_type": "code",
   "execution_count": 2,
   "id": "2d5f7684-80a0-4a01-9139-18c68705a6e5",
   "metadata": {},
   "outputs": [],
   "source": [
    "# print_rows()\n",
    "\n",
    "def print_rows(rows):\n",
    "    for row in rows:\n",
    "        print(row)"
   ]
  },
  {
   "cell_type": "code",
   "execution_count": 3,
   "id": "3072b2d2-6c7d-4336-96a5-61bd25c595f1",
   "metadata": {},
   "outputs": [],
   "source": [
    "# generate_embedding()\n",
    "\n",
    "import os\n",
    "import openai\n",
    "\n",
    "openaiKey = os.getenv(\"OPENAI_API_KEY\")\n",
    "\n",
    "def generate_embedding(content, dimensions=100):\n",
    "    \"\"\"\n",
    "    Generates an embedding for the given text content using OpenAI's API.\n",
    "\n",
    "    :param content: The text to generate an embedding for.\n",
    "    :param dimensions: The size of the embedding vector (default 100).\n",
    "    :return: The embedding as a list of floats.\n",
    "    \"\"\"\n",
    "    openai.api_key = openaiKey\n",
    "    response = openai.embeddings.create(\n",
    "        model=\"text-embedding-3-small\",\n",
    "        input=content,\n",
    "        dimensions=dimensions\n",
    "    )\n",
    "    return response.data[0].embedding"
   ]
  }
 ],
 "metadata": {
  "kernelspec": {
   "display_name": "Python 3 (ipykernel)",
   "language": "python",
   "name": "python3"
  },
  "language_info": {
   "codemirror_mode": {
    "name": "ipython",
    "version": 3
   },
   "file_extension": ".py",
   "mimetype": "text/x-python",
   "name": "python",
   "nbconvert_exporter": "python",
   "pygments_lexer": "ipython3",
   "version": "3.9.18"
  }
 },
 "nbformat": 4,
 "nbformat_minor": 5
}
