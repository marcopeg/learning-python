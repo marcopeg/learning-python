{
 "cells": [
  {
   "cell_type": "markdown",
   "id": "83c6aa41-adfc-414b-acb7-7e1fee054e0f",
   "metadata": {},
   "source": [
    "# Connect To Postgres\n",
    "\n",
    "This book shows a simple example how to connect to Postgres and run a query."
   ]
  },
  {
   "cell_type": "code",
   "execution_count": 4,
   "id": "241a33ef-7fa5-4a86-a0dd-6f5dc31ccb65",
   "metadata": {},
   "outputs": [],
   "source": [
    "import os\n",
    "import psycopg2"
   ]
  },
  {
   "cell_type": "code",
   "execution_count": 5,
   "id": "f63f237e-fa93-4292-bd57-a89555103ded",
   "metadata": {},
   "outputs": [],
   "source": [
    "database_url = os.getenv(\"PGSTRING\")"
   ]
  },
  {
   "cell_type": "code",
   "execution_count": 6,
   "id": "93c6d654-d06a-42a9-ac2f-7f7489ee486c",
   "metadata": {},
   "outputs": [
    {
     "name": "stdout",
     "output_type": "stream",
     "text": [
      "(datetime.datetime(2024, 4, 11, 7, 19, 33, 444192, tzinfo=datetime.timezone.utc),)\n"
     ]
    }
   ],
   "source": [
    "# Create a cursor object\n",
    "conn = psycopg2.connect(database_url)\n",
    "cur = conn.cursor()\n",
    "\n",
    "# Execute a query\n",
    "cur.execute(\"SELECT NOW()\")\n",
    "\n",
    "# Fetch the results\n",
    "rows = cur.fetchall()\n",
    "for row in rows:\n",
    "    print(row)\n",
    "\n",
    "\n",
    "cur.close()\n",
    "conn.close()\n"
   ]
  }
 ],
 "metadata": {
  "kernelspec": {
   "display_name": "Python 3 (ipykernel)",
   "language": "python",
   "name": "python3"
  },
  "language_info": {
   "codemirror_mode": {
    "name": "ipython",
    "version": 3
   },
   "file_extension": ".py",
   "mimetype": "text/x-python",
   "name": "python",
   "nbconvert_exporter": "python",
   "pygments_lexer": "ipython3",
   "version": "3.9.18"
  }
 },
 "nbformat": 4,
 "nbformat_minor": 5
}
