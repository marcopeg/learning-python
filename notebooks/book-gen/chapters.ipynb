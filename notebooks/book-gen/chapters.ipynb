{
 "cells": [
  {
   "cell_type": "code",
   "execution_count": 4,
   "id": "5505c937-5136-4bbb-b0ab-adeab78df96e",
   "metadata": {},
   "outputs": [],
   "source": [
    "import os\n",
    "import openai\n",
    "\n",
    "openai.api_key = os.getenv(\"OPENAI_API_KEY\")"
   ]
  },
  {
   "cell_type": "code",
   "execution_count": 5,
   "id": "0c8898a4-bbd5-4ea6-a374-b31d846070db",
   "metadata": {},
   "outputs": [],
   "source": [
    "import json\n",
    "\n",
    "# Specify the filename\n",
    "filename = 'book_outline.json'\n",
    "\n",
    "# Load JSON data from a file\n",
    "with open(filename, 'r') as file:\n",
    "    loaded_data = json.load(file)\n",
    "\n"
   ]
  },
  {
   "cell_type": "code",
   "execution_count": 9,
   "id": "d726fdb1-2ee8-41f9-98a6-24eb04259f50",
   "metadata": {},
   "outputs": [],
   "source": [
    "def generate_chapter(chapter_title, section_title, full_json):\n",
    "    response = openai.chat.completions.create(\n",
    "        model=\"gpt-3.5-turbo\",\n",
    "        #max_tokens=200,\n",
    "        messages=[\n",
    "            {\n",
    "                \"role\": \"system\",\n",
    "                \"content\": \"You are an expert historian that specializes in building book projects. Your task is to generate a chapter content for the given context.\"\n",
    "            },\n",
    "            {\n",
    "                \"role\": \"system\",\n",
    "                \"content\": \"The tone of voice should be like an adventurous book with a hint of mystery. The text should read like an entertaining but factfull story.\"\n",
    "            },\n",
    "            {\n",
    "                \"role\": \"user\",\n",
    "                \"content\": f\"Generate an introduction for the chapter: {chapter_title} of the section {section_title} using this book outline as context {full_json}\"\n",
    "            }\n",
    "        ]\n",
    "    )\n",
    "    return response.choices[0].message.content.strip()"
   ]
  },
  {
   "cell_type": "code",
   "execution_count": 10,
   "id": "9c516c0a-34f7-49c6-9c56-ea22a003c93c",
   "metadata": {},
   "outputs": [
    {
     "data": {
      "text/plain": [
       "'Chapter Title: The Crusades Begin\\n\\nIntroduction:\\n\\nIn the annals of history, there exist tales of daring knights, mysterious orders, and epic battles that shaped the fate of nations. One such legendary group, shrouded in secrecy and cloaked in mystique, is the enigmatic Templar Knights. Step into the shadows of the past as we unravel the origins and rise of these formidable warriors. Our journey begins amidst the tumultuous era when the Crusades ignited the flames of conflict and destiny.\\n\\nEmerging from the mists of time, the Templar Knights were destined for greatness, their path intertwined with the tumultuous events that would forever alter the course of history. As the clash between East and West loomed on the horizon, these valiant knights stood ready to defend the Holy Land against all who would seek to desecrate its sacred soil.\\n\\nJoin us on a quest through the sands of time, where alliances are forged, secrets are whispered in the corridors of power, and the fate of kingdoms hangs in the balance. The Crusades Begin, and with it, the Templar Knights rise to meet their destiny amidst a landscape fraught with danger, intrigue, and the echoes of a bygone age.'"
      ]
     },
     "execution_count": 10,
     "metadata": {},
     "output_type": "execute_result"
    }
   ],
   "source": [
    "generate_chapter('The Crusades Begin', 'The Rise of the Templar Knights', loaded_data)\n"
   ]
  }
 ],
 "metadata": {
  "kernelspec": {
   "display_name": "Python 3 (ipykernel)",
   "language": "python",
   "name": "python3"
  },
  "language_info": {
   "codemirror_mode": {
    "name": "ipython",
    "version": 3
   },
   "file_extension": ".py",
   "mimetype": "text/x-python",
   "name": "python",
   "nbconvert_exporter": "python",
   "pygments_lexer": "ipython3",
   "version": "3.9.19"
  }
 },
 "nbformat": 4,
 "nbformat_minor": 5
}
