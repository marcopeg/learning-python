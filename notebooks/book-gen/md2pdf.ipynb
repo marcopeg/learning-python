{
 "cells": [
  {
   "cell_type": "code",
   "execution_count": 6,
   "id": "4c464f7f-0fc7-4970-a7f2-e531f939c395",
   "metadata": {},
   "outputs": [],
   "source": [
    "import os\n",
    "import markdown\n",
    "from weasyprint import HTML, CSS\n",
    "\n",
    "def markdown_to_pdf(source_md):\n",
    "    # Extract the base name and directory from the source path\n",
    "    base_name = os.path.splitext(source_md)[0]\n",
    "    output_pdf = f\"{base_name}.pdf\"\n",
    "\n",
    "    # Load Markdown content from a file\n",
    "    with open(source_md, 'r', encoding='utf-8') as file:\n",
    "        md_content = file.read()\n",
    "\n",
    "    # Replace \"---\" with an HTML page break\n",
    "    md_content = md_content.replace('---', '<div class=\"page-break\"></div>')\n",
    "\n",
    "    # Convert Markdown to HTML\n",
    "    html_content = markdown.markdown(md_content)\n",
    "\n",
    "    # Define CSS for mobile optimization, page breaks, and italics\n",
    "    mobile_css = CSS(string='''\n",
    "        @page { size: 320px 480px; margin: 10px; }\n",
    "        body { font-family: \"Helvetica\", sans-serif; font-size: 12px; }\n",
    "        h1, h2, h3 { font-weight: bold; }\n",
    "        p { line-height: 1.4; }\n",
    "        .page-break { display: block; page-break-before: always; }\n",
    "        em, i { font-style: italic; }  # Ensure italics are rendered as italic\n",
    "    ''')\n",
    "\n",
    "    # Convert HTML to PDF\n",
    "    HTML(string=html_content).write_pdf(output_pdf, stylesheets=[mobile_css])\n",
    "\n",
    "    return output_pdf  # Optionally return the PDF file path\n",
    "\n",
    "# Example usage: markdown_to_pdf('example.md')\n"
   ]
  },
  {
   "cell_type": "code",
   "execution_count": 7,
   "id": "dbe61a16-7fce-4657-bd92-9de0ddaf8cc5",
   "metadata": {},
   "outputs": [
    {
     "data": {
      "text/plain": [
       "'books/javascript-chronicles.pdf'"
      ]
     },
     "execution_count": 7,
     "metadata": {},
     "output_type": "execute_result"
    }
   ],
   "source": [
    "markdown_to_pdf('books/javascript-chronicles.md')"
   ]
  },
  {
   "cell_type": "code",
   "execution_count": 26,
   "id": "0170937d-18a4-479c-90b1-3c528907076c",
   "metadata": {},
   "outputs": [],
   "source": [
    "import os\n",
    "import markdown\n",
    "from weasyprint import HTML, CSS\n",
    "\n",
    "source_md = 'books/javascript-chronicles.md'\n",
    "output_pdf = f\"{os.path.splitext(source_md)[0]}.pdf\"\n",
    "\n",
    "# Load Markdown content from a file\n",
    "with open(source_md, 'r', encoding='utf-8') as file:\n",
    "    md_content = file.read()\n",
    "\n",
    "# Replace \"---\" with an HTML page break\n",
    "md_content = md_content.replace('---', '<div class=\"page-break\"></div>')\n",
    "\n",
    "# Convert Markdown to HTML\n",
    "html_content = markdown.markdown(md_content)\n",
    "#print(html_content)"
   ]
  },
  {
   "cell_type": "code",
   "execution_count": 25,
   "id": "36204d73-df2e-49ab-aaca-d19c3c0e4435",
   "metadata": {},
   "outputs": [],
   "source": [
    "# Define CSS for mobile optimization, page breaks, and italics\n",
    "mobile_css = CSS(string='''\n",
    "@page { size: 320px 480px; margin: 10px; }\n",
    "body { font-family: \"Calibri\", sans-serif; font-size: 12px; }\n",
    "h1, h2, h3 { font-weight: bold; }\n",
    "p { line-height: 1.4; }\n",
    ".page-break { display: block; page-break-before: always; }\n",
    "em, i {  font-style: italic; font-size: 10px }\n",
    "blockquote { font-size: 10px; margin: 0; padding: 0; display: block; border-bottom: 1px solid black; }\n",
    "''')\n",
    "\n",
    "# Convert HTML to PDF\n",
    "HTML(string=html_content).write_pdf(output_pdf, stylesheets=[mobile_css])"
   ]
  }
 ],
 "metadata": {
  "kernelspec": {
   "display_name": "Python 3 (ipykernel)",
   "language": "python",
   "name": "python3"
  },
  "language_info": {
   "codemirror_mode": {
    "name": "ipython",
    "version": 3
   },
   "file_extension": ".py",
   "mimetype": "text/x-python",
   "name": "python",
   "nbconvert_exporter": "python",
   "pygments_lexer": "ipython3",
   "version": "3.9.19"
  }
 },
 "nbformat": 4,
 "nbformat_minor": 5
}
