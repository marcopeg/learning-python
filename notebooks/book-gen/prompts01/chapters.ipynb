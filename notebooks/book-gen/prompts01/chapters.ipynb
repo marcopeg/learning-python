{
 "cells": [
  {
   "cell_type": "code",
   "execution_count": 2,
   "id": "233896c8-dc17-46ed-b1c6-4d3777b9944c",
   "metadata": {},
   "outputs": [],
   "source": [
    "def gen_chapter(settings, book, chapter_id):\n",
    "    step01 = openai_prompt(settings, [\n",
    "        \"You are a researcher that supports factual book writers\",\n",
    "        \"You specialize in developing paragraphs for a specific chapter in a book.\",\n",
    "        f\"Each paragraph should be {settings['paragraph_length']}\",\n",
    "        f\"The tone of voice is {settings['tone_of_voice']}\",\n",
    "        \"\"\"\n",
    "        The output should be in JSON format:\n",
    "        {\n",
    "            \"title\": \"the chapter title goes here\",\n",
    "            \"paragraphs\": [\n",
    "                \"text 01\",\n",
    "                \"text 02\",\n",
    "                ...\n",
    "            ]\n",
    "        }\n",
    "        \"\"\"\n",
    "    ], [\n",
    "        f\"\"\"\n",
    "        This is the layout of the book:\n",
    "        Title: {book['title']}\n",
    "        Subtitle: {book['subtitle']}\n",
    "        Abstract: {book['abstract']}\n",
    "        Keywords: {book['keywords']}\n",
    "        Chapters: {book['chapters']}\n",
    "    \n",
    "        Develop {settings['number_of_paragraphs']} paragraphs for the chapter:\n",
    "        {book['chapters'][chapter_id]}\n",
    "        \"\"\"\n",
    "    ])\n",
    "    \n",
    "    return step01"
   ]
  },
  {
   "cell_type": "code",
   "execution_count": 3,
   "id": "0d7eee7d-dd4e-4388-b08d-bca12bba369d",
   "metadata": {},
   "outputs": [],
   "source": [
    "def gen_chapters(settings, book):\n",
    "    chapters = [];\n",
    "    for idx, chapter in enumerate(book['chapters']):\n",
    "        data = gen_chapter(settings, book, idx);\n",
    "        chapters.append(data);\n",
    "    return chapters;"
   ]
  }
 ],
 "metadata": {
  "kernelspec": {
   "display_name": "Python 3 (ipykernel)",
   "language": "python",
   "name": "python3"
  },
  "language_info": {
   "codemirror_mode": {
    "name": "ipython",
    "version": 3
   },
   "file_extension": ".py",
   "mimetype": "text/x-python",
   "name": "python",
   "nbconvert_exporter": "python",
   "pygments_lexer": "ipython3",
   "version": "3.9.19"
  }
 },
 "nbformat": 4,
 "nbformat_minor": 5
}
