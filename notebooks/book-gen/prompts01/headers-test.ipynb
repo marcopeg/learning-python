{
 "cells": [
  {
   "cell_type": "code",
   "execution_count": 18,
   "id": "84a9eb0b-827a-4707-8ac7-adc60531f928",
   "metadata": {},
   "outputs": [],
   "source": [
    "import json\n",
    "%run ../settings.ipynb\n",
    "%run ../utils/openai-prompt.ipynb\n",
    "%run ../utils/insert-by-key-id.ipynb\n",
    "%run ./headers.ipynb"
   ]
  },
  {
   "cell_type": "code",
   "execution_count": 19,
   "id": "fbc67f48-56df-4bae-aa0b-4981043e6158",
   "metadata": {},
   "outputs": [
    {
     "name": "stdout",
     "output_type": "stream",
     "text": [
      "{\n",
      "  \"title\": \"Veils of Rome\",\n",
      "  \"subtitle\": \"Unraveling the Mysteries and Enigmas of the Ancient Empire\",\n",
      "  \"abstract\": \"Step into the shadowy corridors of Ancient Rome and unlock secrets lost to time. 'Veils of Rome' invites you to explore a world rife with ancient Roman mysteries, from unsolved enigmas and shadowy secret societies to cryptic prophecies and eerie ghost stories. Venture through its five riveting chapters, unveiling the occult practices and supernatural beliefs that shaped the Roman Empire's legendary tales. Whether it's the hidden rituals of powerful cults or the architectural puzzles that defy modern understanding, this book brings you face-to-face with the arcane and the unexplained. Embark on an adventurous journey to decipher the untold myths and conspiracies that wove the intricate tapestry of ancient Rome.\",\n",
      "  \"subject\": \"The Mysteries of Ancient Rome\",\n",
      "  \"keywords\": [\n",
      "    \"ancient Roman mysteries\",\n",
      "    \"unsolved mysteries of ancient Rome\",\n",
      "    \"ancient Roman conspiracy theories\",\n",
      "    \"mysterious events in ancient Rome\",\n",
      "    \"ancient Roman secret societies\",\n",
      "    \"arcane rituals of ancient Rome\",\n",
      "    \"enigmas of ancient Roman history\",\n",
      "    \"ancient Rome unexplainable phenomena\",\n",
      "    \"legendary tales of ancient Rome\",\n",
      "    \"mythical creatures of ancient Rome\",\n",
      "    \"ancient Roman supernatural beliefs\",\n",
      "    \"mythology and mysteries of ancient Rome\",\n",
      "    \"occult practices in ancient Rome\",\n",
      "    \"mysteries of the Roman Empire\",\n",
      "    \"mysterious figures in ancient Rome\",\n",
      "    \"ancient Roman prophecies\",\n",
      "    \"mystery religions in ancient Rome\",\n",
      "    \"ancient Roman ghost stories\",\n",
      "    \"ancient Roman urban legends\",\n",
      "    \"puzzles of ancient Roman architecture\"\n",
      "  ],\n",
      "  \"chapters\": [\n",
      "    \"Chapter 01: Unsolved Mysteries and Enigmatic Events\",\n",
      "    \"Chapter 02: Secret Societies and Occult Practices\",\n",
      "    \"Chapter 03: Arcane Rituals and Supernatural Beliefs\",\n",
      "    \"Chapter 04: Prophecies, Ghost Stories, and Urban Legends\",\n",
      "    \"Chapter 05: Architectural Puzzles and Legendary Tales\"\n",
      "  ]\n",
      "}\n"
     ]
    }
   ],
   "source": [
    "import json;\n",
    "\n",
    "test01 = gen_headers({\n",
    "    \"model\": \"gpt-4o\",\n",
    "    \"subject\": \"ancient rome misteries\",\n",
    "    \"tone_of_voice\": \"adventurous but factful\",\n",
    "    \"number_of_chapters\": \"between 3 and 5\"\n",
    "});\n",
    "\n",
    "print(json.dumps(test01, indent=2));"
   ]
  },
  {
   "cell_type": "markdown",
   "id": "66bb564b-c46d-4c4b-987f-8214a8b450f0",
   "metadata": {},
   "source": [
    "## Isolated Steps"
   ]
  },
  {
   "cell_type": "code",
   "execution_count": 11,
   "id": "d4c8ff18-fefb-4090-9eef-6beac921dda6",
   "metadata": {},
   "outputs": [],
   "source": [
    "settings = {\n",
    "    \"model\": \"gpt-4o\",\n",
    "    \"subject\": \"ancient rome misteries\",\n",
    "    \"tone_of_voice\": \"adventurous but factful\",\n",
    "    \"number_of_chapters\": \"between 3 and 5\"\n",
    "}"
   ]
  },
  {
   "cell_type": "code",
   "execution_count": 12,
   "id": "05c77d37-965b-4d0f-a991-c56d32a5ed57",
   "metadata": {},
   "outputs": [
    {
     "name": "stdout",
     "output_type": "stream",
     "text": [
      "{\n",
      "  \"keywords\": [\n",
      "    \"ancient Rome\",\n",
      "    \"mysteries of ancient Rome\",\n",
      "    \"Roman mythology\",\n",
      "    \"Roman legends\",\n",
      "    \"Roman archaeology\",\n",
      "    \"unexplained phenomena in Rome\",\n",
      "    \"Roman historical enigmas\",\n",
      "    \"ancient Roman artifacts\",\n",
      "    \"Roman urban legends\",\n",
      "    \"mysteries of the Roman Empire\",\n",
      "    \"Roman religious mysteries\",\n",
      "    \"Roman occult practices\",\n",
      "    \"historical mysteries of the Roman Empire\",\n",
      "    \"ancient Roman conspiracy theories\",\n",
      "    \"lost Roman relics\",\n",
      "    \"Roman ghost stories\",\n",
      "    \"hidden chambers in Rome\",\n",
      "    \"Roman cryptography\",\n",
      "    \"unexplored Roman ruins\",\n",
      "    \"enigmatic Roman inscriptions\",\n",
      "    \"Roman prophetic texts\",\n",
      "    \"mystical rituals of ancient Rome\",\n",
      "    \"ancient Roman societies\",\n",
      "    \"Roman emperors' secrets\"\n",
      "  ]\n",
      "}\n"
     ]
    }
   ],
   "source": [
    "step01 = openai_prompt(settings, [\n",
    "    \"You are a researcher that supports factual book writers\",\n",
    "    \"You specialize in keyword expansion for further research given an initial subject\",\n",
    "    \"\"\"\n",
    "    The output should be in JSON format:\n",
    "    {\n",
    "        \"keywords\": [\n",
    "            \"keyword 01\",\n",
    "            \"keyword 02\",\n",
    "            ...\n",
    "        ]\n",
    "    }\n",
    "    \"\"\"\n",
    "], [\n",
    "    f\"Expand the keywords for the subject: {settings['subject']}\"\n",
    "])\n",
    "\n",
    "print(json.dumps(step01, indent=2));"
   ]
  },
  {
   "cell_type": "code",
   "execution_count": 13,
   "id": "025057e4-91b6-4968-a5ef-ff83fee4e607",
   "metadata": {},
   "outputs": [
    {
     "name": "stdout",
     "output_type": "stream",
     "text": [
      "{\n",
      "  \"chapters\": [\n",
      "    \"Chapter 01: The Shrouded Beginnings - Founding Myths and Legends\",\n",
      "    \"Chapter 02: Secrets of the Pantheon - Roman Religious Mysteries and Occult Practices\",\n",
      "    \"Chapter 03: Whispers in the Dark - Ghost Stories and Urban Legends of Ancient Rome\",\n",
      "    \"Chapter 04: Hidden Treasures and Lost Relics - Archaeological Enigmas and Unexplored Ruins\",\n",
      "    \"Chapter 05: Codes and Conspiracies - Cryptography and Conspiracy Theories in Roman History\"\n",
      "  ]\n",
      "}\n"
     ]
    }
   ],
   "source": [
    "step02 = openai_prompt(settings, [\n",
    "    \"You are a researcher that supports factual book writers\",\n",
    "    \"You specialize in generating the chapters layout for a book given a subject and a list of keywords.\",\n",
    "    f\"The tone of voice is {settings['tone_of_voice']}\",\n",
    "    \"\"\"\n",
    "    The output should be in JSON format:\n",
    "    {\n",
    "        \"chapters\": [\n",
    "            \"Chapter 01\",\n",
    "            \"Chapter 02\",\n",
    "            ...\n",
    "        ]\n",
    "    }\n",
    "    \"\"\"\n",
    "], [\n",
    "    f\"\"\"\n",
    "    Generate {settings['number_of_chapters']} for:\n",
    "    Subject: {settings['subject']}\n",
    "    Keywords: {step01['keywords']}\n",
    "    \"\"\"\n",
    "])\n",
    "\n",
    "print(json.dumps(step02, indent=2));"
   ]
  },
  {
   "cell_type": "code",
   "execution_count": 14,
   "id": "b54f28f9-9026-4ec5-8e9c-9075bff6b869",
   "metadata": {},
   "outputs": [
    {
     "name": "stdout",
     "output_type": "stream",
     "text": [
      "{\n",
      "  \"subject\": \"ancient rome mysteries\",\n",
      "  \"keywords\": [\n",
      "    \"ancient Rome\",\n",
      "    \"mysteries of ancient Rome\",\n",
      "    \"Roman mythology\",\n",
      "    \"Roman legends\",\n",
      "    \"Roman archaeology\",\n",
      "    \"unexplained phenomena in Rome\",\n",
      "    \"Roman historical enigmas\",\n",
      "    \"ancient Roman artifacts\",\n",
      "    \"Roman urban legends\",\n",
      "    \"mysteries of the Roman Empire\",\n",
      "    \"Roman religious mysteries\",\n",
      "    \"Roman occult practices\",\n",
      "    \"historical mysteries of the Roman Empire\",\n",
      "    \"ancient Roman conspiracy theories\",\n",
      "    \"lost Roman relics\",\n",
      "    \"Roman ghost stories\",\n",
      "    \"hidden chambers in Rome\",\n",
      "    \"Roman cryptography\",\n",
      "    \"unexplored Roman ruins\",\n",
      "    \"enigmatic Roman inscriptions\",\n",
      "    \"Roman prophetic texts\",\n",
      "    \"mystical rituals of ancient Rome\",\n",
      "    \"ancient Roman societies\",\n",
      "    \"Roman emperors' secrets\"\n",
      "  ],\n",
      "  \"chapters\": [\n",
      "    {\n",
      "      \"title\": \"Chapter 01: The Shrouded Beginnings - Founding Myths and Legends\",\n",
      "      \"summary\": \"Explore the mythological tales and legendary figures that mark the foundation of Rome, such as Romulus and Remus, and the city's rise from obscurity to empire.\"\n",
      "    },\n",
      "    {\n",
      "      \"title\": \"Chapter 02: Secrets of the Pantheon - Roman Religious Mysteries and Occult Practices\",\n",
      "      \"summary\": \"Delve into the enigmatic religious practices, mystical rituals, and occult traditions that pervaded Roman society. Investigate secret cults, oracular texts, and the mysteries of their deities.\"\n",
      "    },\n",
      "    {\n",
      "      \"title\": \"Chapter 03: Whispers in the Dark - Ghost Stories and Urban Legends of Ancient Rome\",\n",
      "      \"summary\": \"Unearth eerie ghost stories, chilling urban legends, and supernatural encounters that have been whispered through the ages in the streets of Rome.\"\n",
      "    },\n",
      "    {\n",
      "      \"title\": \"Chapter 04: Hidden Treasures and Lost Relics - Archaeological Enigmas and Unexplored Ruins\",\n",
      "      \"summary\": \"Discover the hidden chambers, lost relics, and unsolved archaeological enigmas scattered beneath Rome's surface, revealing the empire's shadowy past.\"\n",
      "    },\n",
      "    {\n",
      "      \"title\": \"Chapter 05: Codes and Conspiracies - Cryptography and Conspiracy Theories in Roman History\",\n",
      "      \"summary\": \"Investigate the cryptic codes, mysterious inscriptions, and conspiracies that cloud the historical record of Rome. Decode the secrets left behind by emperors and political schemers.\"\n",
      "    }\n",
      "  ]\n",
      "}\n"
     ]
    }
   ],
   "source": [
    "step03 = openai_prompt(settings, [\n",
    "    \"You are a professional book writer that focuses in reviewing books layout.\",\n",
    "    \"Your goal is to review a provided layout and apply the changes that you see best to improve the content quality\",\n",
    "    f\"The intended tone of voice for the book is {settings['tone_of_voice']}\",\n",
    "    \"\"\"\n",
    "    The output format is a JSON like:\n",
    "    {\n",
    "        \"subject\": \"the subject of the book\",\n",
    "        \"keywords\": [\n",
    "            \"Keyword 1\",\n",
    "            \"Keyword 2\",\n",
    "            \"...\"\n",
    "        ],\n",
    "        \"chapters\": [\n",
    "            \"Chapter 01\",\n",
    "            \"Chapter 02\",\n",
    "            ...\n",
    "        ]\n",
    "    }\n",
    "    \"\"\"\n",
    "], [\n",
    "    f\"\"\"\n",
    "    Review and expand the following outline, the desired number of chapters is {settings['number_of_chapters']}:\n",
    "    Subject: {settings['subject']}\n",
    "    Keywords: {step01['keywords']}\n",
    "    Chapters: {step02['chapters']}\n",
    "    \"\"\"\n",
    "])\n",
    "\n",
    "print(json.dumps(step03, indent=2));"
   ]
  },
  {
   "cell_type": "code",
   "execution_count": 17,
   "id": "1d86ca82-4b6f-4604-8bbb-3b87c45cc401",
   "metadata": {},
   "outputs": [
    {
     "name": "stdout",
     "output_type": "stream",
     "text": [
      "RESPONSE\n",
      "ChatCompletion(id='chatcmpl-9U97VCtBj2j3iFRzVVUuXbZzdHyMi', choices=[Choice(finish_reason='stop', index=0, logprobs=None, message=ChatCompletionMessage(content='{\\n    \"title\": \"Quest for the Grail: Unlocking the Mysteries of Ancient Rome\",\\n    \"subtitle\": \"Unraveling Enigmas, Legends, and Secrets of the Roman Empire\",\\n    \"abstract\": \"Embark on a captivating journey through the ancient streets of Rome as you delve into the hidden history of the Holy Grail. From the shrouded beginnings of the empire to the secrets of the Pantheon, and the whispers of ghostly apparitions in the dark, this book unveils the untold tales of the Roman Empire. Explore cryptic codes, lost relics, and enigmatic ruins as you unravel the mysteries of Roman mythology, religious practices, and urban legends. Join the quest to uncover the truth behind the ancient enigmas that have baffled historians for centuries, and unlock the secrets of the Holy Grail in the heart of the Eternal City.\"\\n}', role='assistant', function_call=None, tool_calls=None))], created=1716971925, model='gpt-3.5-turbo-0125', object='chat.completion', system_fingerprint=None, usage=CompletionUsage(completion_tokens=182, prompt_tokens=610, total_tokens=792))\n",
      "CONTENT\n",
      "{\n",
      "    \"title\": \"Quest for the Grail: Unlocking the Mysteries of Ancient Rome\",\n",
      "    \"subtitle\": \"Unraveling Enigmas, Legends, and Secrets of the Roman Empire\",\n",
      "    \"abstract\": \"Embark on a captivating journey through the ancient streets of Rome as you delve into the hidden history of the Holy Grail. From the shrouded beginnings of the empire to the secrets of the Pantheon, and the whispers of ghostly apparitions in the dark, this book unveils the untold tales of the Roman Empire. Explore cryptic codes, lost relics, and enigmatic ruins as you unravel the mysteries of Roman mythology, religious practices, and urban legends. Join the quest to uncover the truth behind the ancient enigmas that have baffled historians for centuries, and unlock the secrets of the Holy Grail in the heart of the Eternal City.\"\n",
      "}\n",
      "{\n",
      "  \"title\": \"Quest for the Grail: Unlocking the Mysteries of Ancient Rome\",\n",
      "  \"subtitle\": \"Unraveling Enigmas, Legends, and Secrets of the Roman Empire\",\n",
      "  \"abstract\": \"Embark on a captivating journey through the ancient streets of Rome as you delve into the hidden history of the Holy Grail. From the shrouded beginnings of the empire to the secrets of the Pantheon, and the whispers of ghostly apparitions in the dark, this book unveils the untold tales of the Roman Empire. Explore cryptic codes, lost relics, and enigmatic ruins as you unravel the mysteries of Roman mythology, religious practices, and urban legends. Join the quest to uncover the truth behind the ancient enigmas that have baffled historians for centuries, and unlock the secrets of the Holy Grail in the heart of the Eternal City.\"\n",
      "}\n"
     ]
    }
   ],
   "source": [
    "step04 = openai_prompt(settings, [\n",
    "    \"You are a creative book writer that focuses in developing compelling titles and back-of-the-book copywrite\",\n",
    "    \"Your goal is to produce: title, subtitle, and a catchy copy that make this book sell on Amazon\",\n",
    "    f\"The intended tone of voice for the book is {settings['tone_of_voice']}\",\n",
    "    \"\"\"\n",
    "    The output format is a JSON like:\n",
    "    {\n",
    "        \"title\": \"Title of the book\",\n",
    "        \"subtitle\": \"Subtitle of the book\",\n",
    "        \"abstract\": \"Catchy and compelling abstract...\"\n",
    "    }\n",
    "    \"\"\"\n",
    "], [\n",
    "    f\"\"\"\n",
    "    Produce the copy for a book that is about:\n",
    "    Subject: {settings['subject']}\n",
    "    Keywords: {step03['keywords']}\n",
    "    Chapters: {step03['chapters']}\n",
    "    \"\"\"\n",
    "])\n",
    "\n",
    "print(json.dumps(step04, indent=2));"
   ]
  },
  {
   "cell_type": "code",
   "execution_count": null,
   "id": "247e8d4c-0475-4ce9-b93d-fe4e61c8c2e9",
   "metadata": {},
   "outputs": [],
   "source": []
  }
 ],
 "metadata": {
  "kernelspec": {
   "display_name": "Python 3 (ipykernel)",
   "language": "python",
   "name": "python3"
  },
  "language_info": {
   "codemirror_mode": {
    "name": "ipython",
    "version": 3
   },
   "file_extension": ".py",
   "mimetype": "text/x-python",
   "name": "python",
   "nbconvert_exporter": "python",
   "pygments_lexer": "ipython3",
   "version": "3.9.19"
  }
 },
 "nbformat": 4,
 "nbformat_minor": 5
}
