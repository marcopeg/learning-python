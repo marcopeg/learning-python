{
 "cells": [
  {
   "cell_type": "code",
   "execution_count": 20,
   "id": "84a9eb0b-827a-4707-8ac7-adc60531f928",
   "metadata": {},
   "outputs": [],
   "source": [
    "import json\n",
    "%run ../settings.ipynb\n",
    "%run ../utils/openai-prompt.ipynb\n",
    "%run ../utils/insert-by-key-id.ipynb\n",
    "%run ./headers.ipynb"
   ]
  },
  {
   "cell_type": "code",
   "execution_count": 22,
   "id": "fbc67f48-56df-4bae-aa0b-4981043e6158",
   "metadata": {},
   "outputs": [
    {
     "name": "stdout",
     "output_type": "stream",
     "text": [
      "{\n",
      "  \"title\": \"Echoes of Antiquity: Untold Mysteries of Ancient Rome\",\n",
      "  \"subtitle\": \"Delve into the Enigmatic Secrets of the Roman Empire\",\n",
      "  \"abstract\": \"Embark on a journey through the shadows of history as we unveil the hidden truths of Ancient Rome. From the cryptic crypts to the enigmatic ruins, 'Echoes of Antiquity' takes you on a captivating exploration of Roman civilization's most intriguing mysteries. Discover the untold stories of Roman emperors, gods, and rituals, unravel the secrets of Roman architecture and technology, and immerse yourself in the mystical world of Roman mythology and folklore. This book is a thrilling guide to the ancient Roman secrets that have stood the test of time.\",\n",
      "  \"subject\": \"Ancient Rome Mysteries\",\n",
      "  \"keywords\": [\n",
      "    \"Ancient Rome\",\n",
      "    \"mysteries\",\n",
      "    \"Roman Empire\",\n",
      "    \"Roman civilization\",\n",
      "    \"Roman history\",\n",
      "    \"Roman architecture\",\n",
      "    \"Roman culture\",\n",
      "    \"Roman society\",\n",
      "    \"Roman religion\",\n",
      "    \"Roman mythology\",\n",
      "    \"Roman archaeology\",\n",
      "    \"Roman art\",\n",
      "    \"Ancient Roman mysteries\",\n",
      "    \"Roman emperors\",\n",
      "    \"Roman gods and goddesses\",\n",
      "    \"Roman rituals\",\n",
      "    \"Roman ruins\",\n",
      "    \"Roman literature\",\n",
      "    \"Roman technology\",\n",
      "    \"Roman crypts\",\n",
      "    \"Roman tombs\",\n",
      "    \"Roman catacombs\",\n",
      "    \"Roman legends\",\n",
      "    \"Roman folklore\",\n",
      "    \"Roman secrets\"\n",
      "  ],\n",
      "  \"chapters\": [\n",
      "    \"Chapter 1: Unraveling the Secrets of Ancient Rome\",\n",
      "    \"Chapter 2: The Enigmatic Mysteries of Roman Architecture\",\n",
      "    \"Chapter 3: Uncovering Roman Gods and Goddesses - Mythology and Mystery\",\n",
      "    \"Chapter 4: Cryptic Chronicles of Roman Tombs and Catacombs\",\n",
      "    \"Chapter 5: Ancient Secrets: Unveiling Roman Legends and Folklore\",\n",
      "    \"Chapter 6: Mystery and Intrigue: Exploring Roman Society and Culture\"\n",
      "  ]\n",
      "}\n"
     ]
    }
   ],
   "source": [
    "import json;\n",
    "\n",
    "test01 = gen_headers({\n",
    "    \"subject\": \"ancient rome misteries\",\n",
    "    \"tone_of_voice\": \"adventurous but factful\",\n",
    "    \"number_of_chapters\": \"between 3 and 5\"\n",
    "});\n",
    "\n",
    "print(json.dumps(test01, indent=2));"
   ]
  },
  {
   "cell_type": "markdown",
   "id": "66bb564b-c46d-4c4b-987f-8214a8b450f0",
   "metadata": {
    "jp-MarkdownHeadingCollapsed": true
   },
   "source": [
    "## Isolated Steps"
   ]
  },
  {
   "cell_type": "code",
   "execution_count": 8,
   "id": "05c77d37-965b-4d0f-a991-c56d32a5ed57",
   "metadata": {},
   "outputs": [
    {
     "name": "stdout",
     "output_type": "stream",
     "text": [
      "{\n",
      "  \"keywords\": [\n",
      "    \"Roman Empire\",\n",
      "    \"Roman Republic\",\n",
      "    \"Julius Caesar\",\n",
      "    \"Gladiators\",\n",
      "    \"Colosseum\",\n",
      "    \"Pax Romana\",\n",
      "    \"Roman mythology\",\n",
      "    \"Roman architecture\",\n",
      "    \"Roman art\",\n",
      "    \"Roman culture\",\n",
      "    \"Roman society\",\n",
      "    \"Roman politics\",\n",
      "    \"Roman military\",\n",
      "    \"Roman civilization\",\n",
      "    \"Roman emperors\",\n",
      "    \"Roman provinces\",\n",
      "    \"Roman conquests\",\n",
      "    \"Roman religion\",\n",
      "    \"Roman law\",\n",
      "    \"Roman technology\",\n",
      "    \"Roman trade\",\n",
      "    \"Roman economy\",\n",
      "    \"Roman philosophy\",\n",
      "    \"Roman literature\",\n",
      "    \"Roman engineering\"\n",
      "  ]\n",
      "}\n"
     ]
    }
   ],
   "source": [
    "step01 = openai_prompt(settings, [\n",
    "    \"You are a researcher that supports factual book writers\",\n",
    "    \"You specialize in keyword expansion for further research given an initial subject\",\n",
    "    \"\"\"\n",
    "    The output should be in JSON format:\n",
    "    {\n",
    "        \"keywords\": [\n",
    "            \"keyword 01\",\n",
    "            \"keyword 02\",\n",
    "            ...\n",
    "        ]\n",
    "    }\n",
    "    \"\"\"\n",
    "], [\n",
    "    f\"Expand the keywords for the subject: {settings['subject']}\"\n",
    "])\n",
    "\n",
    "print(json.dumps(step01, indent=2));"
   ]
  },
  {
   "cell_type": "code",
   "execution_count": 14,
   "id": "025057e4-91b6-4968-a5ef-ff83fee4e607",
   "metadata": {},
   "outputs": [
    {
     "name": "stdout",
     "output_type": "stream",
     "text": [
      "{\n",
      "  \"chapters\": [\n",
      "    \"Chapter 1: The Rise of Rome\",\n",
      "    \"Chapter 2: From Republic to Empire\",\n",
      "    \"Chapter 3: Julius Caesar and the End of the Republic\",\n",
      "    \"Chapter 4: Gladiators and the Colosseum\",\n",
      "    \"Chapter 5: Pax Romana and Roman Society\"\n",
      "  ]\n",
      "}\n"
     ]
    }
   ],
   "source": [
    "step02 = openai_prompt(settings, [\n",
    "    \"You are a researcher that supports factual book writers\",\n",
    "    \"You specialize in generating the chapters layout for a book given a subject and a list of keywords.\",\n",
    "    f\"The tone of voice is {settings['tone_of_voice']}\",\n",
    "    \"\"\"\n",
    "    The output should be in JSON format:\n",
    "    {\n",
    "        \"chapters\": [\n",
    "            \"Chapter 01\",\n",
    "            \"Chapter 02\",\n",
    "            ...\n",
    "        ]\n",
    "    }\n",
    "    \"\"\"\n",
    "], [\n",
    "    f\"\"\"\n",
    "    Generate {settings['number_of_chapters']} for:\n",
    "    Subject: {settings['subject']}\n",
    "    Keywords: {step01['keywords']}\n",
    "    \"\"\"\n",
    "])\n",
    "\n",
    "print(json.dumps(step02, indent=2));"
   ]
  },
  {
   "cell_type": "code",
   "execution_count": 18,
   "id": "b54f28f9-9026-4ec5-8e9c-9075bff6b869",
   "metadata": {},
   "outputs": [
    {
     "name": "stdout",
     "output_type": "stream",
     "text": [
      "{\n",
      "  \"subject\": \"Ancient Rome\",\n",
      "  \"keywords\": [\n",
      "    \"Roman Empire\",\n",
      "    \"Roman Republic\",\n",
      "    \"Julius Caesar\",\n",
      "    \"Gladiators\",\n",
      "    \"Colosseum\",\n",
      "    \"Pax Romana\",\n",
      "    \"Roman mythology\",\n",
      "    \"Roman architecture\",\n",
      "    \"Roman art\",\n",
      "    \"Roman culture\",\n",
      "    \"Roman society\",\n",
      "    \"Roman politics\",\n",
      "    \"Roman military\",\n",
      "    \"Roman civilization\",\n",
      "    \"Roman emperors\",\n",
      "    \"Roman provinces\",\n",
      "    \"Roman conquests\",\n",
      "    \"Roman religion\",\n",
      "    \"Roman law\",\n",
      "    \"Roman technology\",\n",
      "    \"Roman trade\",\n",
      "    \"Roman economy\",\n",
      "    \"Roman philosophy\",\n",
      "    \"Roman literature\",\n",
      "    \"Roman engineering\"\n",
      "  ],\n",
      "  \"chapters\": [\n",
      "    \"Chapter 1: Origins and Early History of Rome\",\n",
      "    \"Chapter 2: The Roman Republic: Government and Society\",\n",
      "    \"Chapter 3: Julius Caesar and the Transition to Empire\",\n",
      "    \"Chapter 4: Gladiators, Colosseum, and Entertainment in Ancient Rome\",\n",
      "    \"Chapter 5: Pax Romana: Peace, Prosperity, and Roman Culture\"\n",
      "  ]\n",
      "}\n"
     ]
    }
   ],
   "source": [
    "step03 = openai_prompt(settings, [\n",
    "    \"You are a professional book writer that focuses in reviewing books layout.\",\n",
    "    \"Your goal is to review a provided layout and apply the changes that you see best to improve the content quality\",\n",
    "    f\"The intended tone of voice for the book is {settings['tone_of_voice']}\",\n",
    "    \"\"\"\n",
    "    The output format is a JSON like:\n",
    "    {\n",
    "        \"subject\": \"the subject of the book\",\n",
    "        \"keywords\": [\n",
    "            \"Keyword 1\",\n",
    "            \"Keyword 2\",\n",
    "            \"...\"\n",
    "        ],\n",
    "        \"chapters\": [\n",
    "            \"Chapter 01\",\n",
    "            \"Chapter 02\",\n",
    "            ...\n",
    "        ]\n",
    "    }\n",
    "    \"\"\"\n",
    "], [\n",
    "    f\"\"\"\n",
    "    Review and expand the following outline, the desired number of chapters is {settings['number_of_chapters']}:\n",
    "    Subject: {settings['subject']}\n",
    "    Keywords: {step01['keywords']}\n",
    "    Chapters: {step02['chapters']}\n",
    "    \"\"\"\n",
    "])\n",
    "\n",
    "print(json.dumps(step03, indent=2));"
   ]
  },
  {
   "cell_type": "code",
   "execution_count": 19,
   "id": "1d86ca82-4b6f-4604-8bbb-3b87c45cc401",
   "metadata": {},
   "outputs": [
    {
     "name": "stdout",
     "output_type": "stream",
     "text": [
      "{\n",
      "  \"title\": \"Rome Revealed: Unveiling the Glorious Legacy of Ancient Rome\",\n",
      "  \"subtitle\": \"Exploring the Roman Empire's Rise, Society, and Enduring Influence\",\n",
      "  \"abstract\": \"Dive into the heart of ancient history with 'Rome Revealed', where the grandeur of the Roman Empire comes to life. From the legendary Roman Republic to the enduring legacy of Roman art and architecture, this book offers a captivating journey through the triumphs and trials of Rome. Uncover the dramatic rise and fall of Julius Caesar, step into the Colosseum with the fearless gladiators, and experience the peace of the Pax Romana. Discover the secrets of Roman mythology, the complexities of Roman politics, and the innovative Roman engineering that shaped a civilization. 'Rome Revealed' is a mesmerizing exploration of Roman culture, society, and influence, from the provinces to the heart of the empire. Prepare to be enthralled by the epic tale of Rome \\u2013 the city that changed the world.\"\n",
      "}\n"
     ]
    }
   ],
   "source": [
    "step04 = openai_prompt(settings, [\n",
    "    \"You are a creative book writer that focuses in developing compelling titles and back-of-the-book copywrite\",\n",
    "    \"Your goal is to produce: title, subtitle, and a catchy copy that make this book sell on Amazon\",\n",
    "    f\"The intended tone of voice for the book is {settings['tone_of_voice']}\",\n",
    "    \"\"\"\n",
    "    The output format is a JSON like:\n",
    "    {\n",
    "        \"title\": \"Title of the book\",\n",
    "        \"subtitle\": \"Subtitle of the book\",\n",
    "        \"abstract\": \"Catchy and compelling abstract...\"\n",
    "    }\n",
    "    \"\"\"\n",
    "], [\n",
    "    f\"\"\"\n",
    "    Produce the copy for a book that is about:\n",
    "    Subject: {settings['subject']}\n",
    "    Keywords: {step03['keywords']}\n",
    "    Chapters: {step03['chapters']}\n",
    "    \"\"\"\n",
    "])\n",
    "\n",
    "print(json.dumps(step04, indent=2));"
   ]
  },
  {
   "cell_type": "code",
   "execution_count": null,
   "id": "247e8d4c-0475-4ce9-b93d-fe4e61c8c2e9",
   "metadata": {},
   "outputs": [],
   "source": []
  }
 ],
 "metadata": {
  "kernelspec": {
   "display_name": "Python 3 (ipykernel)",
   "language": "python",
   "name": "python3"
  },
  "language_info": {
   "codemirror_mode": {
    "name": "ipython",
    "version": 3
   },
   "file_extension": ".py",
   "mimetype": "text/x-python",
   "name": "python",
   "nbconvert_exporter": "python",
   "pygments_lexer": "ipython3",
   "version": "3.9.19"
  }
 },
 "nbformat": 4,
 "nbformat_minor": 5
}
