{
 "cells": [
  {
   "cell_type": "code",
   "execution_count": 27,
   "id": "1535d6e3-a72c-4f83-ab58-6e2369e3fe7b",
   "metadata": {},
   "outputs": [],
   "source": [
    "import json\n",
    "%run ../settings.ipynb\n",
    "%run ../utils/openai-prompt.ipynb\n",
    "%run ../utils/insert-by-key-id.ipynb\n",
    "%run ./chapters.ipynb"
   ]
  },
  {
   "cell_type": "code",
   "execution_count": 24,
   "id": "2e694770-b1e6-47ae-81e4-66b3656951be",
   "metadata": {},
   "outputs": [],
   "source": [
    "settings = {\n",
    "    \"subject\": \"holy grail stories\",\n",
    "    \"tone_of_voice\": \"adventurous and entertaining\",\n",
    "    \"number_of_chapters\": \"exactly 3\",\n",
    "    \"number_of_paragraphs\": \"exactly 2\",\n",
    "    \"paragraph_length\": \"between 10 and 20 words\"\n",
    "}\n",
    "\n",
    "book = {\n",
    "  \"title\": \"Quest for the Sacred Cup\",\n",
    "  \"subtitle\": \"Unraveling the Mysteries of the Holy Grail in Arthurian Legend\",\n",
    "  \"abstract\": \"Embark on a legendary journey through the mythical realm of King Arthur and the Knights of the Round Table in search of the elusive Holy Grail. Delve into the world of medieval literature, chivalry, and courtly love as you uncover the secrets of the Grail Castle and follow the valiant knights, like Sir Lancelot, Sir Galahad, and Sir Percival, on their noble quest. From the enigmatic Merlin to the iconic Round Table, this book explores the timeless tales and sacred relics that define the Arthurian legend. Discover the tenets of knighthood, the complexities of Christian mythology, and the intertwined fates of Guinevere, Gawain, and the legendary Holy Chalice. Join the adventure and unravel the mysteries of the revered Holy Grail in this captivating exploration of medieval lore and Arthurian myth.\",\n",
    "  \"subject\": \"Holy Grail Stories\",\n",
    "  \"keywords\": [\n",
    "    \"King Arthur\",\n",
    "    \"Knights of the Round Table\",\n",
    "    \"Medieval literature\",\n",
    "    \"Chivalry\",\n",
    "    \"Quest for the Holy Grail\",\n",
    "    \"Arthurian legend\",\n",
    "    \"Grail Castle\",\n",
    "    \"Sir Lancelot\",\n",
    "    \"Sir Galahad\",\n",
    "    \"Courtly love\",\n",
    "    \"Holy relics\",\n",
    "    \"Guinevere\",\n",
    "    \"Merlin\",\n",
    "    \"Round Table\",\n",
    "    \"Gawain\",\n",
    "    \"Sacred cup\",\n",
    "    \"Christian mythology\",\n",
    "    \"Sir Percival\",\n",
    "    \"Holy Chalice\",\n",
    "    \"Tenets of knighthood\"\n",
    "  ],\n",
    "  \"chapters\": [\n",
    "    \"Chapter 01: The Mythical Realm of King Arthur\",\n",
    "    \"Chapter 02: Knights of the Round Table and the Pursuit of the Holy Grail\",\n",
    "    \"Chapter 03: Chivalry and the Romance of King Arthur's Court\"\n",
    "  ]\n",
    "}"
   ]
  },
  {
   "cell_type": "code",
   "execution_count": 16,
   "id": "9840e36f-e6bc-49b2-94f2-340c285aa727",
   "metadata": {},
   "outputs": [
    {
     "name": "stdout",
     "output_type": "stream",
     "text": [
      "{\n",
      "  \"chapter\": \"Chapter 01: The Mythical Realm of King Arthur\",\n",
      "  \"paragraphs\": [\n",
      "    \"In the mist-shrouded lands of Avalon, King Arthur's legend begins.\",\n",
      "    \"Magic, honor, and destiny collide in the fabled court of Camelot.\"\n",
      "  ]\n",
      "}\n"
     ]
    }
   ],
   "source": [
    "step01 = gen_chapter(settings, book, 0)\n",
    "print(json.dumps(step01, indent=2));"
   ]
  },
  {
   "cell_type": "code",
   "execution_count": 17,
   "id": "3600190e-cb5d-491f-b64e-1cf23fab8de0",
   "metadata": {},
   "outputs": [
    {
     "name": "stdout",
     "output_type": "stream",
     "text": [
      "{\n",
      "  \"chapter\": \"Chapter 03: Chivalry and the Romance of King Arthur's Court\",\n",
      "  \"paragraphs\": [\n",
      "    \"Enter the vibrant world of King Arthur's Court, where chivalry reigns and romance blossoms.\",\n",
      "    \"Experience the gallant quests of noble knights and the tender love stories that define this age.\"\n",
      "  ]\n",
      "}\n"
     ]
    }
   ],
   "source": [
    "step02 = gen_chapter(settings, book, 2)\n",
    "print(json.dumps(step02, indent=2));"
   ]
  },
  {
   "cell_type": "code",
   "execution_count": 26,
   "id": "478ffee0-30d0-4c6e-9136-c98e92be388a",
   "metadata": {},
   "outputs": [
    {
     "name": "stdout",
     "output_type": "stream",
     "text": [
      "[\n",
      "  {\n",
      "    \"title\": \"Chapter 01: The Mythical Realm of King Arthur\",\n",
      "    \"paragraphs\": [\n",
      "      \"Embark on a legendary journey through the mystical realm of King Arthur.\",\n",
      "      \"Uncover the secrets of the Grail Castle, with valiant knights and enigmatic figures.\"\n",
      "    ]\n",
      "  },\n",
      "  {\n",
      "    \"title\": \"Chapter 02: Knights of the Round Table and the Pursuit of the Holy Grail\",\n",
      "    \"paragraphs\": [\n",
      "      \"Brave knights embark on a perilous quest to find the sacred cup.\",\n",
      "      \"Led by noble figures like Sir Lancelot, they face trials of honor.\"\n",
      "    ]\n",
      "  },\n",
      "  {\n",
      "    \"title\": \"Chapter 03: Chivalry and the Romance of King Arthur's Court\",\n",
      "    \"paragraphs\": [\n",
      "      \"In the court of King Arthur, chivalry reigns supreme - a code of honor and bravery.\",\n",
      "      \"Witness the passionate romance between Guinevere and Lancelot amid the majestic Camelot.\"\n",
      "    ]\n",
      "  }\n",
      "]\n"
     ]
    }
   ],
   "source": [
    "def gen_chapters(settings, book):\n",
    "    chapters = []\n",
    "    for idx, chapter in enumerate(book['chapters']):\n",
    "        data = gen_chapter(settings, book, idx)\n",
    "        chapters.append(data)\n",
    "    return chapters\n",
    "\n",
    "test01 = gen_chapters(settings, book);\n",
    "print(json.dumps(test01, indent=2));"
   ]
  }
 ],
 "metadata": {
  "kernelspec": {
   "display_name": "Python 3 (ipykernel)",
   "language": "python",
   "name": "python3"
  },
  "language_info": {
   "codemirror_mode": {
    "name": "ipython",
    "version": 3
   },
   "file_extension": ".py",
   "mimetype": "text/x-python",
   "name": "python",
   "nbconvert_exporter": "python",
   "pygments_lexer": "ipython3",
   "version": "3.9.19"
  }
 },
 "nbformat": 4,
 "nbformat_minor": 5
}
