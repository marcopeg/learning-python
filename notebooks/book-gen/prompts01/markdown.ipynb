{
 "cells": [
  {
   "cell_type": "code",
   "execution_count": 12,
   "id": "490ec1b4-f685-4cd0-835d-c746b23b4ae6",
   "metadata": {},
   "outputs": [],
   "source": [
    "import json\n",
    "\n",
    "def generate_markdown(book):\n",
    "    markdown = []\n",
    "    \n",
    "    # Title and Subtitle\n",
    "    markdown.append(f\"# {book['title']}\")\n",
    "    markdown.append(f\"> {book['subtitle']}\")\n",
    "    markdown.append(\"\\n\")\n",
    "    markdown.append(f\"*{book['abstract']}*\")\n",
    "    markdown.append(\"\\n---\\n\")\n",
    "\n",
    "    chapters = book.get('chapters', []);\n",
    "    for c_idx, chapter in enumerate(chapters):\n",
    "        # Chapter Title\n",
    "        markdown.append(f\"### {chapter['title']}\")\n",
    "        markdown.append(\"\\n\")\n",
    "        \n",
    "        paragraphs = chapter.get('paragraphs', [])\n",
    "        for p_idx, paragraph in enumerate(paragraphs):\n",
    "            # Paragraph Content\n",
    "            markdown.append(paragraph)\n",
    "            if p_idx < len(paragraphs) - 1:\n",
    "                markdown.append(\"\\n\")\n",
    "\n",
    "        if c_idx < len(chapters) - 1:\n",
    "            markdown.append(\"\\n---\\n\")\n",
    "    \n",
    "\n",
    "    return \"\\n\".join(markdown)"
   ]
  }
 ],
 "metadata": {
  "kernelspec": {
   "display_name": "Python 3 (ipykernel)",
   "language": "python",
   "name": "python3"
  },
  "language_info": {
   "codemirror_mode": {
    "name": "ipython",
    "version": 3
   },
   "file_extension": ".py",
   "mimetype": "text/x-python",
   "name": "python",
   "nbconvert_exporter": "python",
   "pygments_lexer": "ipython3",
   "version": "3.9.19"
  }
 },
 "nbformat": 4,
 "nbformat_minor": 5
}
