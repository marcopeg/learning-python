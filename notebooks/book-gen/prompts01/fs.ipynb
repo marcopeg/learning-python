{
 "cells": [
  {
   "cell_type": "code",
   "execution_count": 1,
   "id": "3d3d3bd0-bcfc-4ed2-8f01-79f65bfe65d3",
   "metadata": {},
   "outputs": [],
   "source": [
    "import re\n",
    "import os\n",
    "\n",
    "def to_snake_case(text):\n",
    "    # Convert to lowercase\n",
    "    text = text.lower()\n",
    "    # Replace spaces and non-alphanumeric characters with hyphens\n",
    "    text = re.sub(r'\\W+', '-', text)\n",
    "    # Remove leading and trailing hyphens\n",
    "    text = text.strip('-')\n",
    "    return text\n",
    "\n",
    "def save_to_file(content, filename, extension):\n",
    "    # Ensure the filename ends with the provided extension\n",
    "    if not filename.endswith(extension):\n",
    "        filename += '.'\n",
    "        filename += extension\n",
    "    # Write the content to the file\n",
    "    with open(f\"books/{filename}\", 'w', encoding='utf-8') as file:\n",
    "        file.write(content)\n",
    "\n"
   ]
  }
 ],
 "metadata": {
  "kernelspec": {
   "display_name": "Python 3 (ipykernel)",
   "language": "python",
   "name": "python3"
  },
  "language_info": {
   "codemirror_mode": {
    "name": "ipython",
    "version": 3
   },
   "file_extension": ".py",
   "mimetype": "text/x-python",
   "name": "python",
   "nbconvert_exporter": "python",
   "pygments_lexer": "ipython3",
   "version": "3.9.19"
  }
 },
 "nbformat": 4,
 "nbformat_minor": 5
}
