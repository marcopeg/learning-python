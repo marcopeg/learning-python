{
 "cells": [
  {
   "cell_type": "code",
   "execution_count": 1,
   "id": "55cc991d-807b-419b-afa3-2a9d431376b1",
   "metadata": {},
   "outputs": [],
   "source": [
    "def insert_by_key_id(settings, target_key, part_id, new_key, new_value):\n",
    "    \"\"\"\n",
    "    Inserts a new key-value pair into a part identified by part_id in the settings object.\n",
    "\n",
    "    Parameters:\n",
    "    settings (dict): The settings dictionary containing parts.\n",
    "    target_key (str): The key in the settings dict where the parts list is stored.\n",
    "    part_id (int): The id of the part to update.\n",
    "    new_key (str): The new key to insert.\n",
    "    new_value: The value associated with the new key.\n",
    "\n",
    "    Returns:\n",
    "    bool: True if the part was found and updated, False otherwise.\n",
    "    \"\"\"\n",
    "    for part in settings[target_key]:\n",
    "        if part['id'] == part_id:\n",
    "            part[new_key] = new_value\n",
    "            return True\n",
    "    return False"
   ]
  }
 ],
 "metadata": {
  "kernelspec": {
   "display_name": "Python 3 (ipykernel)",
   "language": "python",
   "name": "python3"
  },
  "language_info": {
   "codemirror_mode": {
    "name": "ipython",
    "version": 3
   },
   "file_extension": ".py",
   "mimetype": "text/x-python",
   "name": "python",
   "nbconvert_exporter": "python",
   "pygments_lexer": "ipython3",
   "version": "3.9.19"
  }
 },
 "nbformat": 4,
 "nbformat_minor": 5
}
