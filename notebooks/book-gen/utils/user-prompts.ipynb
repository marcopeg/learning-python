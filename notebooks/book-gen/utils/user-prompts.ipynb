{
 "cells": [
  {
   "cell_type": "code",
   "execution_count": null,
   "id": "55febd00-9de1-47c0-979f-a4307147fef5",
   "metadata": {},
   "outputs": [],
   "source": [
    "def prompt_str(label, default_value = \"\"):\n",
    "    usr_value = input(f\"{label}:\\n\")\n",
    "    \n",
    "    if not usr_value.strip():\n",
    "        usr_value = default_value\n",
    "    \n",
    "    return usr_value"
   ]
  },
  {
   "cell_type": "code",
   "execution_count": 1,
   "id": "7f28965a-6bed-4fe6-a9c6-d1b6940c489a",
   "metadata": {},
   "outputs": [],
   "source": [
    "def prompt_select(label, options):\n",
    "    \"\"\"\n",
    "    Prompts the user to select an option from a list of possible values.\n",
    "    \n",
    "    Parameters:\n",
    "        label (str): The label to display to the user.\n",
    "        options (list): The list of possible values to choose from.\n",
    "        \n",
    "    Returns:\n",
    "        str: The selected value from the options list.\n",
    "    \"\"\"\n",
    "    # Display options to the user\n",
    "    print(label)\n",
    "    for i, option in enumerate(options, 1):\n",
    "        print(f\"{i}. {option}\")\n",
    "    \n",
    "    # Get user input and validate it\n",
    "    while True:\n",
    "        try:\n",
    "            choice = input(\"Enter the number of your choice: \").strip()\n",
    "            if choice.isdigit():\n",
    "                choice = int(choice)\n",
    "                if 1 <= choice <= len(options):\n",
    "                    return options[choice - 1]\n",
    "                else:\n",
    "                    print(f\"Please enter a number between 1 and {len(options)}.\")\n",
    "            else:\n",
    "                print(\"Invalid input. Please enter a number.\")\n",
    "        except ValueError:\n",
    "            print(\"Invalid input. Please enter a number.\")"
   ]
  },
  {
   "cell_type": "code",
   "execution_count": 4,
   "id": "18f7dae7-f568-44fd-85ee-e360b597132b",
   "metadata": {},
   "outputs": [],
   "source": [
    "# Example usage\n",
    "subjects = [\n",
    "    \"The history of the Holy Grail\",\n",
    "    \"The rise and fall of the Roman Empire\",\n",
    "    \"The mysteries of Ancient Egypt\",\n",
    "    \"The life and voyages of Christopher Columbus\",\n",
    "    \"The secrets of the Templar Knights\"\n",
    "]\n",
    "\n",
    "#selected_subject = prompt_select(\"Please choose a subject for your book by entering the corresponding number:\", subjects)\n",
    "#print(f\"You have chosen: {selected_subject}\")"
   ]
  }
 ],
 "metadata": {
  "kernelspec": {
   "display_name": "Python 3 (ipykernel)",
   "language": "python",
   "name": "python3"
  },
  "language_info": {
   "codemirror_mode": {
    "name": "ipython",
    "version": 3
   },
   "file_extension": ".py",
   "mimetype": "text/x-python",
   "name": "python",
   "nbconvert_exporter": "python",
   "pygments_lexer": "ipython3",
   "version": "3.9.19"
  }
 },
 "nbformat": 4,
 "nbformat_minor": 5
}
