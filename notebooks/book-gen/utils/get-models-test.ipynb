{
 "cells": [
  {
   "cell_type": "code",
   "execution_count": 14,
   "id": "1777d459-bb15-465c-8ecf-58458542d39f",
   "metadata": {},
   "outputs": [],
   "source": [
    "import json\n",
    "%run ../settings.ipynb\n",
    "%run ./get-models.ipynb"
   ]
  },
  {
   "cell_type": "code",
   "execution_count": 15,
   "id": "5d2548a2-35a2-4938-923e-bd7e0fecacd1",
   "metadata": {},
   "outputs": [],
   "source": [
    "models = get_models();"
   ]
  },
  {
   "cell_type": "code",
   "execution_count": 16,
   "id": "2c996b40-7db5-47b3-9268-25d2b3857bdb",
   "metadata": {},
   "outputs": [
    {
     "name": "stdout",
     "output_type": "stream",
     "text": [
      "[\n",
      "    \"dall-e-3\",\n",
      "    \"gpt-4-1106-preview\",\n",
      "    \"whisper-1\",\n",
      "    \"davinci-002\",\n",
      "    \"gpt-4-turbo-preview\",\n",
      "    \"gpt-4-0125-preview\",\n",
      "    \"babbage-002\",\n",
      "    \"dall-e-2\",\n",
      "    \"gpt-3.5-turbo-16k\",\n",
      "    \"tts-1-hd-1106\",\n",
      "    \"tts-1-hd\",\n",
      "    \"gpt-4\",\n",
      "    \"gpt-4-0613\",\n",
      "    \"gpt-3.5-turbo-1106\",\n",
      "    \"gpt-3.5-turbo-instruct-0914\",\n",
      "    \"gpt-3.5-turbo-instruct\",\n",
      "    \"tts-1\",\n",
      "    \"gpt-3.5-turbo-0301\",\n",
      "    \"gpt-3.5-turbo-0125\",\n",
      "    \"gpt-3.5-turbo\",\n",
      "    \"tts-1-1106\",\n",
      "    \"text-embedding-3-large\",\n",
      "    \"gpt-4-turbo-2024-04-09\",\n",
      "    \"gpt-4-turbo\",\n",
      "    \"text-embedding-3-small\",\n",
      "    \"gpt-3.5-turbo-0613\",\n",
      "    \"text-embedding-ada-002\",\n",
      "    \"gpt-4-1106-vision-preview\",\n",
      "    \"gpt-4-vision-preview\",\n",
      "    \"gpt-3.5-turbo-16k-0613\",\n",
      "    \"gpt-4o\",\n",
      "    \"gpt-4o-2024-05-13\"\n",
      "]\n"
     ]
    }
   ],
   "source": [
    "print(json.dumps(models, indent=4))"
   ]
  }
 ],
 "metadata": {
  "kernelspec": {
   "display_name": "Python 3 (ipykernel)",
   "language": "python",
   "name": "python3"
  },
  "language_info": {
   "codemirror_mode": {
    "name": "ipython",
    "version": 3
   },
   "file_extension": ".py",
   "mimetype": "text/x-python",
   "name": "python",
   "nbconvert_exporter": "python",
   "pygments_lexer": "ipython3",
   "version": "3.9.19"
  }
 },
 "nbformat": 4,
 "nbformat_minor": 5
}
