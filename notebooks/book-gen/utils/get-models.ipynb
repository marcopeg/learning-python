{
 "cells": [
  {
   "cell_type": "code",
   "execution_count": 2,
   "id": "6464643b-2469-49ee-b949-1b70faa125c7",
   "metadata": {},
   "outputs": [],
   "source": [
    "def get_models():\n",
    "    res = openai.models.list()\n",
    "    return [model.id for model in res.data]"
   ]
  }
 ],
 "metadata": {
  "kernelspec": {
   "display_name": "Python 3 (ipykernel)",
   "language": "python",
   "name": "python3"
  },
  "language_info": {
   "codemirror_mode": {
    "name": "ipython",
    "version": 3
   },
   "file_extension": ".py",
   "mimetype": "text/x-python",
   "name": "python",
   "nbconvert_exporter": "python",
   "pygments_lexer": "ipython3",
   "version": "3.9.19"
  }
 },
 "nbformat": 4,
 "nbformat_minor": 5
}
