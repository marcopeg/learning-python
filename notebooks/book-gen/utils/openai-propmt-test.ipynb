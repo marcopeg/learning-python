{
 "cells": [
  {
   "cell_type": "code",
   "execution_count": 96,
   "id": "fa6934b1-f4b1-4674-9132-ef4c63398935",
   "metadata": {},
   "outputs": [],
   "source": [
    "%run openai-prompt.ipynb"
   ]
  },
  {
   "cell_type": "code",
   "execution_count": 97,
   "id": "b234f025-7bf6-41a5-96c8-d31cddd26b27",
   "metadata": {},
   "outputs": [
    {
     "data": {
      "text/plain": [
       "{'title': 'Veil of Intrigue: The Enigmatic Journey of Mata Hari',\n",
       " 'subtitle': 'From Glamour to Espionage: Unraveling the Secrets of World War I’s Most Notorious Spy',\n",
       " 'abstract': \"Step into the mesmerizing world of Mata Hari, the enigmatic dancer-turned-spy who captivated and betrayed nations during the tumultuous times of World War I. In 'Veil of Intrigue: The Enigmatic Journey of Mata Hari', embark on an adventurous and entertaining journey through a life shrouded in mystery, glamour, and deception. Each chapter unfolds as a riveting timeline—from her dazzling early days as Margaretha Zelle to her scandalous transformation into Mata Hari, the exotic dancer who bewitched Parisian high society.\\n\\nWitness her alluring entanglement in the espionage worlds of French and German Intelligence, where her insidious dance as a double agent brought both danger and fascination. From breathtaking missions and daring tactics to the dramatic unraveling of her covert activities that led to her infamous arrest, gripping trial, and execution, this book captures it all. Learn how the truth of Mata Hari's life was obscured and mythologized through decades, and how declassified documents finally revealed the true story of her espionage endeavors.\\n\\nWith each chapter beginning with an anecdote or short story relevant to Mata Hari's life, 'Veil of Intrigue' brings history to life in an engaging manner, appealing to those fascinated by tales of espionage, glamour, and historical interpretation. Prepare to uncover the truth behind one of history's most mysterious figures and explore the blurred lines between reality and myth in a story that has intrigued the world for over a century.\"}"
      ]
     },
     "execution_count": 97,
     "metadata": {},
     "output_type": "execute_result"
    }
   ],
   "source": [
    "text2json(\"```json\\n{\\n    \\\"title\\\": \\\"Veil of Intrigue: The Enigmatic Journey of Mata Hari\\\",\\n    \\\"subtitle\\\": \\\"From Glamour to Espionage: Unraveling the Secrets of World War I\\u2019s Most Notorious Spy\\\",\\n    \\\"abstract\\\": \\\"Step into the mesmerizing world of Mata Hari, the enigmatic dancer-turned-spy who captivated and betrayed nations during the tumultuous times of World War I. In 'Veil of Intrigue: The Enigmatic Journey of Mata Hari', embark on an adventurous and entertaining journey through a life shrouded in mystery, glamour, and deception. Each chapter unfolds as a riveting timeline\\u2014from her dazzling early days as Margaretha Zelle to her scandalous transformation into Mata Hari, the exotic dancer who bewitched Parisian high society.\\n\\nWitness her alluring entanglement in the espionage worlds of French and German Intelligence, where her insidious dance as a double agent brought both danger and fascination. From breathtaking missions and daring tactics to the dramatic unraveling of her covert activities that led to her infamous arrest, gripping trial, and execution, this book captures it all. Learn how the truth of Mata Hari's life was obscured and mythologized through decades, and how declassified documents finally revealed the true story of her espionage endeavors.\\n\\nWith each chapter beginning with an anecdote or short story relevant to Mata Hari's life, 'Veil of Intrigue' brings history to life in an engaging manner, appealing to those fascinated by tales of espionage, glamour, and historical interpretation. Prepare to uncover the truth behind one of history's most mysterious figures and explore the blurred lines between reality and myth in a story that has intrigued the world for over a century.\\\"\\n}\\n```\")"
   ]
  },
  {
   "cell_type": "code",
   "execution_count": 98,
   "id": "d30a964a-ec26-472a-a835-411926f8dcf5",
   "metadata": {},
   "outputs": [
    {
     "data": {
      "text/plain": [
       "{'title': 'Veil of Int'}"
      ]
     },
     "execution_count": 98,
     "metadata": {},
     "output_type": "execute_result"
    }
   ],
   "source": [
    "text2json(\"```json\\n{\\n    \\\"title\\\": \\\"Veil of Int\\\"}```\")"
   ]
  },
  {
   "cell_type": "code",
   "execution_count": 99,
   "id": "09453bfa-f142-4a1b-a099-98f18082752a",
   "metadata": {},
   "outputs": [
    {
     "data": {
      "text/plain": [
       "{'title': 'Step into the \\n ififif'}"
      ]
     },
     "execution_count": 99,
     "metadata": {},
     "output_type": "execute_result"
    }
   ],
   "source": [
    "text2json(\"```json{\\\"title\\\": \\\"Step into the \\n ififif\\\"}```\")"
   ]
  },
  {
   "cell_type": "code",
   "execution_count": 100,
   "id": "8aef7967-24fb-4d37-9082-e92665aff9cd",
   "metadata": {},
   "outputs": [
    {
     "data": {
      "text/plain": [
       "{'title': 'Veil of Intrigue: The Enigmatic Journey of Mata Hari',\n",
       " 'subtitle': 'From Glamour to Espionage: Unraveling the Secrets of World War I’s Most Notorious Spy',\n",
       " 'abstract': \"journey through a life shrzzling earlFrom breathtaking missio arrest, grip life was obscurely revealed the true story of her espionage endeavors.\\n\\nWith each chapter beginning with an anecdote or short story relevant to Mata Hari's life, 'Veil of Intrigue' brings history to life in an engaging manner, appealing to those fascinated by tales of espionage, glamour, and historical interpretation. Prepare to uncover the truth behind one of history's most mysterious figures and explore the blurred lines between reality and myth in a story that has intrigued the world for over a century.\"}"
      ]
     },
     "execution_count": 100,
     "metadata": {},
     "output_type": "execute_result"
    }
   ],
   "source": [
    "text2json(\"```json\\n{\\n    \\\"title\\\": \\\"Veil of Intrigue: The Enigmatic Journey of Mata Hari\\\",\\n    \\\"subtitle\\\": \\\"From Glamour to Espionage: Unraveling the Secrets of World War I\\u2019s Most Notorious Spy\\\",\\n    \\\"abstract\\\": \\\"journey through a life shrzzling earlFrom breathtaking missio arrest, grip life was obscurely revealed the true story of her espionage endeavors.\\n\\nWith each chapter beginning with an anecdote or short story relevant to Mata Hari's life, 'Veil of Intrigue' brings history to life in an engaging manner, appealing to those fascinated by tales of espionage, glamour, and historical interpretation. Prepare to uncover the truth behind one of history's most mysterious figures and explore the blurred lines between reality and myth in a story that has intrigued the world for over a century.\\\"\\n}\\n```\")\n",
    "\n"
   ]
  },
  {
   "cell_type": "code",
   "execution_count": 116,
   "id": "044ff77e-9330-4495-806c-1c08c9a4baf6",
   "metadata": {},
   "outputs": [
    {
     "name": "stdout",
     "output_type": "stream",
     "text": [
      "{\n",
      "  \"title\": \"Chapter 02: The Rise of an Exotic Dancer - From Margaretha to Mata Hari\",\n",
      "  \"paragraphs\": [\n",
      "    \"The gaslights flickered and the crimson drapes parted, revealing the slender figure of Margaretha Zelle, reborn as Mata Hari, the sultry temptress whose allure would soon enchant all of Paris. Her first performance as Mata Hari was nothing short of magical. The audience, a mix of art connoisseurs, aristocrats, and curious onlookers, watched in awe as she glided across the stage, her movements fluid and hypnotic. Each flick of her wrist, each twist of her hips, told a story of faraway lands and ancient mysteries. As the final notes of the exotic music echoed through the hall, there was a moment of stunned silence before the explosion of applause. Mata Hari had arrived.\",\n",
      "    \"Margaretha\\u2019s transformation into Mata Hari was a calculated metamorphosis born from a fierce determination to reinvent herself. After a painful divorce and the loss of her children, the Dutchwoman sought solace and reinvention in the heart of Europe. Inspired by the stories of the East that had fascinated her since childhood, she decided to create an exotic persona that would captivate Parisian high society. Drawing from Javanese traditions and donning elaborate costumes, Margaretha Zelle became Mata Hari, a name that would soon be whispered in every corner of the French capital.\",\n",
      "    \"Her performances were unlike anything the Parisians had ever seen. Mata Hari's dance was a blend of sensuality and mystique, an intoxicating combination that left the audience spellbound. She moved with an elegance and confidence that belied her past struggles, her eyes telling tales of passion and sorrow. Each night, the theater filled with admirers eager to catch a glimpse of the enigmatic dancer who seemed to possess an otherworldly charm. It wasn't long before Mata Hari became a sensation, her name synonymous with glamour and intrigue.\",\n",
      "    \"The elite of Parisian society were entranced by this enigmatic figure. Mata Hari found herself invited to the most exclusive salons and gatherings, where she mingled with influential politicians, artists, and military officers. Her allure was not just in her beauty and talent but in the mysterious aura she cultivated. Stories of her exotic origins and miraculous dance abilities created an almost mythical image. Her rise was swift, fueled by a combination of shrewd self-promotion and the insatiable curiosity of the Parisian elite.\",\n",
      "    \"As her fame grew, so did the embellishments around her persona. She encouraged the legends, weaving tales of being a Javanese princess trained in sacred dances. Journalists and biographers lapped up these stories, adding to the mystique. In reality, Mata Hari was a master of reinvention, mixing fragments of truth with captivating fiction. Her life became a performance, a careful orchestration of public perception that blurred the lines between reality and fantasy. By the time World War I loomed on the horizon, Mata Hari was not just a dancer but an icon of the exotic and the unknown.\"\n",
      "  ]\n",
      "}\n"
     ]
    }
   ],
   "source": [
    "foo = text2json(\"{\\n    \\\"title\\\": \\\"Chapter 02: The Rise of an Exotic Dancer - From Margaretha to Mata Hari\\\",\\n    \\\"paragraphs\\\": [\\n        \\\"The gaslights flickered and the crimson drapes parted, revealing the slender figure of Margaretha Zelle, reborn as Mata Hari, the sultry temptress whose allure would soon enchant all of Paris. Her first performance as Mata Hari was nothing short of magical. The audience, a mix of art connoisseurs, aristocrats, and curious onlookers, watched in awe as she glided across the stage, her movements fluid and hypnotic. Each flick of her wrist, each twist of her hips, told a story of faraway lands and ancient mysteries. As the final notes of the exotic music echoed through the hall, there was a moment of stunned silence before the explosion of applause. Mata Hari had arrived.\\\",\\n\\n        \\\"Margaretha\\u2019s transformation into Mata Hari was a calculated metamorphosis born from a fierce determination to reinvent herself. After a painful divorce and the loss of her children, the Dutchwoman sought solace and reinvention in the heart of Europe. Inspired by the stories of the East that had fascinated her since childhood, she decided to create an exotic persona that would captivate Parisian high society. Drawing from Javanese traditions and donning elaborate costumes, Margaretha Zelle became Mata Hari, a name that would soon be whispered in every corner of the French capital.\\\",\\n\\n        \\\"Her performances were unlike anything the Parisians had ever seen. Mata Hari's dance was a blend of sensuality and mystique, an intoxicating combination that left the audience spellbound. She moved with an elegance and confidence that belied her past struggles, her eyes telling tales of passion and sorrow. Each night, the theater filled with admirers eager to catch a glimpse of the enigmatic dancer who seemed to possess an otherworldly charm. It wasn't long before Mata Hari became a sensation, her name synonymous with glamour and intrigue.\\\",\\n\\n        \\\"The elite of Parisian society were entranced by this enigmatic figure. Mata Hari found herself invited to the most exclusive salons and gatherings, where she mingled with influential politicians, artists, and military officers. Her allure was not just in her beauty and talent but in the mysterious aura she cultivated. Stories of her exotic origins and miraculous dance abilities created an almost mythical image. Her rise was swift, fueled by a combination of shrewd self-promotion and the insatiable curiosity of the Parisian elite.\\\",\\n\\n        \\\"As her fame grew, so did the embellishments around her persona. She encouraged the legends, weaving tales of being a Javanese princess trained in sacred dances. Journalists and biographers lapped up these stories, adding to the mystique. In reality, Mata Hari was a master of reinvention, mixing fragments of truth with captivating fiction. Her life became a performance, a careful orchestration of public perception that blurred the lines between reality and fantasy. By the time World War I loomed on the horizon, Mata Hari was not just a dancer but an icon of the exotic and the unknown.\\\"\\n    ]\\n}\")\n",
    "\n",
    "print(json.dumps(foo, indent=2));"
   ]
  }
 ],
 "metadata": {
  "kernelspec": {
   "display_name": "Python 3 (ipykernel)",
   "language": "python",
   "name": "python3"
  },
  "language_info": {
   "codemirror_mode": {
    "name": "ipython",
    "version": 3
   },
   "file_extension": ".py",
   "mimetype": "text/x-python",
   "name": "python",
   "nbconvert_exporter": "python",
   "pygments_lexer": "ipython3",
   "version": "3.9.19"
  }
 },
 "nbformat": 4,
 "nbformat_minor": 5
}
