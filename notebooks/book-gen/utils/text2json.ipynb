{
 "cells": [
  {
   "cell_type": "code",
   "execution_count": 2,
   "id": "636d4742-c54a-4fab-a0bc-5d3c13b364a4",
   "metadata": {},
   "outputs": [],
   "source": [
    "import json\n",
    "import re\n",
    "\n",
    "def text2json(text):\n",
    "    # Regular expression to find JSON within text\n",
    "    json_regex = re.compile(r'```json(.*?)```', re.DOTALL)\n",
    "    json_match = json_regex.search(text)\n",
    "    \n",
    "    if json_match:\n",
    "        json_text = json_match.group(1).strip()\n",
    "    else:\n",
    "        # Attempt to extract JSON without delimiters\n",
    "        try:\n",
    "            return json.loads(text)\n",
    "        except json.JSONDecodeError:\n",
    "            return {\"content\": text.strip()}\n",
    "    \n",
    "    # Attempt to parse JSON\n",
    "    try:\n",
    "        return json.loads(json_text)\n",
    "    except json.JSONDecodeError:\n",
    "        return {\"content\": text.strip()}"
   ]
  }
 ],
 "metadata": {
  "kernelspec": {
   "display_name": "Python 3 (ipykernel)",
   "language": "python",
   "name": "python3"
  },
  "language_info": {
   "codemirror_mode": {
    "name": "ipython",
    "version": 3
   },
   "file_extension": ".py",
   "mimetype": "text/x-python",
   "name": "python",
   "nbconvert_exporter": "python",
   "pygments_lexer": "ipython3",
   "version": "3.9.19"
  }
 },
 "nbformat": 4,
 "nbformat_minor": 5
}
