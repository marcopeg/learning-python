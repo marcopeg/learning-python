{
 "cells": [
  {
   "cell_type": "code",
   "execution_count": 11,
   "id": "5ca8997a-554f-4e44-be58-b93cb01398e7",
   "metadata": {},
   "outputs": [],
   "source": [
    "import json\n",
    "import re\n",
    "\n",
    "def text2json(text):\n",
    "    # Regular expression to find JSON within text\n",
    "    json_regex = re.compile(r'```json(.*?)```', re.DOTALL)\n",
    "    json_match = json_regex.search(text)\n",
    "    \n",
    "    if json_match:\n",
    "        json_text = json_match.group(1).strip()\n",
    "    else:\n",
    "        # Attempt to extract JSON without delimiters\n",
    "        try:\n",
    "            return json.loads(text)\n",
    "        except json.JSONDecodeError:\n",
    "            return {\"content\": text.strip()}\n",
    "    \n",
    "    # Attempt to parse JSON\n",
    "    try:\n",
    "        return json.loads(json_text)\n",
    "    except json.JSONDecodeError:\n",
    "        return {\"content\": text.strip()}"
   ]
  },
  {
   "cell_type": "code",
   "execution_count": 10,
   "id": "fd9d4264-247a-41f2-9015-8fdd09ebd374",
   "metadata": {},
   "outputs": [],
   "source": [
    "import os\n",
    "import openai\n",
    "openai.api_key = os.getenv(\"OPENAI_API_KEY\")\n",
    "\n",
    "def openai_prompt(settings, system, user):\n",
    "    # Set default settings if not provided\n",
    "    default_settings = {\"model\": \"gpt-3.5-turbo\"}\n",
    "    local_settings = {**default_settings, **settings}\n",
    "\n",
    "    # Concatenate the messages\n",
    "    system_objects = [{\"role\": \"system\", \"content\": item} for item in system]\n",
    "    user_objects = [{\"role\": \"user\", \"content\": item} for item in user]\n",
    "\n",
    "    # Prepare the API call parameters\n",
    "    api_params = {\n",
    "        \"model\": local_settings[\"model\"],\n",
    "        \"messages\": system_objects + user_objects\n",
    "    }\n",
    "\n",
    "    # Include max_tokens if present in settings\n",
    "    if \"max_tokens\" in local_settings:\n",
    "        api_params[\"max_tokens\"] = local_settings[\"max_tokens\"]\n",
    "    \n",
    "    # Create the OpenAI chat completion\n",
    "    response = openai.chat.completions.create(**api_params)\n",
    "    #print(\"RESPONSE\")\n",
    "    #print(response)\n",
    "    content = response.choices[0].message.content\n",
    "    #print(\"CONTENT\")\n",
    "    #print(content)\n",
    "    data = text2json(content)\n",
    "    return data"
   ]
  }
 ],
 "metadata": {
  "kernelspec": {
   "display_name": "Python 3 (ipykernel)",
   "language": "python",
   "name": "python3"
  },
  "language_info": {
   "codemirror_mode": {
    "name": "ipython",
    "version": 3
   },
   "file_extension": ".py",
   "mimetype": "text/x-python",
   "name": "python",
   "nbconvert_exporter": "python",
   "pygments_lexer": "ipython3",
   "version": "3.9.19"
  }
 },
 "nbformat": 4,
 "nbformat_minor": 5
}
