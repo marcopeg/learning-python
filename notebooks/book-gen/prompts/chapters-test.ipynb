{
 "cells": [
  {
   "cell_type": "code",
   "execution_count": 15,
   "id": "ab8fc2d6-b129-4f80-9ca4-2dd25a9fd92d",
   "metadata": {},
   "outputs": [],
   "source": [
    "import json\n",
    "%run ../settings.ipynb\n",
    "%run ../utils/text2json.ipynb\n",
    "%run ../utils/insert-by-key-id.ipynb\n",
    "%run ./chapters.ipynb"
   ]
  },
  {
   "cell_type": "markdown",
   "id": "696787dd-9d66-47ac-9194-ef4838b2bae3",
   "metadata": {
    "jp-MarkdownHeadingCollapsed": true
   },
   "source": [
    "### Settings"
   ]
  },
  {
   "cell_type": "code",
   "execution_count": 16,
   "id": "cb2ce64e-e0e7-4343-9990-658308209d9f",
   "metadata": {},
   "outputs": [],
   "source": [
    "settings = {\n",
    "  \"subject\": \"The history of the Holy Grail\",\n",
    "  \"sections_tip\": \"\\n        the first section should tell a compelling story to catch the readers attention.\\n        the last section should propose further research that the reader can do.\\n        the other sections are for facts and information development.\\n        \",\n",
    "  \"tone_of_voice\": \"adventure and mistery\",\n",
    "  \"model\": \"gpt-3.5-turbo\",\n",
    "  \"titles_min\": 2,\n",
    "  \"titles_max\": 4,\n",
    "  \"sections_min\": 2,\n",
    "  \"sections_max\": 4,\n",
    "  \"chapters_min\": 2,\n",
    "  \"chapters_max\": 2,\n",
    "  \"paragraphs_min\": 2,\n",
    "  \"paragraphs_max\": 2,\n",
    "  \"excerpt_length_min\": 15,\n",
    "  \"excerpt_length_max\": 30,\n",
    "  \"paragraph_length_min\": 50,\n",
    "  \"paragraph_length_max\": 100,\n",
    "  \"title\": \"Chasing the Holy Grail\",\n",
    "  \"subtitle\": \"A Thrilling Adventure into the Enigmatic Past\",\n",
    "  \"sections\": [\n",
    "    {\n",
    "      \"id\": 1,\n",
    "      \"title\": \"The Mysterious Quest Begins\",\n",
    "      \"excerpt\": \"In the dimly lit crypt, an ancient map is found, leading our protagonist on a perilous journey to uncover the secrets of the Holy Grail.\"\n",
    "    },\n",
    "    {\n",
    "      \"id\": 2,\n",
    "      \"title\": \"Legends and Lore of the Holy Grail\",\n",
    "      \"excerpt\": \"Explore the rich tapestry of legends surrounding the Holy Grail, from Arthurian tales to medieval romances, each offering a different clue.\"\n",
    "    },\n",
    "    {\n",
    "      \"id\": 3,\n",
    "      \"title\": \"Historical Pursuit of the Grail\",\n",
    "      \"excerpt\": \"Delve into the historical accounts and enigmatic symbols associated with the search for the Holy Grail, revealing hidden truths and potential leads.\"\n",
    "    },\n",
    "    {\n",
    "      \"id\": 4,\n",
    "      \"title\": \"Unraveling the Enigma Further\",\n",
    "      \"excerpt\": \"Embark on your own quest for knowledge by investigating the historical sites, academic studies, and alternative theories surrounding the elusive Holy Grail.\"\n",
    "    }\n",
    "  ]\n",
    "}"
   ]
  },
  {
   "cell_type": "markdown",
   "id": "b213c734-6a01-463b-a28a-22b5f21dc7c2",
   "metadata": {},
   "source": [
    "### Test 01"
   ]
  },
  {
   "cell_type": "code",
   "execution_count": 17,
   "id": "6b25dbd4-49ff-4a57-80f9-e53c4e8d9870",
   "metadata": {},
   "outputs": [],
   "source": [
    "test01 = gen_chapters(settings, 1)"
   ]
  },
  {
   "cell_type": "code",
   "execution_count": 18,
   "id": "535b9c22-2a67-42e4-bb77-c3d7087b52b3",
   "metadata": {},
   "outputs": [
    {
     "name": "stdout",
     "output_type": "stream",
     "text": [
      "{\n",
      "    \"chapters\": [\n",
      "        {\n",
      "            \"id\": 5,\n",
      "            \"title\": \"Ancient Clues Revealed\",\n",
      "            \"excerpt\": \"Cryptic symbols on the map hint at hidden passages and ancient riddles, guiding our protagonist through the first challenges of the quest.\"\n",
      "        },\n",
      "        {\n",
      "            \"id\": 6,\n",
      "            \"title\": \"The Cryptic Trail Unfolds\",\n",
      "            \"excerpt\": \"Following the map\\u2019s intricate trail, our protagonist navigates through treacherous terrain, uncovering clues that lead deeper into the mystery.\"\n",
      "        }\n",
      "    ]\n",
      "}\n"
     ]
    }
   ],
   "source": [
    "print(json.dumps(test01, indent=4))"
   ]
  },
  {
   "cell_type": "code",
   "execution_count": 19,
   "id": "80a3bc1b-efab-4523-92b3-8a63ec7538ed",
   "metadata": {},
   "outputs": [
    {
     "data": {
      "text/plain": [
       "True"
      ]
     },
     "execution_count": 19,
     "metadata": {},
     "output_type": "execute_result"
    }
   ],
   "source": [
    "insert_by_key_id(settings, 'sections', 1, 'chapters', test01['chapters'])"
   ]
  },
  {
   "cell_type": "code",
   "execution_count": 20,
   "id": "6170ae73-382d-43dc-a7fe-1192c46cb7fd",
   "metadata": {},
   "outputs": [
    {
     "name": "stdout",
     "output_type": "stream",
     "text": [
      "{\n",
      "  \"subject\": \"The history of the Holy Grail\",\n",
      "  \"sections_tip\": \"\\n        the first section should tell a compelling story to catch the readers attention.\\n        the last section should propose further research that the reader can do.\\n        the other sections are for facts and information development.\\n        \",\n",
      "  \"tone_of_voice\": \"adventure and mistery\",\n",
      "  \"model\": \"gpt-3.5-turbo\",\n",
      "  \"titles_min\": 2,\n",
      "  \"titles_max\": 4,\n",
      "  \"sections_min\": 2,\n",
      "  \"sections_max\": 4,\n",
      "  \"chapters_min\": 2,\n",
      "  \"chapters_max\": 2,\n",
      "  \"paragraphs_min\": 2,\n",
      "  \"paragraphs_max\": 2,\n",
      "  \"excerpt_length_min\": 15,\n",
      "  \"excerpt_length_max\": 30,\n",
      "  \"paragraph_length_min\": 50,\n",
      "  \"paragraph_length_max\": 100,\n",
      "  \"title\": \"Chasing the Holy Grail\",\n",
      "  \"subtitle\": \"A Thrilling Adventure into the Enigmatic Past\",\n",
      "  \"sections\": [\n",
      "    {\n",
      "      \"id\": 1,\n",
      "      \"title\": \"The Mysterious Quest Begins\",\n",
      "      \"excerpt\": \"In the dimly lit crypt, an ancient map is found, leading our protagonist on a perilous journey to uncover the secrets of the Holy Grail.\",\n",
      "      \"chapters\": [\n",
      "        {\n",
      "          \"id\": 5,\n",
      "          \"title\": \"Ancient Clues Revealed\",\n",
      "          \"excerpt\": \"Cryptic symbols on the map hint at hidden passages and ancient riddles, guiding our protagonist through the first challenges of the quest.\"\n",
      "        },\n",
      "        {\n",
      "          \"id\": 6,\n",
      "          \"title\": \"The Cryptic Trail Unfolds\",\n",
      "          \"excerpt\": \"Following the map\\u2019s intricate trail, our protagonist navigates through treacherous terrain, uncovering clues that lead deeper into the mystery.\"\n",
      "        }\n",
      "      ]\n",
      "    },\n",
      "    {\n",
      "      \"id\": 2,\n",
      "      \"title\": \"Legends and Lore of the Holy Grail\",\n",
      "      \"excerpt\": \"Explore the rich tapestry of legends surrounding the Holy Grail, from Arthurian tales to medieval romances, each offering a different clue.\"\n",
      "    },\n",
      "    {\n",
      "      \"id\": 3,\n",
      "      \"title\": \"Historical Pursuit of the Grail\",\n",
      "      \"excerpt\": \"Delve into the historical accounts and enigmatic symbols associated with the search for the Holy Grail, revealing hidden truths and potential leads.\"\n",
      "    },\n",
      "    {\n",
      "      \"id\": 4,\n",
      "      \"title\": \"Unraveling the Enigma Further\",\n",
      "      \"excerpt\": \"Embark on your own quest for knowledge by investigating the historical sites, academic studies, and alternative theories surrounding the elusive Holy Grail.\"\n",
      "    }\n",
      "  ]\n",
      "}\n"
     ]
    }
   ],
   "source": [
    "print(json.dumps(settings, indent=2))"
   ]
  },
  {
   "cell_type": "markdown",
   "id": "4aa81f98-5f32-4b50-aef0-4dbb28121cff",
   "metadata": {},
   "source": [
    "### Test 02"
   ]
  },
  {
   "cell_type": "code",
   "execution_count": 21,
   "id": "46823f34-e191-4c36-9c88-81cef7e1b81f",
   "metadata": {},
   "outputs": [],
   "source": [
    "test02 = gen_chapters(settings, 2)"
   ]
  },
  {
   "cell_type": "code",
   "execution_count": 22,
   "id": "c61968f6-7a42-4762-81ff-368896b280ba",
   "metadata": {},
   "outputs": [
    {
     "name": "stdout",
     "output_type": "stream",
     "text": [
      "{\n",
      "  \"chapters\": [\n",
      "    {\n",
      "      \"id\": 7,\n",
      "      \"title\": \"Arthur's Quest for the Grail\",\n",
      "      \"excerpt\": \"Uncover the legendary King Arthur's epic search for the Holy Grail, shrouded in mystery and filled with noble knights and daunting quests.\"\n",
      "    },\n",
      "    {\n",
      "      \"id\": 8,\n",
      "      \"title\": \"Enchanted Prophesies and Fateful Encounters\",\n",
      "      \"excerpt\": \"Journey through the mystical prophecies and magical encounters in the lore of the Holy Grail, where destinies intertwine and secrets are revealed.\"\n",
      "    }\n",
      "  ]\n",
      "}\n"
     ]
    }
   ],
   "source": [
    "print(json.dumps(test02, indent=2))"
   ]
  },
  {
   "cell_type": "code",
   "execution_count": 23,
   "id": "4665810a-c04c-4e1b-931e-6a615d2b244d",
   "metadata": {},
   "outputs": [
    {
     "data": {
      "text/plain": [
       "True"
      ]
     },
     "execution_count": 23,
     "metadata": {},
     "output_type": "execute_result"
    }
   ],
   "source": [
    "insert_by_key_id(settings, 'sections', 2, 'chapters', test02['chapters'])"
   ]
  },
  {
   "cell_type": "code",
   "execution_count": 24,
   "id": "222b1abc-0a2e-4b1c-bc42-2ccb3e3139fc",
   "metadata": {},
   "outputs": [
    {
     "name": "stdout",
     "output_type": "stream",
     "text": [
      "{\n",
      "  \"subject\": \"The history of the Holy Grail\",\n",
      "  \"sections_tip\": \"\\n        the first section should tell a compelling story to catch the readers attention.\\n        the last section should propose further research that the reader can do.\\n        the other sections are for facts and information development.\\n        \",\n",
      "  \"tone_of_voice\": \"adventure and mistery\",\n",
      "  \"model\": \"gpt-3.5-turbo\",\n",
      "  \"titles_min\": 2,\n",
      "  \"titles_max\": 4,\n",
      "  \"sections_min\": 2,\n",
      "  \"sections_max\": 4,\n",
      "  \"chapters_min\": 2,\n",
      "  \"chapters_max\": 2,\n",
      "  \"paragraphs_min\": 2,\n",
      "  \"paragraphs_max\": 2,\n",
      "  \"excerpt_length_min\": 15,\n",
      "  \"excerpt_length_max\": 30,\n",
      "  \"paragraph_length_min\": 50,\n",
      "  \"paragraph_length_max\": 100,\n",
      "  \"title\": \"Chasing the Holy Grail\",\n",
      "  \"subtitle\": \"A Thrilling Adventure into the Enigmatic Past\",\n",
      "  \"sections\": [\n",
      "    {\n",
      "      \"id\": 1,\n",
      "      \"title\": \"The Mysterious Quest Begins\",\n",
      "      \"excerpt\": \"In the dimly lit crypt, an ancient map is found, leading our protagonist on a perilous journey to uncover the secrets of the Holy Grail.\",\n",
      "      \"chapters\": [\n",
      "        {\n",
      "          \"id\": 5,\n",
      "          \"title\": \"Ancient Clues Revealed\",\n",
      "          \"excerpt\": \"Cryptic symbols on the map hint at hidden passages and ancient riddles, guiding our protagonist through the first challenges of the quest.\"\n",
      "        },\n",
      "        {\n",
      "          \"id\": 6,\n",
      "          \"title\": \"The Cryptic Trail Unfolds\",\n",
      "          \"excerpt\": \"Following the map\\u2019s intricate trail, our protagonist navigates through treacherous terrain, uncovering clues that lead deeper into the mystery.\"\n",
      "        }\n",
      "      ]\n",
      "    },\n",
      "    {\n",
      "      \"id\": 2,\n",
      "      \"title\": \"Legends and Lore of the Holy Grail\",\n",
      "      \"excerpt\": \"Explore the rich tapestry of legends surrounding the Holy Grail, from Arthurian tales to medieval romances, each offering a different clue.\",\n",
      "      \"chapters\": [\n",
      "        {\n",
      "          \"id\": 7,\n",
      "          \"title\": \"Arthur's Quest for the Grail\",\n",
      "          \"excerpt\": \"Uncover the legendary King Arthur's epic search for the Holy Grail, shrouded in mystery and filled with noble knights and daunting quests.\"\n",
      "        },\n",
      "        {\n",
      "          \"id\": 8,\n",
      "          \"title\": \"Enchanted Prophesies and Fateful Encounters\",\n",
      "          \"excerpt\": \"Journey through the mystical prophecies and magical encounters in the lore of the Holy Grail, where destinies intertwine and secrets are revealed.\"\n",
      "        }\n",
      "      ]\n",
      "    },\n",
      "    {\n",
      "      \"id\": 3,\n",
      "      \"title\": \"Historical Pursuit of the Grail\",\n",
      "      \"excerpt\": \"Delve into the historical accounts and enigmatic symbols associated with the search for the Holy Grail, revealing hidden truths and potential leads.\"\n",
      "    },\n",
      "    {\n",
      "      \"id\": 4,\n",
      "      \"title\": \"Unraveling the Enigma Further\",\n",
      "      \"excerpt\": \"Embark on your own quest for knowledge by investigating the historical sites, academic studies, and alternative theories surrounding the elusive Holy Grail.\"\n",
      "    }\n",
      "  ]\n",
      "}\n"
     ]
    }
   ],
   "source": [
    "print(json.dumps(settings, indent=2))"
   ]
  }
 ],
 "metadata": {
  "kernelspec": {
   "display_name": "Python 3 (ipykernel)",
   "language": "python",
   "name": "python3"
  },
  "language_info": {
   "codemirror_mode": {
    "name": "ipython",
    "version": 3
   },
   "file_extension": ".py",
   "mimetype": "text/x-python",
   "name": "python",
   "nbconvert_exporter": "python",
   "pygments_lexer": "ipython3",
   "version": "3.9.19"
  }
 },
 "nbformat": 4,
 "nbformat_minor": 5
}
