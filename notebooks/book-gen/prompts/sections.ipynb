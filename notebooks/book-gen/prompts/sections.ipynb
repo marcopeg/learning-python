{
 "cells": [
  {
   "cell_type": "code",
   "execution_count": 8,
   "id": "0a24b67f-868b-49d6-8784-53651d56495d",
   "metadata": {},
   "outputs": [],
   "source": [
    "def gen_sections(settings):\n",
    "    response = openai.chat.completions.create(\n",
    "        model= settings[\"model\"],\n",
    "        messages= [\n",
    "            {\n",
    "                \"role\": \"system\",\n",
    "                \"content\": \n",
    "                    f\"\"\"\n",
    "                    You are an expert historian that specializes in building book projects.\n",
    "                    Your task is to generate the main sections outline for a book based on the provided subject.\n",
    "                    The tone of voice for the book is: {settings[\"tone_of_voice\"]}.\n",
    "                    The length for the excerpts is between {settings['excerpt_length_min']} and {settings['excerpt_length_max']} words.\n",
    "                    \"\"\"\n",
    "            },\n",
    "            {\n",
    "                \"role\": \"system\",\n",
    "                \"content\": \n",
    "                    \"\"\"\n",
    "                    The output is a JSON document like:\n",
    "\n",
    "                    {\n",
    "                      \"sections\": [\n",
    "                        {\n",
    "                          \"id\": 1,\n",
    "                          \"title\": \"Title of section 1...\",\n",
    "                          \"excerpt\": \"excerpt for section 1...\n",
    "                        },\n",
    "                        {\n",
    "                          \"id\": 2,\n",
    "                          \"title\": \"Title of part w...\",\n",
    "                          \"excerpt\": \"excerpt for section 2...\n",
    "                        }\n",
    "                      ]\n",
    "                    }\n",
    "                    \"\"\"\n",
    "            },\n",
    "            {\n",
    "                \"role\": \"user\",\n",
    "                \"content\": \n",
    "                    f\"\"\"\n",
    "                    Generate between {settings['sections_min']} and {settings['sections_max']} sections for a book on the subject: \n",
    "                    {settings['title']}: {settings['subtitle']}.\n",
    "                    \n",
    "                    {settings['sections_tip']}\n",
    "                    \"\"\"\n",
    "            }\n",
    "        ]\n",
    "    )\n",
    "    data = text2json(response.choices[0].message.content)\n",
    "    return data"
   ]
  }
 ],
 "metadata": {
  "kernelspec": {
   "display_name": "Python 3 (ipykernel)",
   "language": "python",
   "name": "python3"
  },
  "language_info": {
   "codemirror_mode": {
    "name": "ipython",
    "version": 3
   },
   "file_extension": ".py",
   "mimetype": "text/x-python",
   "name": "python",
   "nbconvert_exporter": "python",
   "pygments_lexer": "ipython3",
   "version": "3.9.19"
  }
 },
 "nbformat": 4,
 "nbformat_minor": 5
}
