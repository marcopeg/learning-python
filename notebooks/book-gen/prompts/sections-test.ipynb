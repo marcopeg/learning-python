{
 "cells": [
  {
   "cell_type": "code",
   "execution_count": 15,
   "id": "74bfaf94-0f94-4b28-9e93-d416a894b80d",
   "metadata": {},
   "outputs": [],
   "source": [
    "import json\n",
    "%run ../settings.ipynb\n",
    "%run ../utils/text2json.ipynb\n",
    "%run ./sections.ipynb"
   ]
  },
  {
   "cell_type": "code",
   "execution_count": 16,
   "id": "1719703a-32ce-4247-9705-431b5a984296",
   "metadata": {},
   "outputs": [],
   "source": [
    "test01 = gen_sections({\n",
    "    \"title\": \"Quest for the Chalice\",\n",
    "    \"subtitle\": \"Unveiling the Mysteries of the Holy Grail\",\n",
    "    \"sections_tip\": \n",
    "        \"\"\"\n",
    "        the first section should tell a compelling story to catch the readers attention.\n",
    "        the last section should propose further research that the reader can do.\n",
    "        the other sections are for facts and information development.\n",
    "        \"\"\",\n",
    "    \"tone_of_voice\": \"adventure and mistery\",\n",
    "    \"model\": \"gpt-3.5-turbo\",\n",
    "    \"sections_min\": 2,\n",
    "    \"sections_max\": 4,\n",
    "    \"excerpt_length_min\": 15,\n",
    "    \"excerpt_length_max\": 20,\n",
    "})"
   ]
  },
  {
   "cell_type": "code",
   "execution_count": 17,
   "id": "ee685ef2-e00e-41b9-a64f-91f1900b2dda",
   "metadata": {},
   "outputs": [
    {
     "name": "stdout",
     "output_type": "stream",
     "text": [
      "{\n",
      "    \"sections\": [\n",
      "        {\n",
      "            \"id\": 1,\n",
      "            \"title\": \"Lost Legends and Forbidden Tombs\",\n",
      "            \"excerpt\": \"Venture into the forgotten lands where whispers of the sacred Chalice still echo.\"\n",
      "        },\n",
      "        {\n",
      "            \"id\": 2,\n",
      "            \"title\": \"Realm of the Knights Templar\",\n",
      "            \"excerpt\": \"Explore the enigmatic connection between the Knights Templar and the Holy Grail.\"\n",
      "        },\n",
      "        {\n",
      "            \"id\": 3,\n",
      "            \"title\": \"The Alchemical Secrets Unveiled\",\n",
      "            \"excerpt\": \"Discover the mystical world of alchemy and its role in the Quest for the Chalice.\"\n",
      "        },\n",
      "        {\n",
      "            \"id\": 4,\n",
      "            \"title\": \"Continuing the Quest\",\n",
      "            \"excerpt\": \"Embark on your own journey of discovery, seek the truth hidden within the Grail mysteries.\"\n",
      "        }\n",
      "    ]\n",
      "}\n"
     ]
    }
   ],
   "source": [
    "print(json.dumps(test01, indent=4))"
   ]
  },
  {
   "cell_type": "code",
   "execution_count": null,
   "id": "b170e46c-ede3-47dd-9526-4998f9096627",
   "metadata": {},
   "outputs": [],
   "source": []
  }
 ],
 "metadata": {
  "kernelspec": {
   "display_name": "Python 3 (ipykernel)",
   "language": "python",
   "name": "python3"
  },
  "language_info": {
   "codemirror_mode": {
    "name": "ipython",
    "version": 3
   },
   "file_extension": ".py",
   "mimetype": "text/x-python",
   "name": "python",
   "nbconvert_exporter": "python",
   "pygments_lexer": "ipython3",
   "version": "3.9.19"
  }
 },
 "nbformat": 4,
 "nbformat_minor": 5
}
