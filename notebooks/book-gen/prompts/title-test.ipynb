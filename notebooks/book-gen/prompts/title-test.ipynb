{
 "cells": [
  {
   "cell_type": "code",
   "execution_count": 8,
   "id": "ddda8403-1fdb-4592-8c70-1432140f658f",
   "metadata": {},
   "outputs": [],
   "source": [
    "import json\n",
    "%run ./title.ipynb"
   ]
  },
  {
   "cell_type": "code",
   "execution_count": 6,
   "id": "6839b619-a24d-4b03-9711-21f7b1c0e68c",
   "metadata": {},
   "outputs": [],
   "source": [
    "test01 = gen_title({\n",
    "    \"subject\": \"The history of the Holy Grail\",\n",
    "    \"tone_of_voice\": \"adventure and mistery\",\n",
    "    \"model\": \"gpt-3.5-turbo\",\n",
    "    \"titles_min\": 2,\n",
    "    \"titles_max\": 3,\n",
    "})"
   ]
  },
  {
   "cell_type": "code",
   "execution_count": 7,
   "id": "6fccc719-4816-474e-abef-133b6fa9bd19",
   "metadata": {},
   "outputs": [
    {
     "name": "stdout",
     "output_type": "stream",
     "text": [
      "{\n",
      "  \"titles\": [\n",
      "    {\n",
      "      \"id\": 1,\n",
      "      \"title\": \"Quest for the Chalice\",\n",
      "      \"subtitle\": \"Unveiling the Mysteries of the Holy Grail through the Ages\"\n",
      "    },\n",
      "    {\n",
      "      \"id\": 2,\n",
      "      \"title\": \"Grail Legends\",\n",
      "      \"subtitle\": \"Exploring the Ancient Secrets and Adventures of the Holy Grail\"\n",
      "    },\n",
      "    {\n",
      "      \"id\": 3,\n",
      "      \"title\": \"The Elusive Grail\",\n",
      "      \"subtitle\": \"A Thrilling Journey into the Enigmatic Past of the Holy Grail\"\n",
      "    }\n",
      "  ]\n",
      "}\n"
     ]
    }
   ],
   "source": [
    "print(json.dumps(test01, indent=2))"
   ]
  }
 ],
 "metadata": {
  "kernelspec": {
   "display_name": "Python 3 (ipykernel)",
   "language": "python",
   "name": "python3"
  },
  "language_info": {
   "codemirror_mode": {
    "name": "ipython",
    "version": 3
   },
   "file_extension": ".py",
   "mimetype": "text/x-python",
   "name": "python",
   "nbconvert_exporter": "python",
   "pygments_lexer": "ipython3",
   "version": "3.9.19"
  }
 },
 "nbformat": 4,
 "nbformat_minor": 5
}
