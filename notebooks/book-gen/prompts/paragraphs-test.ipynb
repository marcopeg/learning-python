{
 "cells": [
  {
   "cell_type": "code",
   "execution_count": 14,
   "id": "c9eb3208-410b-4eaa-aaa8-b7b3525d4bcd",
   "metadata": {},
   "outputs": [],
   "source": [
    "import json\n",
    "%run ../settings.ipynb\n",
    "%run ../utils/text2json.ipynb\n",
    "%run ../utils/insert-by-key-id.ipynb\n",
    "%run ./paragraphs.ipynb"
   ]
  },
  {
   "cell_type": "markdown",
   "id": "66f15926-1d89-4910-bde0-dfff3889ed2f",
   "metadata": {},
   "source": [
    "### Settings"
   ]
  },
  {
   "cell_type": "code",
   "execution_count": 15,
   "id": "4bf2c3df-1a65-4d60-8f40-7c368f58d6f4",
   "metadata": {},
   "outputs": [],
   "source": [
    "settings = {\n",
    "  \"subject\": \"The history of the Holy Grail\",\n",
    "  \"sections_tip\": \"\\n        the first section should tell a compelling story to catch the readers attention.\\n        the last section should propose further research that the reader can do.\\n        the other sections are for facts and information development.\\n        \",\n",
    "  \"tone_of_voice\": \"adventure and mistery\",\n",
    "  \"model\": \"gpt-3.5-turbo\",\n",
    "  \"titles_min\": 2,\n",
    "  \"titles_max\": 4,\n",
    "  \"sections_min\": 2,\n",
    "  \"sections_max\": 4,\n",
    "  \"chapters_min\": 2,\n",
    "  \"chapters_max\": 2,\n",
    "  \"paragraphs_min\": 2,\n",
    "  \"paragraphs_max\": 2,\n",
    "  \"excerpt_length_min\": 15,\n",
    "  \"excerpt_length_max\": 30,\n",
    "  \"paragraph_length_min\": 50,\n",
    "  \"paragraph_length_max\": 100,\n",
    "  \"title\": \"Chasing the Holy Grail\",\n",
    "  \"subtitle\": \"A Thrilling Adventure into the Enigmatic Past\",\n",
    "  \"sections\": [\n",
    "    {\n",
    "      \"id\": 1,\n",
    "      \"title\": \"The Mysterious Quest Begins\",\n",
    "      \"excerpt\": \"In the dimly lit crypt, an ancient map is found, leading our protagonist on a perilous journey to uncover the secrets of the Holy Grail.\",\n",
    "      \"chapters\": [\n",
    "        {\n",
    "          \"id\": 5,\n",
    "          \"title\": \"Cryptic Clues Revealed\",\n",
    "          \"excerpt\": \"Decipher cryptic messages hidden within the ancient map, pointing towards obscure locations and mystical symbols connected to the Holy Grail.\"\n",
    "        },\n",
    "        {\n",
    "          \"id\": 6,\n",
    "          \"title\": \"Whispers of Betrayal\",\n",
    "          \"excerpt\": \"As our protagonist follows the trail, whispers of betrayal and deceit surround them, casting doubt on allies and revealing dark intentions.\"\n",
    "        }\n",
    "      ]\n",
    "    },\n",
    "    {\n",
    "      \"id\": 2,\n",
    "      \"title\": \"Legends and Lore of the Holy Grail\",\n",
    "      \"excerpt\": \"Explore the rich tapestry of legends surrounding the Holy Grail, from Arthurian tales to medieval romances, each offering a different clue.\",\n",
    "      \"chapters\": [\n",
    "        {\n",
    "          \"id\": 1,\n",
    "          \"title\": \"The Arthurian Connection\",\n",
    "          \"excerpt\": \"Uncover the link between King Arthur and the Holy Grail, delving into the myths and legends that intertwine their fates.\"\n",
    "        },\n",
    "        {\n",
    "          \"id\": 2,\n",
    "          \"title\": \"Mystical Maiden of the Grail\",\n",
    "          \"excerpt\": \"Discover the role of the mysterious maiden associated with the Holy Grail, a figure shrouded in mysticism and secrets.\"\n",
    "        }\n",
    "      ]\n",
    "    },\n",
    "    {\n",
    "      \"id\": 3,\n",
    "      \"title\": \"Historical Pursuit of the Grail\",\n",
    "      \"excerpt\": \"Delve into the historical accounts and enigmatic symbols associated with the search for the Holy Grail, revealing hidden truths and potential leads.\",\n",
    "      \"chapters\": [\n",
    "        {\n",
    "          \"id\": 1,\n",
    "          \"title\": \"The Knights Templar Connection\",\n",
    "          \"excerpt\": \"Investigate the mysterious involvement of the Knights Templar in the quest for the Holy Grail, uncovering hidden orders and ancient rituals.\"\n",
    "        },\n",
    "        {\n",
    "          \"id\": 2,\n",
    "          \"title\": \"Lost Chronicles of Grail Seekers\",\n",
    "          \"excerpt\": \"Unearth forgotten chronicles of past Grail seekers, detailing their harrowing journeys and encounters with cryptic guardians.\"\n",
    "        }\n",
    "      ]\n",
    "    },\n",
    "    {\n",
    "      \"id\": 4,\n",
    "      \"title\": \"Unraveling the Enigma Further\",\n",
    "      \"excerpt\": \"Embark on your own quest for knowledge by investigating the historical sites, academic studies, and alternative theories surrounding the elusive Holy Grail.\",\n",
    "      \"chapters\": [\n",
    "        {\n",
    "          \"id\": 1,\n",
    "          \"title\": \"Secrets of the Grail Castle\",\n",
    "          \"excerpt\": \"Explore the hidden chambers and cryptic inscriptions within the ancient Grail Castle, revealing its mysterious connection to the elusive artifact.\"\n",
    "        },\n",
    "        {\n",
    "          \"id\": 2,\n",
    "          \"title\": \"The Code of the Grail\",\n",
    "          \"excerpt\": \"Decipher the complex codes and intricate puzzles left behind by secretive Grail scholars, unlocking the deeper secrets of its enigmatic nature.\"\n",
    "        }\n",
    "      ]\n",
    "    }\n",
    "  ]\n",
    "}"
   ]
  },
  {
   "cell_type": "markdown",
   "id": "4b05ff91-6f96-44a8-a099-2c83850e36df",
   "metadata": {},
   "source": [
    "### Test 01"
   ]
  },
  {
   "cell_type": "code",
   "execution_count": 16,
   "id": "ade5d7f6-8226-411a-95e1-3e9c35a664c7",
   "metadata": {},
   "outputs": [],
   "source": [
    "test01 = gen_paragraphs(settings, 2, 1)"
   ]
  },
  {
   "cell_type": "code",
   "execution_count": 17,
   "id": "e0a3610d-874c-496d-8855-92c8d20953bd",
   "metadata": {},
   "outputs": [
    {
     "name": "stdout",
     "output_type": "stream",
     "text": [
      "{\n",
      "    \"paragraphs\": [\n",
      "        {\n",
      "            \"id\": 1,\n",
      "            \"content\": \"In the ancient tales of King Arthur and his knights, the Holy Grail emerges as a central enigma, a symbol of purity and divine power. Legends speak of a quest undertaken by the valiant knights of the Round Table, a quest that tests their honor and virtue. The link between King Arthur and the Holy Grail lies in the idea of a chosen one destined to find the sacred relic, a quest that intertwines the fate of the legendary king with the mysterious power of the Grail.\"\n",
      "        },\n",
      "        {\n",
      "            \"id\": 2,\n",
      "            \"content\": \"As the myths and legends unfold, the Arthurian connection to the Holy Grail deepens, revealing a narrative of sacrifice, redemption, and spiritual enlightenment. The journey to uncover the link between King Arthur and the Holy Grail leads through treacherous landscapes, mystical encounters, and moral dilemmas. Delving into the intertwined fates of Arthur and the sacred relic unveils a tapestry of ancient prophecies, noble ambitions, and the enduring legacy of a legendary king in pursuit of a divine mystery.\"\n",
      "        }\n",
      "    ]\n",
      "}\n"
     ]
    }
   ],
   "source": [
    "print(json.dumps(test01, indent=4))"
   ]
  },
  {
   "cell_type": "code",
   "execution_count": null,
   "id": "169a5fa2-c757-4295-96b6-531ed3f454e6",
   "metadata": {},
   "outputs": [],
   "source": []
  }
 ],
 "metadata": {
  "kernelspec": {
   "display_name": "Python 3 (ipykernel)",
   "language": "python",
   "name": "python3"
  },
  "language_info": {
   "codemirror_mode": {
    "name": "ipython",
    "version": 3
   },
   "file_extension": ".py",
   "mimetype": "text/x-python",
   "name": "python",
   "nbconvert_exporter": "python",
   "pygments_lexer": "ipython3",
   "version": "3.9.19"
  }
 },
 "nbformat": 4,
 "nbformat_minor": 5
}
