{
 "cells": [
  {
   "cell_type": "code",
   "execution_count": 1,
   "id": "30eb497b-f50f-4222-b0c3-fe92e8f427cd",
   "metadata": {},
   "outputs": [],
   "source": [
    "import os\n",
    "import openai\n",
    "openai.api_key = os.getenv(\"OPENAI_API_KEY\")"
   ]
  },
  {
   "cell_type": "code",
   "execution_count": 3,
   "id": "49890820-d9ee-493a-affb-ef78fa72a080",
   "metadata": {},
   "outputs": [],
   "source": [
    "settings = {\n",
    "    \"subject\": \"The history of the Holy Grail\",\n",
    "    \"sections_tip\":\n",
    "        \"\"\"\n",
    "        the first section should tell a compelling story to catch the readers attention.\n",
    "        the last section should propose further research that the reader can do.\n",
    "        the other sections are for facts and information development.\n",
    "        \"\"\",    \n",
    "    \"tone_of_voice\": \"adventure and mistery\",\n",
    "    \"titles\": {\n",
    "        \"min\": 2,\n",
    "        \"max\": 4\n",
    "    },\n",
    "    \"sections\": {\n",
    "        \"min\": 2,\n",
    "        \"max\": 4\n",
    "    },\n",
    "    \"chapters\": {\n",
    "        \"min\": 2,\n",
    "        \"max\": 2\n",
    "    },\n",
    "    \"paragraphs\": {\n",
    "        \"min\": 2,\n",
    "        \"max\": 2\n",
    "    },\n",
    "    \"excerpt_length\": {\n",
    "        \"min\": 15,\n",
    "        \"max\": 30\n",
    "    },\n",
    "    \"paragraph_length\": {\n",
    "        \"min\": 50,\n",
    "        \"max\": 100\n",
    "    },\n",
    "    \"models\": [\n",
    "        \"gpt-3.5-turbo\",\n",
    "        \"gpt-4\",\n",
    "        \"gpt-4o\"\n",
    "    ],\n",
    "}"
   ]
  }
 ],
 "metadata": {
  "kernelspec": {
   "display_name": "Python 3 (ipykernel)",
   "language": "python",
   "name": "python3"
  },
  "language_info": {
   "codemirror_mode": {
    "name": "ipython",
    "version": 3
   },
   "file_extension": ".py",
   "mimetype": "text/x-python",
   "name": "python",
   "nbconvert_exporter": "python",
   "pygments_lexer": "ipython3",
   "version": "3.9.19"
  }
 },
 "nbformat": 4,
 "nbformat_minor": 5
}
