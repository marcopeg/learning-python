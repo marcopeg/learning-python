{
 "cells": [
  {
   "cell_type": "code",
   "execution_count": 9,
   "id": "26b42f77-2a8f-4055-8a4c-ad24db1b755b",
   "metadata": {},
   "outputs": [
    {
     "name": "stdout",
     "output_type": "stream",
     "text": [
      "JavaScript Chronicles\n"
     ]
    }
   ],
   "source": [
    "import os\n",
    "import markdown\n",
    "import pypandoc\n",
    "import json\n",
    "\n",
    "source_md = 'books/javascript-chronicles.md'\n",
    "source_json = f\"{os.path.splitext(source_md)[0]}.json\"\n",
    "output_epub = f\"{os.path.splitext(source_md)[0]}.epub\"\n",
    "\n",
    "# Load Markdown content from a file\n",
    "with open(source_md, 'r', encoding='utf-8') as file:\n",
    "    md_content = file.read()\n",
    "\n",
    "# Load JSON data\n",
    "with open(source_json, 'r', encoding='utf-8') as file:\n",
    "    json_content = json.load(file)\n",
    "    \n",
    "#print(md_content);\n",
    "print();"
   ]
  },
  {
   "cell_type": "code",
   "execution_count": 16,
   "id": "07d3bb55-f14d-4362-bb99-3fdc5f8598df",
   "metadata": {},
   "outputs": [],
   "source": [
    "# Generate temp file with modifications:\n",
    "md_content = md_content.replace('---', '<div class=\"custom-page-break\"></div>');\n",
    "temp_md = f\"{os.path.splitext(source_md)[0]}.temp.md\"\n",
    "with open(temp_md, 'w', encoding='utf-8') as file:\n",
    "    file.write(md_content)\n",
    "\n",
    "# Generate the CSS\n",
    "custom_css = f\"{os.path.splitext(source_md)[0]}.temp.css\"\n",
    "with open(custom_css, 'w') as file:\n",
    "    file.write(\n",
    "        \"\"\"\n",
    "        .custom-page-break { display: block; page-break-before: always; margin-top: 1cm; }\n",
    "        \"\"\")\n",
    "\n",
    "extra_args = [\n",
    "    f\"--metadata=title:{json_content['development']['title']}\",\n",
    "    f\"--css={custom_css}\",\n",
    "    \"--metadata=author:ChatGPT\"\n",
    "]\n",
    "\n",
    "pypandoc.convert_file(temp_md, 'epub', outputfile=output_epub, extra_args=extra_args)\n",
    "\n",
    "# Cleanup\n",
    "os.remove(temp_md)\n",
    "os.remove(custom_css)"
   ]
  },
  {
   "cell_type": "code",
   "execution_count": null,
   "id": "f1e16c7f-f10a-4437-bc78-fbe58e04b323",
   "metadata": {},
   "outputs": [],
   "source": []
  }
 ],
 "metadata": {
  "kernelspec": {
   "display_name": "Python 3 (ipykernel)",
   "language": "python",
   "name": "python3"
  },
  "language_info": {
   "codemirror_mode": {
    "name": "ipython",
    "version": 3
   },
   "file_extension": ".py",
   "mimetype": "text/x-python",
   "name": "python",
   "nbconvert_exporter": "python",
   "pygments_lexer": "ipython3",
   "version": "3.9.19"
  }
 },
 "nbformat": 4,
 "nbformat_minor": 5
}
