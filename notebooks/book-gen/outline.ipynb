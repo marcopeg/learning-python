{
 "cells": [
  {
   "cell_type": "code",
   "execution_count": 4,
   "id": "6b903681-1477-4323-886a-b7e6be38795b",
   "metadata": {},
   "outputs": [],
   "source": [
    "import os\n",
    "import openai\n",
    "\n",
    "openai.api_key = os.getenv(\"OPENAI_API_KEY\")"
   ]
  },
  {
   "cell_type": "code",
   "execution_count": 6,
   "id": "fa38b3af-1cbb-45b5-b6fc-00637e91ce7c",
   "metadata": {},
   "outputs": [
    {
     "name": "stdin",
     "output_type": "stream",
     "text": [
      "Enter the prompt for your book:  The history of templar knights\n"
     ]
    },
    {
     "name": "stdout",
     "output_type": "stream",
     "text": [
      "The history of templar knights\n"
     ]
    }
   ],
   "source": [
    "prompt = input(\"Enter the prompt for your book: \")\n",
    "print(prompt)"
   ]
  },
  {
   "cell_type": "code",
   "execution_count": null,
   "id": "e0238a44-bfea-4b94-9b05-1f1282b446e6",
   "metadata": {},
   "outputs": [],
   "source": [
    "#response = openai.ChatCompletion.create(\n",
    "#        model=\"gpt-4\",\n",
    "#        messages=[\n",
    "#            {\"role\": \"system\", \"content\": \"You are a helpful assistant.\"},\n",
    "##            {\"role\": \"user\", \"content\": f\"Create an outline for a book based on: {prompt}\"}\n",
    "#        ],\n",
    "#        max_tokens=300\n",
    "#    )\n",
    "#print(response)\n",
    "\n",
    "response = openai.chat.completions.create(\n",
    "    model=\"gpt-3.5-turbo\",\n",
    "    messages=[\n",
    "        {\n",
    "            \"role\": \"system\",\n",
    "            \"content\": \"You are an expert historian that specializes in building book projects. Your task is to generate a detailed outline for a book based on the provided subject.\"\n",
    "        },\n",
    "        {\n",
    "            \"role\": \"system\",\n",
    "            \"content\": \"The book should be organized in sections, a section contains the chapters.\"\n",
    "        },\n",
    "        {\n",
    "            \"role\": \"system\",\n",
    "            \"content\": \"The tone of voice should be like an adventurous book with a hint of mystery. The book should read like an entertaining but factfull story.\"\n",
    "        },\n",
    "        {\n",
    "            \"role\": \"system\",\n",
    "            \"content\": \"The output should be in JSON format: an array of sections. Each section has an id, title, introduction text, and the list of chapters. Each chapter has an id and title. There are no sub-sections in the chapters.\"\n",
    "        },\n",
    "        {\n",
    "            \"role\": \"user\",\n",
    "            \"content\": f\"Generate a detailed outline for a book on the subject: {prompt}\"\n",
    "        }\n",
    "    ]\n",
    ")\n",
    "print(response)"
   ]
  },
  {
   "cell_type": "code",
   "execution_count": 32,
   "id": "ca27d9a4-d3f2-4d84-beb5-ba188ef1dced",
   "metadata": {},
   "outputs": [
    {
     "name": "stdout",
     "output_type": "stream",
     "text": [
      "```json\n",
      "[\n",
      "    {\n",
      "        \"id\": 1,\n",
      "        \"title\": \"The Rise of the Templar Knights\",\n",
      "        \"introduction\": \"Embark on a journey through time to discover the origins and formation of the enigmatic Templar Knights.\",\n",
      "        \"chapters\": [\n",
      "            {\"id\": 1, \"title\": \"The Crusades Begin\"},\n",
      "            {\"id\": 2, \"title\": \"Founding of the Templar Order\"},\n",
      "            {\"id\": 3, \"title\": \"Early Missions and Expansion\"}\n",
      "        ]\n",
      "    },\n",
      "    {\n",
      "        \"id\": 2,\n",
      "        \"title\": \"The Templars: Guardians of the Holy Land\",\n",
      "        \"introduction\": \"Delve into the role of the Templar Knights as fierce warriors and protectors of the Holy Land.\",\n",
      "        \"chapters\": [\n",
      "            {\"id\": 1, \"title\": \"Battle of Montgisard\"},\n",
      "            {\"id\": 2, \"title\": \"Fortifications and Strategy\"},\n",
      "            {\"id\": 3, \"title\": \"Influence and Power\"}\n",
      "        ]\n",
      "    },\n",
      "    {\n",
      "        \"id\": 3,\n",
      "        \"title\": \"The Templar Legacy and Downfall\",\n",
      "        \"introduction\": \"Uncover the mysteries and intricacies surrounding the rise, peak, and fall of the Templar Order.\",\n",
      "        \"chapters\": [\n",
      "            {\"id\": 1, \"title\": \"Wealth and Secrets\"},\n",
      "            {\"id\": 2, \"title\": \"Persecution and Dissolution\"},\n",
      "            {\"id\": 3, \"title\": \"Legacy and Modern Influence\"}\n",
      "        ]\n",
      "    }\n",
      "]\n",
      "```\n"
     ]
    }
   ],
   "source": [
    "print(response.choices[0].message.content)"
   ]
  },
  {
   "cell_type": "code",
   "execution_count": 43,
   "id": "4459f2cd-19f3-4601-a86f-0cf6631cad26",
   "metadata": {},
   "outputs": [],
   "source": [
    "import json\n",
    "import re\n",
    "\n",
    "def extract_json_from_text(text):\n",
    "    # Regular expression to find JSON within text\n",
    "    json_regex = re.compile(r'```json(.*?)```', re.DOTALL)\n",
    "    json_match = json_regex.search(text)\n",
    "    \n",
    "    if json_match:\n",
    "        json_text = json_match.group(1).strip()\n",
    "    else:\n",
    "        # Attempt to extract JSON without delimiters\n",
    "        try:\n",
    "            json_text = json.loads(text)\n",
    "            return json_text\n",
    "        except json.JSONDecodeError:\n",
    "            json_text = text.strip()\n",
    "    \n",
    "    # Attempt to parse JSON\n",
    "    try:\n",
    "        return json.loads(json_text)\n",
    "    except json.JSONDecodeError:\n",
    "        raise ValueError(\"Failed to parse JSON from the response\")"
   ]
  },
  {
   "cell_type": "code",
   "execution_count": 57,
   "id": "8ee976c7-2d63-4fed-a942-2622ef6175ea",
   "metadata": {},
   "outputs": [
    {
     "name": "stdout",
     "output_type": "stream",
     "text": [
      "# The Rise of the Templar Knights\n",
      "\n",
      "Embark on a journey through time to discover the origins and formation of the enigmatic Templar Knights.\n",
      "\n",
      "## The Crusades Begin\n",
      "## Founding of the Templar Order\n",
      "## Early Missions and Expansion\n",
      "\n",
      "\n",
      "# The Templars: Guardians of the Holy Land\n",
      "\n",
      "Delve into the role of the Templar Knights as fierce warriors and protectors of the Holy Land.\n",
      "\n",
      "## Battle of Montgisard\n",
      "## Fortifications and Strategy\n",
      "## Influence and Power\n",
      "\n",
      "\n",
      "# The Templar Legacy and Downfall\n",
      "\n",
      "Uncover the mysteries and intricacies surrounding the rise, peak, and fall of the Templar Order.\n",
      "\n",
      "## Wealth and Secrets\n",
      "## Persecution and Dissolution\n",
      "## Legacy and Modern Influence\n",
      "\n",
      "\n"
     ]
    }
   ],
   "source": [
    "book_outline = extract_json_from_text(response.choices[0].message.content)\n",
    "\n",
    "for section in book_outline:\n",
    "    print(f\"# {section['title']}\\n\\n{section['introduction']}\\n\")\n",
    "    for chapter in section['chapters']:\n",
    "        print(f\"## {chapter['title']}\")\n",
    "    print(\"\\n\")"
   ]
  },
  {
   "cell_type": "code",
   "execution_count": 58,
   "id": "828ff6c4-48a8-4336-801b-53f5cc9b9fa9",
   "metadata": {},
   "outputs": [
    {
     "name": "stdout",
     "output_type": "stream",
     "text": [
      "JSON data has been saved to book_outline.json\n"
     ]
    }
   ],
   "source": [
    "# Specify the filename\n",
    "filename = 'book_outline.json'\n",
    "\n",
    "# Save JSON data to a file\n",
    "with open(filename, 'w') as file:\n",
    "    json.dump(book_outline, file, indent=4)\n",
    "\n",
    "print(f\"JSON data has been saved to {filename}\")"
   ]
  }
 ],
 "metadata": {
  "kernelspec": {
   "display_name": "Python 3 (ipykernel)",
   "language": "python",
   "name": "python3"
  },
  "language_info": {
   "codemirror_mode": {
    "name": "ipython",
    "version": 3
   },
   "file_extension": ".py",
   "mimetype": "text/x-python",
   "name": "python",
   "nbconvert_exporter": "python",
   "pygments_lexer": "ipython3",
   "version": "3.9.19"
  }
 },
 "nbformat": 4,
 "nbformat_minor": 5
}
