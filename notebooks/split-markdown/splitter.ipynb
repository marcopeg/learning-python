{
 "cells": [
  {
   "cell_type": "markdown",
   "id": "0a7021ca-29f0-4a3d-82a8-12bfa721e8a9",
   "metadata": {},
   "source": [
    "# Split Markdown Practice\n",
    "\n",
    "https://python.langchain.com/docs/modules/data_connection/document_transformers/markdown_header_metadata/"
   ]
  },
  {
   "cell_type": "code",
   "execution_count": 2,
   "id": "bca945b7-4700-44e3-8cba-4a2fce245a28",
   "metadata": {},
   "outputs": [],
   "source": [
    "from langchain_text_splitters import MarkdownHeaderTextSplitter"
   ]
  },
  {
   "cell_type": "code",
   "execution_count": 3,
   "id": "ab28f141-11fd-40c4-98e3-5f8f0fc6cbee",
   "metadata": {},
   "outputs": [],
   "source": [
    "file_path = \"./t001.md\""
   ]
  },
  {
   "cell_type": "code",
   "execution_count": 15,
   "id": "a542361c-41ed-474c-b559-bef3812d90a9",
   "metadata": {},
   "outputs": [],
   "source": [
    "with open(file_path, 'r', encoding='utf-8') as file:\n",
    "    markdown_document = file.read()"
   ]
  },
  {
   "cell_type": "code",
   "execution_count": 16,
   "id": "bedc6dc3-2504-4798-981c-bf5f6a63b536",
   "metadata": {},
   "outputs": [],
   "source": [
    "headers_to_split_on = [\n",
    "    (\"#\", \"h1\"),\n",
    "    (\"##\", \"h2\"),\n",
    "    (\"###\", \"h3\"),\n",
    "]\n"
   ]
  },
  {
   "cell_type": "code",
   "execution_count": 17,
   "id": "556f4e9c-f111-4984-8c5a-93916738330c",
   "metadata": {},
   "outputs": [
    {
     "data": {
      "text/plain": [
       "[Document(page_content='Content 1', metadata={'h1': 'Title1'}),\n",
       " Document(page_content='Content 2', metadata={'h1': 'Title2'}),\n",
       " Document(page_content='Content 3', metadata={'h1': 'Title3'})]"
      ]
     },
     "execution_count": 17,
     "metadata": {},
     "output_type": "execute_result"
    }
   ],
   "source": [
    "markdown_splitter = MarkdownHeaderTextSplitter(headers_to_split_on=headers_to_split_on)\n",
    "md_header_splits = markdown_splitter.split_text(markdown_document)\n",
    "md_header_splits"
   ]
  }
 ],
 "metadata": {
  "kernelspec": {
   "display_name": "Python 3 (ipykernel)",
   "language": "python",
   "name": "python3"
  },
  "language_info": {
   "codemirror_mode": {
    "name": "ipython",
    "version": 3
   },
   "file_extension": ".py",
   "mimetype": "text/x-python",
   "name": "python",
   "nbconvert_exporter": "python",
   "pygments_lexer": "ipython3",
   "version": "3.9.18"
  }
 },
 "nbformat": 4,
 "nbformat_minor": 5
}
