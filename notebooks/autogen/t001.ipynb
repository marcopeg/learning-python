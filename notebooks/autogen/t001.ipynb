{
 "cells": [
  {
   "cell_type": "code",
   "execution_count": 3,
   "id": "7f41958b-bf6c-4b3d-ad56-ab6ce38f6b34",
   "metadata": {},
   "outputs": [
    {
     "ename": "AttributeError",
     "evalue": "module 'autogen' has no attribute 'AssistantAgent'",
     "output_type": "error",
     "traceback": [
      "\u001b[0;31m---------------------------------------------------------------------------\u001b[0m",
      "\u001b[0;31mAttributeError\u001b[0m                            Traceback (most recent call last)",
      "Cell \u001b[0;32mIn[3], line 6\u001b[0m\n\u001b[1;32m      3\u001b[0m \u001b[38;5;66;03m#from autogen import AssistantAgent, UserProxyAgent\u001b[39;00m\n\u001b[1;32m      5\u001b[0m llm_config \u001b[38;5;241m=\u001b[39m {\u001b[38;5;124m\"\u001b[39m\u001b[38;5;124mmodel\u001b[39m\u001b[38;5;124m\"\u001b[39m: \u001b[38;5;124m\"\u001b[39m\u001b[38;5;124mgpt-4\u001b[39m\u001b[38;5;124m\"\u001b[39m, \u001b[38;5;124m\"\u001b[39m\u001b[38;5;124mapi_key\u001b[39m\u001b[38;5;124m\"\u001b[39m: os\u001b[38;5;241m.\u001b[39menviron[\u001b[38;5;124m\"\u001b[39m\u001b[38;5;124mOPENAI_API_KEY\u001b[39m\u001b[38;5;124m\"\u001b[39m]}\n\u001b[0;32m----> 6\u001b[0m assistant \u001b[38;5;241m=\u001b[39m \u001b[43mautogen\u001b[49m\u001b[38;5;241;43m.\u001b[39;49m\u001b[43mAssistantAgent\u001b[49m(\u001b[38;5;124m\"\u001b[39m\u001b[38;5;124massistant\u001b[39m\u001b[38;5;124m\"\u001b[39m, llm_config\u001b[38;5;241m=\u001b[39mllm_config)\n\u001b[1;32m      7\u001b[0m \u001b[38;5;66;03m#user_proxy = UserProxyAgent(\"user_proxy\", code_execution_config=False)\u001b[39;00m\n\u001b[1;32m      8\u001b[0m \n\u001b[1;32m      9\u001b[0m \u001b[38;5;66;03m# Start the chat\u001b[39;00m\n\u001b[0;32m   (...)\u001b[0m\n\u001b[1;32m     12\u001b[0m \u001b[38;5;66;03m#    message=\"Tell me a joke about NVDA and TESLA stock prices.\",\u001b[39;00m\n\u001b[1;32m     13\u001b[0m \u001b[38;5;66;03m#)\u001b[39;00m\n",
      "\u001b[0;31mAttributeError\u001b[0m: module 'autogen' has no attribute 'AssistantAgent'"
     ]
    }
   ],
   "source": [
    "import os\n",
    "import autogen\n",
    "#from autogen import AssistantAgent, UserProxyAgent\n",
    "\n",
    "llm_config = {\"model\": \"gpt-4\", \"api_key\": os.environ[\"OPENAI_API_KEY\"]}\n",
    "assistant = autogen.AssistantAgent(\"assistant\", llm_config=llm_config)\n",
    "#user_proxy = UserProxyAgent(\"user_proxy\", code_execution_config=False)\n",
    "\n",
    "# Start the chat\n",
    "#user_proxy.initiate_chat(\n",
    "#    assistant,\n",
    "#    message=\"Tell me a joke about NVDA and TESLA stock prices.\",\n",
    "#)"
   ]
  }
 ],
 "metadata": {
  "kernelspec": {
   "display_name": "Python 3 (ipykernel)",
   "language": "python",
   "name": "python3"
  },
  "language_info": {
   "codemirror_mode": {
    "name": "ipython",
    "version": 3
   },
   "file_extension": ".py",
   "mimetype": "text/x-python",
   "name": "python",
   "nbconvert_exporter": "python",
   "pygments_lexer": "ipython3",
   "version": "3.9.19"
  }
 },
 "nbformat": 4,
 "nbformat_minor": 5
}
