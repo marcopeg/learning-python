import os
import markdown
import pypandoc
import json

source_md = 'books/javascript-chronicles.md'
source_json = f"{os.path.splitext(source_md)[0]}.json"
output_epub = f"{os.path.splitext(source_md)[0]}.epub"

# Load Markdown content from a file
with open(source_md, 'r', encoding='utf-8') as file:
    md_content = file.read()

# Load JSON data
with open(source_json, 'r', encoding='utf-8') as file:
    json_content = json.load(file)
    
#print(md_content);
print();


# Generate temp file with modifications:
md_content = md_content.replace('---', '<div class="custom-page-break"></div>');
temp_md = f"{os.path.splitext(source_md)[0]}.temp.md"
with open(temp_md, 'w', encoding='utf-8') as file:
    file.write(md_content)

# Generate the CSS
custom_css = f"{os.path.splitext(source_md)[0]}.temp.css"
with open(custom_css, 'w') as file:
    file.write(
        """
        .custom-page-break { display: block; page-break-before: always; margin-top: 1cm; }
        """)

extra_args = [
    f"--metadata=title:{json_content['development']['title']}",
    f"--css={custom_css}",
    "--metadata=author:ChatGPT"
]

pypandoc.convert_file(temp_md, 'epub', outputfile=output_epub, extra_args=extra_args)

# Cleanup
os.remove(temp_md)
os.remove(custom_css)



