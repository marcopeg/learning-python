import pyttsx3
from pydub import AudioSegment

def text_to_speech(text, output_file):
    engine = pyttsx3.init()
    engine.save_to_file(text, 'output.wav')
    engine.runAndWait()

    # Convert WAV to MP3 using pydub
    sound = AudioSegment.from_wav('output.wav')
    sound.export(output_file, format="mp3")

if __name__ == "__main__":
    text_to_speak = "Hello, this is an offline TTS using pyttsx3."
    output_file = "output.mp3"
    text_to_speech(text_to_speak, output_file)
