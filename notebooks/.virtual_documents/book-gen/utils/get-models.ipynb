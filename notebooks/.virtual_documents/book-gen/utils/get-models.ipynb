def get_models():
    res = openai.models.list()
    return [model.id for model in res.data]
