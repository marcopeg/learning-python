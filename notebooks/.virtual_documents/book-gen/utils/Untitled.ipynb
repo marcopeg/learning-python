import json
get_ipython().run_line_magic("run", " ../settings.ipynb")
get_ipython().run_line_magic("run", " ./get-models.ipynb")


models = get_models();


print(json.dumps(models, indent=4))
