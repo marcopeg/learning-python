import os
import openai
openai.api_key = os.getenv("OPENAI_API_KEY")


settings = {
    "models": [
        "gpt-3.5-turbo",
        "gpt-4",
        "gpt-4o"
    ],
    "tone_of_voice": "adventure and mistery"
}
