


import json;

# Generics
get_ipython().run_line_magic("run", " settings.ipynb")
get_ipython().run_line_magic("run", " utils/text2json.ipynb")
get_ipython().run_line_magic("run", " utils/user-prompts.ipynb")
get_ipython().run_line_magic("run", " utils/get-models.ipynb")

# Prompts
get_ipython().run_line_magic("run", " prompts/title.ipynb")
get_ipython().run_line_magic("run", " prompts/parts.ipynb")


_settings = {
    "subject": prompt_str("Enter the subject for your book:", "The history of the Holy Grail"),
    "tone_of_voice": prompt_str("Enter the tone of voice:", settings["tone_of_voice"]),
    "model": prompt_select("Please choose which model to use:", settings["models"])
}

print(json.dumps(_settings, indent=2))


available_titles = gen_title(_settings, _settings['subject']);


selected_title = prompt_select_title(available_titles['titles'])
print(f"You have chosen: {selected_title['title']}")



#book_parts = gen_parts(_settings
