import os
import markdown
from weasyprint import HTML, CSS

def markdown_to_pdf(source_md):
    # Extract the base name and directory from the source path
    base_name = os.path.splitext(source_md)[0]
    output_pdf = f"{base_name}.pdf"

    # Load Markdown content from a file
    with open(source_md, 'r', encoding='utf-8') as file:
        md_content = file.read()

    # Replace "---" with an HTML page break
    md_content = md_content.replace('---', '<div class="page-break"></div>')

    # Convert Markdown to HTML
    html_content = markdown.markdown(md_content)

    # Define CSS for mobile optimization, page breaks, and italics
    mobile_css = CSS(string='''
        @page { size: 320px 480px; margin: 10px; }
        body { font-family: "Helvetica", sans-serif; font-size: 12px; }
        h1, h2, h3 { font-weight: bold; }
        p { line-height: 1.4; }
        .page-break { display: block; page-break-before: always; }
        em, i { font-style: italic; }  # Ensure italics are rendered as italic
    ''')

    # Convert HTML to PDF
    HTML(string=html_content).write_pdf(output_pdf, stylesheets=[mobile_css])

    return output_pdf  # Optionally return the PDF file path

# Example usage: markdown_to_pdf('example.md')



markdown_to_pdf('books/javascript-chronicles.md')


import os
import markdown
from weasyprint import HTML, CSS

source_md = 'books/javascript-chronicles.md'
output_pdf = f"{os.path.splitext(source_md)[0]}.pdf"

# Load Markdown content from a file
with open(source_md, 'r', encoding='utf-8') as file:
    md_content = file.read()

# Replace "---" with an HTML page break
md_content = md_content.replace('---', '<div class="page-break"></div>')

# Convert Markdown to HTML
html_content = markdown.markdown(md_content)
#print(html_content)


# Define CSS for mobile optimization, page breaks, and italics
mobile_css = CSS(string='''
@page { size: 320px 480px; margin: 10px; }
body { font-family: "Calibri", sans-serif; font-size: 12px; }
h1, h2, h3 { font-weight: bold; }
p { line-height: 1.4; }
.page-break { display: block; page-break-before: always; }
em, i {  font-style: italic; font-size: 10px }
blockquote { font-size: 10px; margin: 0; padding: 0; display: block; border-bottom: 1px solid black; }
''')

# Convert HTML to PDF
HTML(string=html_content).write_pdf(output_pdf, stylesheets=[mobile_css])
