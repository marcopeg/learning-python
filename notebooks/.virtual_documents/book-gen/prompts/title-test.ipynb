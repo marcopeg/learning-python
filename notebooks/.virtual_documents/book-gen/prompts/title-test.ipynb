import json
get_ipython().run_line_magic("run", " ../settings.ipynb")
get_ipython().run_line_magic("run", " ../utils/text2json.ipynb")
get_ipython().run_line_magic("run", " ./title.ipynb")


test01 = gen_title({
    "tone_of_voice": "adventure and mistery",
    "model": "gpt-3.5-turbo"
}, 'The history of the Holy Grail')


print(json.dumps(test01, indent=2))
