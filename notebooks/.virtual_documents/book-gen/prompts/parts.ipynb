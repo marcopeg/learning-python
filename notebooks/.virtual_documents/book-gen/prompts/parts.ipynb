def gen_parts(settings, book_title):
    response = openai.chat.completions.create(
        model= settings["model"],
        messages= [
            {
                "role": "system",
                "content": 
                    f"""
                    You are an expert historian that specializes in building book projects.
                    Your task is to generate the main sections outline for a book based on the provided subject.
                    The tone of voice for the book is: {settings["tone_of_voice"]}.
                    """
            },
            {
                "role": "system",
                "content": 
                    """
                    The output is a JSON document like:

                    {
                      "parts": [
                        {
                          "id": 1,
                          "title": "Title of part 1..."
                        },
                        {
                          "id": 2,
                          "title": "Title of part w..."
                        }
                      ]
                    }
                    """
            },
            {
                "role": "user",
                "content": f"Generate sections for a book on the subject: {book_title}"
            }
        ]
    )
    data = text2json(response.choices[0].message.content)
    return data
