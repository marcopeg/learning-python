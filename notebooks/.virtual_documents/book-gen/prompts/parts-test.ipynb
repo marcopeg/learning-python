import json
get_ipython().run_line_magic("run", " ../settings.ipynb")
get_ipython().run_line_magic("run", " ../utils/text2json.ipynb")
get_ipython().run_line_magic("run", " ./parts.ipynb")


test01 = gen_parts(settings, 'The history of the Holy Grail')


print(json.dumps(test01, indent=4))
