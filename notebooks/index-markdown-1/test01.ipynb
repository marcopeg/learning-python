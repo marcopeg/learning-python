{
 "cells": [
  {
   "cell_type": "markdown",
   "id": "5be4480d-baf2-4402-aef7-f56d6a732edf",
   "metadata": {},
   "source": [
    "# Tokenize Markdown"
   ]
  },
  {
   "cell_type": "code",
   "execution_count": null,
   "id": "095312db-0271-4d4f-a4fb-7840cb0f4b45",
   "metadata": {},
   "outputs": [],
   "source": [
    "%run ../functions.ipynb\n",
    "%run ./functions.ipynb"
   ]
  },
  {
   "cell_type": "code",
   "execution_count": null,
   "id": "ab31118e-afac-47a3-a327-72c6fd0b3c24",
   "metadata": {},
   "outputs": [],
   "source": [
    "# create schema\n",
    "execute_query(\"\"\"\n",
    "--DROP TABLE IF EXISTS mkd01;\n",
    "CREATE TABLE IF NOT EXISTS mkd01 (\n",
    "    hash TEXT PRIMARY KEY,\n",
    "    reference TEXT,\n",
    "    index NUMERIC,\n",
    "    content TEXT,\n",
    "    metadata JSONB,\n",
    "    embedding vector(1500)\n",
    ");\n",
    "\"\"\")"
   ]
  },
  {
   "cell_type": "code",
   "execution_count": 11,
   "id": "8f7316da-6bf4-4074-885c-fec5eab226e3",
   "metadata": {},
   "outputs": [
    {
     "name": "stdout",
     "output_type": "stream",
     "text": [
      "start\n",
      "./docs-onefront/index.md\n",
      "./docs-onefront/changelog/index.md\n",
      "./docs-onefront/environment-setup/index.md\n",
      "./docs-onefront/proxy-service/index.md\n",
      "./docs-onefront/proxy-service/logs/index.md\n",
      "./docs-onefront/registry-service/index.md\n",
      "./docs-onefront/registry-service/jwt/index.md\n",
      "./docs-onefront/registry-service/shared-source/index.md\n",
      "./docs-onefront/registry-service/upstream-downstream/index.md\n",
      "./docs-onefront/development-environment/index.md\n",
      "./docs-onefront/development-environment/how-to-install-docker-cli/index.md\n",
      "./docs-onefront/development-environment/how-to-install-podman/index.md\n",
      "./docs-onefront/development-environment/snyk-integration/how-snyk-works/index.md\n",
      "./docs-onefront/development-environment/snyk-integration/snyk-setup/index.md\n",
      "./docs-onefront/development-environment/snyk-integration/what-is-snyk/index.md\n",
      "./docs-onefront/development-environment/environment-and-os/index.md\n",
      "./docs-onefront/development-environment/how-to-install-wsl/index.md\n",
      "./docs-onefront/development-environment/docker-desktop-or-cli/index.md\n",
      "./docs-onefront/development-environment/os-comparison/index.md\n",
      "./docs-onefront/development-environment/docker-or-podman/index.md\n",
      "./docs-onefront/development-environment/makefile-interface/index.md\n",
      "./docs-onefront/centralized-registry/index.md\n",
      "./docs-onefront/troubleshooting/index.md\n",
      "./docs-onefront/forrestjs/SUMMARY.md\n",
      "./docs-onefront/forrestjs/index.md\n",
      "./docs-onefront/forrestjs/packages-node.md\n",
      "./docs-onefront/forrestjs/packages-react.md\n",
      "./docs-onefront/forrestjs/concepts/vocabulary/index.md\n",
      "./docs-onefront/forrestjs/api/app-context/index.md\n",
      "./docs-onefront/forrestjs/api/register-action/index.md\n",
      "./docs-onefront/forrestjs/api/create-extension/index.md\n",
      "./docs-onefront/forrestjs/api/app-config/index.md\n",
      "./docs-onefront/forrestjs/api/forrestjs-run/index.md\n",
      "./docs-onefront/forrestjs/howto/my-first-react-app/index.md\n",
      "./docs-onefront/forrestjs/howto/my-first-react-app/060-add-react-router/README.md\n",
      "./docs-onefront/forrestjs/howto/my-first-react-app/030-first-feature/README.md\n",
      "./docs-onefront/forrestjs/howto/my-first-react-app/020-react-mui/README.md\n",
      "./docs-onefront/forrestjs/howto/my-first-react-app/050-customize-material-ui/README.md\n",
      "./docs-onefront/forrestjs/howto/my-first-react-app/040-login-feature/README.md\n",
      "./docs-onefront/forrestjs/howto/my-first-react-app/010-react-root/README.md\n",
      "./docs-onefront/forrestjs/howto/my-first-feature/index.md\n",
      "./docs-onefront/forrestjs/howto/my-first-feature/020-forrestjs-feature-anathomy/README.md\n",
      "./docs-onefront/forrestjs/howto/my-first-feature/010-forrestjs-app-scaffold/README.md\n",
      "./docs-onefront/forrestjs/howto/my-first-feature/030-forrestjs-app-lifecycle/README.md\n",
      "./docs-onefront/forrestjs/howto/my-first-rest-api/index.md\n",
      "./docs-onefront/forrestjs/howto/my-first-rest-api/020-fastify-home-page/README.md\n",
      "./docs-onefront/forrestjs/howto/my-first-rest-api/030-the-users-feature/README.md\n",
      "./docs-onefront/forrestjs/howto/my-first-rest-api/070-schema-and-data-seeding/README.md\n",
      "./docs-onefront/forrestjs/howto/my-first-rest-api/060-integrate-services-and-features/README.md\n",
      "./docs-onefront/forrestjs/howto/my-first-rest-api/050-postgres-service/README.md\n",
      "./docs-onefront/forrestjs/howto/my-first-rest-api/090-evolve-your-schema/README.md\n",
      "./docs-onefront/forrestjs/howto/my-first-rest-api/040-add-new-user/README.md\n",
      "./docs-onefront/forrestjs/howto/my-first-rest-api/080-integrate-services-and-services/README.md\n",
      "./docs-onefront/forrestjs/howto/my-first-rest-api/010-fastify-app-scaffold/README.md\n",
      "./docs-onefront/forrestjs/react/REACT_ROOT.md\n",
      "./docs-onefront/forrestjs/react/REACT_ROUTER.md\n",
      "./docs-onefront/forrestjs/react/index.md\n",
      "./docs-onefront/forrestjs/react/REACT_MUI.md\n",
      "./docs-onefront/react-sdk/index.md\n",
      "./docs-onefront/react-sdk/settings/index.md\n",
      "./docs-onefront/react-sdk/settings/service-axios/index.md\n",
      "./docs-onefront/react-sdk/settings/service-auth/auth-token/index.md\n",
      "./docs-onefront/react-sdk/settings/service-auth/application-token/index.md\n",
      "./docs-onefront/react-sdk/environment-variables/index.md\n",
      "./docs-onefront/react-sdk/environment-variables/proxy-target/index.md\n",
      "./docs-onefront/react-sdk/environment-variables/proxy-base-url/index.md\n",
      "./docs-onefront/react-sdk/context/index.md\n",
      "./docs-onefront/react-sdk/config/index.md\n",
      "./docs-onefront/react-sdk/mock-i18n/index.md\n",
      "./docs-onefront/react-sdk/extensions/index.md\n",
      "./docs-onefront/react-sdk/extensions/service-embed/index.md\n",
      "./docs-onefront/react-sdk/extensions/service-embed/embed-page/index.md\n",
      "./docs-onefront/react-sdk/extensions/service-layout/index.md\n",
      "./docs-onefront/react-sdk/extensions/service-layout/title/index.md\n",
      "./docs-onefront/react-sdk/extensions/service-layout/toolbar/content-left/index.md\n",
      "./docs-onefront/react-sdk/extensions/service-layout/toolbar/content-right/index.md\n",
      "./docs-onefront/react-sdk/extensions/service-layout/nav-content/index.md\n",
      "./docs-onefront/react-sdk/extensions/service-layout/404/index.md\n",
      "./docs-onefront/react-sdk/extensions/service-layout/routes/index.md\n",
      "./docs-onefront/react-sdk/extensions/service-layout/routes/before/index.md\n",
      "./docs-onefront/react-sdk/extensions/service-layout/routes/after/index.md\n",
      "./docs-onefront/react-sdk/extensions/service-auth/index.md\n",
      "./docs-onefront/react-sdk/extensions/service-auth/loading-view/index.md\n",
      "./docs-onefront/react-sdk/extensions/service-auth/error-view/index.md\n",
      "./docs-onefront/react-sdk/extensions/service-auth/use-application-token/index.md\n",
      "./docs-onefront/react-sdk/extensions/service-auth/public-view/index.md\n",
      "./docs-onefront/react-sdk/components/index.md\n",
      "./docs-onefront/react-sdk/components/service-embed/embed-iframe/index.md\n",
      "./docs-onefront/react-sdk/components/service-layout/with-side-nav/index.md\n",
      "./docs-onefront/react-sdk/components/service-layout/with-hidden-side-nav/index.md\n",
      "./docs-onefront/react-sdk/guides/index.md\n",
      "./docs-onefront/react-sdk/guides/vite-migration/index.md\n",
      "./docs-onefront/react-sdk/guides/loading-animation/index.md\n",
      "./docs-onefront/react-sdk/hooks/index.md\n",
      "./docs-onefront/react-sdk/hooks/service-i18n/index.md\n",
      "./docs-onefront/react-sdk/hooks/service-pushid/use-push-id/index.md\n",
      "./docs-onefront/react-sdk/hooks/service-state/use-state-storage/index.md\n",
      "./docs-onefront/react-sdk/hooks/service-state/use-onefront-store/index.md\n",
      "./docs-onefront/react-sdk/hooks/service-state/use-state-session/index.md\n",
      "./docs-onefront/react-sdk/hooks/service-rest/index.md\n",
      "./docs-onefront/react-sdk/hooks/service-rest/use-query/index.md\n",
      "./docs-onefront/react-sdk/hooks/service-rest/use-delete/index.md\n",
      "./docs-onefront/react-sdk/hooks/service-rest/use-request/index.md\n",
      "./docs-onefront/react-sdk/hooks/service-rest/use-mutation/index.md\n",
      "./docs-onefront/react-sdk/hooks/service-rest/use-get/index.md\n",
      "./docs-onefront/react-sdk/hooks/service-rest/use-put/index.md\n",
      "./docs-onefront/react-sdk/hooks/service-rest/use-post/index.md\n",
      "./docs-onefront/react-sdk/hooks/service-embed/index.md\n",
      "./docs-onefront/react-sdk/hooks/service-embed/use-embed-page/index.md\n",
      "./docs-onefront/react-sdk/hooks/service-embed/use-embed-drawer-select/index.md\n",
      "./docs-onefront/react-sdk/hooks/service-embed/use-embed-drawer/index.md\n",
      "./docs-onefront/react-sdk/hooks/service-embed/use-host-page/index.md\n",
      "./docs-onefront/react-sdk/hooks/utils/index.md\n",
      "./docs-onefront/react-sdk/hooks/utils/use-query-string/index.md\n",
      "./docs-onefront/react-sdk/hooks/utils/use-browser-storage/index.md\n",
      "./docs-onefront/react-sdk/hooks/utils/use-is-embed/index.md\n",
      "./docs-onefront/react-sdk/hooks/service-layout/index.md\n",
      "./docs-onefront/react-sdk/hooks/service-layout/use-hide-side-nav/index.md\n",
      "./docs-onefront/react-sdk/hooks/service-layout/use-layout/index.md\n",
      "./docs-onefront/react-sdk/hooks/service-layout/use-menu/index.md\n",
      "./docs-onefront/react-sdk/hooks/service-layout/use-side-nav-is-visible/index.md\n",
      "./docs-onefront/react-sdk/hooks/service-layout/use-layout-title/index.md\n",
      "./docs-onefront/react-sdk/hooks/service-layout/use-layout-embed/index.md\n",
      "./docs-onefront/react-sdk/hooks/service-layout/use-layout-routes/index.md\n",
      "./docs-onefront/react-sdk/hooks/service-layout/use-layout-toolbar/index.md\n",
      "./docs-onefront/react-sdk/hooks/service-gainsight/index.md\n",
      "./docs-onefront/react-sdk/hooks/service-gainsight/use-gainsight-custom-event/index.md\n",
      "./docs-onefront/react-sdk/hooks/service-axios/index.md\n",
      "./docs-onefront/react-sdk/hooks/service-axios/use-target-url/index.md\n",
      "./docs-onefront/react-sdk/hooks/service-axios/use-axios/index.md\n",
      "./docs-onefront/react-sdk/hooks/service-axios/use-jump-url/index.md\n",
      "./docs-onefront/react-sdk/hooks/service-axios/use-proxy/index.md\n",
      "./docs-onefront/react-sdk/hooks/service-auth/index.md\n",
      "./docs-onefront/react-sdk/hooks/service-auth/use-service-login/index.md\n",
      "./docs-onefront/react-sdk/hooks/service-auth/use-application-token/index.md\n",
      "./docs-onefront/react-sdk/hooks/service-auth/use-delegated-token/index.md\n",
      "./docs-onefront/react-sdk/hooks/service-auth/use-auth/index.md\n",
      "./docs-onefront/react-sdk/hooks/service-auth/use-token-data/index.md\n",
      "./docs-onefront/react-sdk/hooks/service-elevio/index.md\n",
      "./docs-onefront/react-sdk/hooks/service-elevio/use-elevio-widget/index.md\n",
      "./docs-onefront/react-sdk/hooks/service-notistack/use-snackbar/index.md\n",
      "./docs-onefront/packages/index.md\n",
      "./docs-onefront/browsers-support/index.md\n",
      "./docs-onefront/tutorials/index.md\n",
      "./docs-onefront/tutorials/customize-access-token/index.md\n",
      "./docs-onefront/tutorials/intra-app-navigation/index.md\n",
      "./docs-onefront/tutorials/debug-react-sdk/index.md\n",
      "./docs-onefront/tutorials/run-project-in-windows-environment/index.md\n",
      "./docs-onefront/tutorials/run-project-in-windows-environment/wsl-native/index.md\n",
      "./docs-onefront/tutorials/run-project-in-windows-environment/hybrid/index.md\n",
      "./docs-onefront/tutorials/configure-proxy-address/index.md\n",
      "./docs-onefront/tutorials/proxy-service/index.md\n",
      "./docs-onefront/tutorials/proxy-service/mock-sidecar/index.md\n",
      "./docs-onefront/tutorials/proxy-service/run-in-docker/index.md\n",
      "./docs-onefront/tutorials/proxy-service/proxy-by-urn-placeholder/index.md\n",
      "./docs-onefront/tutorials/proxy-service/mock-i18n/index.md\n",
      "./docs-onefront/tutorials/proxy-service/proxy-by-urn/index.md\n",
      "./docs-onefront/tutorials/proxy-service/read-api/index.md\n",
      "./docs-onefront/tutorials/proxy-service/mock-buckets/index.md\n",
      "./docs-onefront/tutorials/proxy-service/mock-js/index.md\n",
      "./docs-onefront/tutorials/pull-docker-images-from-nexus/index.md\n",
      "./docs-onefront/tutorials/registry-service/index.md\n",
      "./docs-onefront/tutorials/registry-service/setup-an-upstream/index.md\n",
      "./docs-onefront/tutorials/registry-service/bucket-with-immutable-store/index.md\n",
      "./docs-onefront/tutorials/registry-service/run-in-docker/index.md\n",
      "./docs-onefront/tutorials/registry-service/intro-to-data-source/index.md\n",
      "./docs-onefront/tutorials/registry-service/setup-a-local-data-source/index.md\n",
      "./docs-onefront/tutorials/registry-service/setup-a-gitlab-data-source/index.md\n",
      "./docs-onefront/tutorials/registry-service/setup-an-env-data-source/index.md\n",
      "./docs-onefront/tutorials/registry-service/setup-a-meta-data-source/index.md\n",
      "./docs-onefront/tutorials/registry-service/bucket-with-mutable-store/index.md\n",
      "./docs-onefront/tutorials/implement-a-custom-page/index.md\n",
      "./docs-onefront/tutorials/getting-started-app/index.md\n",
      "./docs-onefront/tutorials/centralized-registry/index.md\n",
      "./docs-onefront/tutorials/build-multiplatform-images-pipeline/index.md\n",
      "./docs-onefront/tutorials/perform-polling-request/index.md\n",
      "./docs-onefront/tutorials/implement-custom-authentication/index.md\n",
      "./docs-onefront/tutorials/customize-the-menu/index.md\n",
      "./docs-onefront/tutorials/customize-the-app-title/index.md\n",
      "./docs-onefront/tutorials/create-a-smart-component/index.md\n",
      "./docs-onefront/tutorials/pull-npm-packages-from-nexus/index.md\n",
      "./docs-onefront/tutorials/create-new-microservice/index.md\n",
      "./docs-onefront/get-started/index.md\n",
      "./docs-onefront/get-started/app-settings/index.md\n",
      "./docs-onefront/vocabulary/index.md\n",
      "./docs-onefront/vocabulary/tsid/index.md\n",
      "./docs-onefront/vocabulary/bu-island-module-service/index.md\n",
      "./docs-onefront/vocabulary/urn/index.md\n",
      "./docs-onefront/deprecations/index.md\n",
      "./docs-onefront/deprecations/230720-remove-env-var/index.md\n",
      "./docs-onefront/deprecations/230717-update-json-schema-for-source-meta/index.md\n",
      "./docs-onefront/deprecations/230720-upcoming-mandatory-env-vars/index.md\n",
      "done\n"
     ]
    }
   ],
   "source": [
    "print(\"start\")\n",
    "for file in find_sources('./docs-onefront'):\n",
    "    print(file)\n",
    "    index_markdown(file)\n",
    "print(\"done\")"
   ]
  },
  {
   "cell_type": "code",
   "execution_count": 14,
   "id": "6a0886e5-1555-43c7-84f3-30b2ef5a5294",
   "metadata": {},
   "outputs": [
    {
     "name": "stdout",
     "output_type": "stream",
     "text": [
      "start\n",
      "./docs-vapor/BEST_PRACTICE.md\n",
      "./docs-vapor/NEXUS_TOKEN.md\n",
      "./docs-vapor/README.md\n",
      "./docs-vapor/CONTRIB.md\n",
      "embed: ./docs-vapor/CONTRIB.md\n",
      "./docs-vapor/CONTRIBUTING.md\n",
      "./docs-vapor/DOCKER_NEXUS_TOKEN.md\n",
      "./docs-vapor/how-to-use-renovate/README.md\n",
      "./docs-vapor/how-to-create-a-contrib-component/README.md\n",
      "./docs-vapor/how-to-report-an-issue-and-fix-a-bug/README.md\n",
      "./docs-vapor/how-to-add-new-icon/README.md\n",
      "./docs-vapor/how-to-ensure-code-consistency-between-windows-and-linux-machines/README.md\n",
      "./docs-vapor/gitflow/README.md\n",
      "./docs-vapor/cicd/README.md\n",
      "./docs-vapor/how-to-create-a-contrib-project/README.md\n",
      "./docs-vapor/how-to-create-and-download-build-storybook/README.md\n",
      "./docs-vapor/how-to-work-in-gitpod/README.md\n",
      "done\n"
     ]
    }
   ],
   "source": [
    "print(\"start\")\n",
    "for file in find_sources('./docs-vapor'):\n",
    "    print(file)\n",
    "    index_markdown(file)\n",
    "print(\"done\")"
   ]
  },
  {
   "cell_type": "code",
   "execution_count": 6,
   "id": "21b67ac7-d200-421f-9299-9ebdb411f15d",
   "metadata": {},
   "outputs": [],
   "source": [
    "def search(query, limit = 1):\n",
    "    q1 = generate_embedding(query, dimensions=1500)\n",
    "    results = execute_query(\"\"\"\n",
    "        SELECT\n",
    "            CASE\n",
    "                WHEN reference LIKE './docs-vapor%%'\n",
    "                THEN 'https://development.teamsystem.com/docs/default/Component/vapor-react'\n",
    "                ELSE 'https://development.teamsystem.com/docs/default/System/one-front'\n",
    "            END as base_url,\n",
    "            regexp_replace(regexp_replace(regexp_replace(reference, E'^\\\\./[^/]+', ''), E'/(index|readme)\\\\.md$', '', 'i'), E'\\\\.md$', '', 'i') as path,\n",
    "            regexp_replace(REPLACE(LOWER(REGEXP_REPLACE(COALESCE(metadata->>'Header 2', metadata->>'Header 1'), E'[^a-zA-Z0-9 ]', '', 'g')), ' ', '-'), E'-+', '-', 'g') as fragment\n",
    "        FROM mkd01 ORDER BY embedding <-> %s::vector LIMIT %s\n",
    "\"\"\", [q1, limit]);\n",
    "\n",
    "    # Process each row to format it correctly\n",
    "    formatted_urls = []\n",
    "    for row in results:\n",
    "        base_url, path, fragment = row\n",
    "        # Ensure there is a '/' between base_url and path if not present\n",
    "        if not base_url.endswith('/') and not path.startswith('/'):\n",
    "            path = '/' + path\n",
    "        full_url = f\"{base_url}{path}#{fragment}\"\n",
    "        formatted_urls.append(full_url)\n",
    "    \n",
    "    return formatted_urls"
   ]
  },
  {
   "cell_type": "code",
   "execution_count": 7,
   "id": "f068cf35-8e5f-4f31-85e3-465f8cb68c21",
   "metadata": {},
   "outputs": [
    {
     "name": "stdout",
     "output_type": "stream",
     "text": [
      "https://development.teamsystem.com/docs/default/Component/vapor-react/BEST_PRACTICE#there-are-some-ways-to-create-a-new-component\n"
     ]
    }
   ],
   "source": [
    "print_rows(search(\"i want to create a new component\", 1));"
   ]
  },
  {
   "cell_type": "code",
   "execution_count": null,
   "id": "60af19ff-cc7a-4678-8d9b-182204f5a6b5",
   "metadata": {},
   "outputs": [],
   "source": [
    "print_rows(search(\"i need fontawesome token\", 1));"
   ]
  },
  {
   "cell_type": "code",
   "execution_count": 9,
   "id": "7d331c45-8ccb-4656-9063-8969a7e00136",
   "metadata": {},
   "outputs": [
    {
     "name": "stdout",
     "output_type": "stream",
     "text": [
      "https://development.teamsystem.com/docs/default/System/one-front/tutorials/proxy-service/mock-buckets#read-the-mocked-value\n"
     ]
    }
   ],
   "source": [
    "print_rows(search(\"come si mocca una chiave del registry?\", 1));"
   ]
  },
  {
   "cell_type": "code",
   "execution_count": null,
   "id": "f8d1f559-a516-4808-9cb7-9ea3371f9c1f",
   "metadata": {},
   "outputs": [],
   "source": [
    "print_rows(search(\"Dua të krijoj një komponent të ri\", 1));"
   ]
  },
  {
   "cell_type": "code",
   "execution_count": 8,
   "id": "7b6f114e-41a7-4bfc-bda1-0cbcd42bd8d3",
   "metadata": {},
   "outputs": [
    {
     "name": "stdout",
     "output_type": "stream",
     "text": [
      "https://development.teamsystem.com/docs/default/Component/vapor-react/#how-to-use-vapor\n"
     ]
    }
   ],
   "source": [
    "print_rows(search(\"Dua te ndertoj nje buton nga vapor\", 1));"
   ]
  },
  {
   "cell_type": "code",
   "execution_count": 15,
   "id": "a9319820-89f7-49fc-84b9-c9a3d1928392",
   "metadata": {},
   "outputs": [
    {
     "name": "stdout",
     "output_type": "stream",
     "text": [
      "https://development.teamsystem.com/docs/default/System/one-front/environment-setup#docker-login\n"
     ]
    }
   ],
   "source": [
    "print_rows(search(\"I want to authenticate my docker\", 1));"
   ]
  },
  {
   "cell_type": "code",
   "execution_count": 16,
   "id": "850e6c66-b9b7-4ce4-b8c8-2b50424a7eba",
   "metadata": {},
   "outputs": [
    {
     "name": "stdout",
     "output_type": "stream",
     "text": [
      "https://development.teamsystem.com/docs/default/System/one-front/development-environment/how-to-install-wsl#step-3-install-vscode-remotewsl\n"
     ]
    }
   ],
   "source": [
    "print_rows(search(\"How do i setup wsl and vscode on windows?\", 1));"
   ]
  }
 ],
 "metadata": {
  "kernelspec": {
   "display_name": "Python 3 (ipykernel)",
   "language": "python",
   "name": "python3"
  },
  "language_info": {
   "codemirror_mode": {
    "name": "ipython",
    "version": 3
   },
   "file_extension": ".py",
   "mimetype": "text/x-python",
   "name": "python",
   "nbconvert_exporter": "python",
   "pygments_lexer": "ipython3",
   "version": "3.9.19"
  }
 },
 "nbformat": 4,
 "nbformat_minor": 5
}
