{
 "cells": [
  {
   "cell_type": "markdown",
   "id": "5be4480d-baf2-4402-aef7-f56d6a732edf",
   "metadata": {},
   "source": [
    "# Tokenize Markdown"
   ]
  },
  {
   "cell_type": "code",
   "execution_count": 39,
   "id": "095312db-0271-4d4f-a4fb-7840cb0f4b45",
   "metadata": {},
   "outputs": [],
   "source": [
    "%run ../functions.ipynb\n",
    "%run ./functions.ipynb"
   ]
  },
  {
   "cell_type": "code",
   "execution_count": null,
   "id": "ab31118e-afac-47a3-a327-72c6fd0b3c24",
   "metadata": {},
   "outputs": [],
   "source": [
    "# create schema\n",
    "execute_query(\"\"\"\n",
    "--DROP TABLE IF EXISTS mkd01;\n",
    "CREATE TABLE IF NOT EXISTS mkd01 (\n",
    "    hash TEXT PRIMARY KEY,\n",
    "    reference TEXT,\n",
    "    index NUMERIC,\n",
    "    content TEXT,\n",
    "    metadata JSONB,\n",
    "    embedding vector(1500)\n",
    ");\n",
    "\"\"\")"
   ]
  },
  {
   "cell_type": "code",
   "execution_count": null,
   "id": "8f7316da-6bf4-4074-885c-fec5eab226e3",
   "metadata": {},
   "outputs": [],
   "source": [
    "print(\"start\")\n",
    "for file in find_sources('./docs-onefront'):\n",
    "    print(file)\n",
    "    index_markdown(file)\n",
    "print(\"done\")"
   ]
  },
  {
   "cell_type": "code",
   "execution_count": null,
   "id": "6a0886e5-1555-43c7-84f3-30b2ef5a5294",
   "metadata": {},
   "outputs": [],
   "source": [
    "print(\"start\")\n",
    "for file in find_sources('./docs-vapor'):\n",
    "    print(file)\n",
    "    index_markdown(file)\n",
    "print(\"done\")"
   ]
  },
  {
   "cell_type": "code",
   "execution_count": 88,
   "id": "21b67ac7-d200-421f-9299-9ebdb411f15d",
   "metadata": {},
   "outputs": [],
   "source": [
    "def search(query, limit = 1):\n",
    "    q1 = generate_embedding(query, dimensions=1500)\n",
    "    results = execute_query(\"\"\"\n",
    "        SELECT\n",
    "            CASE\n",
    "                WHEN reference LIKE './docs-vapor%%'\n",
    "                THEN 'https://development.teamsystem.com/docs/default/Component/vapor-react'\n",
    "                ELSE 'https://development.teamsystem.com/docs/default/System/one-front'\n",
    "            END as base_url,\n",
    "            regexp_replace(regexp_replace(regexp_replace(reference, E'^\\\\./[^/]+', ''), E'/(index|readme)\\\\.md$', '', 'i'), E'\\\\.md$', '', 'i') as path,\n",
    "            regexp_replace(REPLACE(LOWER(REGEXP_REPLACE(COALESCE(metadata->>'Header 2', metadata->>'Header 1'), E'[^a-zA-Z0-9 ]', '', 'g')), ' ', '-'), E'-+', '-', 'g') as fragment\n",
    "        FROM mkd01 ORDER BY embedding <-> %s::vector LIMIT %s\n",
    "\"\"\", [q1, limit]);\n",
    "\n",
    "    # Process each row to format it correctly\n",
    "    formatted_urls = []\n",
    "    for row in results:\n",
    "        base_url, path, fragment = row\n",
    "        # Ensure there is a '/' between base_url and path if not present\n",
    "        if not base_url.endswith('/') and not path.startswith('/'):\n",
    "            path = '/' + path\n",
    "        full_url = f\"{base_url}{path}#{fragment}\"\n",
    "        formatted_urls.append(full_url)\n",
    "    \n",
    "    return formatted_urls"
   ]
  },
  {
   "cell_type": "code",
   "execution_count": 93,
   "id": "f068cf35-8e5f-4f31-85e3-465f8cb68c21",
   "metadata": {},
   "outputs": [
    {
     "name": "stdout",
     "output_type": "stream",
     "text": [
      "https://development.teamsystem.com/docs/default/Component/vapor-react/BEST_PRACTICE#there-are-some-ways-to-create-a-new-component\n"
     ]
    }
   ],
   "source": [
    "print_rows(search(\"i want to create a new component\", 1));"
   ]
  },
  {
   "cell_type": "code",
   "execution_count": null,
   "id": "60af19ff-cc7a-4678-8d9b-182204f5a6b5",
   "metadata": {},
   "outputs": [],
   "source": []
  }
 ],
 "metadata": {
  "kernelspec": {
   "display_name": "Python 3 (ipykernel)",
   "language": "python",
   "name": "python3"
  },
  "language_info": {
   "codemirror_mode": {
    "name": "ipython",
    "version": 3
   },
   "file_extension": ".py",
   "mimetype": "text/x-python",
   "name": "python",
   "nbconvert_exporter": "python",
   "pygments_lexer": "ipython3",
   "version": "3.9.18"
  }
 },
 "nbformat": 4,
 "nbformat_minor": 5
}
